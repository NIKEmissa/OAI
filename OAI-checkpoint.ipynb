{
 "cells": [
  {
   "cell_type": "code",
   "execution_count": 1,
   "metadata": {},
   "outputs": [
    {
     "name": "stderr",
     "output_type": "stream",
     "text": [
      "/home/xzhe/PycharmProjects/Openaiexample/venv/lib/python3.5/site-packages/h5py/__init__.py:36: FutureWarning: Conversion of the second argument of issubdtype from `float` to `np.floating` is deprecated. In future, it will be treated as `np.float64 == np.dtype(float).type`.\n  from ._conv import register_converters as _register_converters\n"
     ]
    },
    {
     "name": "stdout",
     "output_type": "stream",
     "text": [
      "\u001b[33mWARN: gym.spaces.Box autodetected dtype as <class 'numpy.float32'>. Please provide explicit dtype.\u001b[0m\n"
     ]
    }
   ],
   "source": [
    "import gym\n",
    "import random\n",
    "import numpy as np\n",
    "import tflearn\n",
    "from tflearn.layers.core import input_data, dropout, fully_connected\n",
    "from tflearn.layers.estimator import regression\n",
    "from statistics import mean, median\n",
    "from collections import Counter\n",
    "\n",
    "LR = 1e-3\n",
    "env = gym.make('CartPole-v0').env\n",
    "env.reset()\n",
    "goal_steps = 5000\n",
    "score_requirement = 50\n",
    "initial_games = 10000\n",
    "\n",
    "def some_random_games_first():\n",
    "    for episode in range(5):\n",
    "        env.reset()\n",
    "        accumulation = 0\n",
    "        for t in range(goal_steps):\n",
    "            env.render()\n",
    "            # action = env.action_space.sample()\n",
    "            action = random.randrange(0,2)\n",
    "            observation, reward, done, info = env.step(action)\n",
    "\n",
    "            accumulation += reward\n",
    "            input()\n",
    "            print('reward:', reward, ' accumulation:', accumulation)\n",
    "            print(action)\n",
    "\n",
    "            if done:\n",
    "                break\n",
    "# some_random_games_first()\n",
    "\n",
    "def initial_population():\n",
    "    training_data = []\n",
    "    scores = []\n",
    "    accepted_scores = []\n",
    "    for _ in range(initial_games):\n",
    "        # print(_)\n",
    "        score = 0\n",
    "        game_memory = []\n",
    "        prev_observation = []\n",
    "        for _ in range(goal_steps):\n",
    "            # env.render()\n",
    "            action = random.randrange(0,2)\n",
    "            observation, reward, done, info = env.step(action)\n",
    "\n",
    "            if len(prev_observation) > 0:\n",
    "                game_memory.append([prev_observation, action])\n",
    "\n",
    "            prev_observation = observation\n",
    "            score += reward\n",
    "            # print('score:',score,', reward:',reward)\n",
    "            # input()\n",
    "            if done:\n",
    "                break\n",
    "\n",
    "        if score >= score_requirement:\n",
    "            accepted_scores.append(score)\n",
    "            for data in game_memory:\n",
    "                if data[1] == 1:\n",
    "                    output = [0,1]\n",
    "                elif data[1] == 0:\n",
    "                    output = [1,0]\n",
    "\n",
    "                training_data.append([data[0], output])\n",
    "\n",
    "        env.reset()\n",
    "        scores.append(score)\n",
    "\n",
    "    training_data_save = np.array(training_data)\n",
    "    np.save('saved.npy', training_data_save)\n",
    "\n",
    "    print('Average accepted score:', mean(accepted_scores))\n",
    "    print('Median accepted score:', median(accepted_scores))\n",
    "    print(Counter(accepted_scores))\n",
    "\n",
    "    return training_data\n",
    "\n",
    "\n",
    "def neural_network_model(input_size):\n",
    "    network = input_data(shape=[None, input_size, 1], name='input')\n",
    "\n",
    "    network = fully_connected(network, 128, activation='relu')\n",
    "    network = dropout(network, 0.8)\n",
    "\n",
    "    network = fully_connected(network, 256, activation='relu')\n",
    "    network = dropout(network, 0.8)\n",
    "\n",
    "    network = fully_connected(network, 512, activation='relu')\n",
    "    network = dropout(network, 0.8)\n",
    "\n",
    "    network = fully_connected(network, 256, activation='relu')\n",
    "    network = dropout(network, 0.8)\n",
    "\n",
    "    network = fully_connected(network, 128, activation='relu')\n",
    "    network = dropout(network, 0.8)\n",
    "\n",
    "    network = fully_connected(network, 2, activation='softmax')\n",
    "    network = regression(network, optimizer='adam', learning_rate=LR, loss='categorical_crossentropy', name='targets')\n",
    "\n",
    "    model=tflearn.DNN(network, tensorboard_dir='log')\n",
    "\n",
    "    return model\n",
    "\n",
    "def train_model(training_data, model=False):\n",
    "    x = np.array([i[0] for i in training_data]).reshape(-1, len(training_data[0][0]), 1)\n",
    "    y = [i[1] for i in training_data]\n",
    "\n",
    "    if not model:\n",
    "        model = neural_network_model(input_size= len(x[0]))\n",
    "\n",
    "    model.fit({'input': x}, {'targets': y}, n_epoch=3, snapshot_step=50, show_metric=True, run_id='openaistuff')\n",
    "\n",
    "    return model\n",
    "\n"
   ]
  },
  {
   "cell_type": "code",
   "execution_count": 2,
   "metadata": {},
   "outputs": [
    {
     "name": "stdout",
     "output_type": "stream",
     "text": [
      "Average accepted score: 61.36827195467422\nMedian accepted score: 57.0\nCounter({55.0: 29, 50.0: 27, 56.0: 24, 51.0: 21, 53.0: 21, 54.0: 20, 52.0: 19, 57.0: 16, 60.0: 16, 59.0: 14, 58.0: 13, 66.0: 11, 62.0: 10, 61.0: 9, 67.0: 9, 70.0: 9, 65.0: 8, 69.0: 7, 76.0: 7, 64.0: 6, 73.0: 5, 81.0: 5, 63.0: 4, 71.0: 4, 72.0: 4, 80.0: 4, 68.0: 3, 86.0: 3, 77.0: 2, 84.0: 2, 85.0: 2, 88.0: 2, 75.0: 1, 78.0: 1, 79.0: 1, 82.0: 1, 83.0: 1, 87.0: 1, 89.0: 1, 90.0: 1, 91.0: 1, 93.0: 1, 94.0: 1, 98.0: 1, 100.0: 1, 102.0: 1, 107.0: 1, 115.0: 1, 116.0: 1})\n"
     ]
    }
   ],
   "source": [
    "training_data = initial_population()"
   ]
  },
  {
   "cell_type": "code",
   "execution_count": 3,
   "metadata": {},
   "outputs": [
    {
     "name": "stdout",
     "output_type": "stream",
     "text": [
      "WARNING:tensorflow:From /home/xzhe/PycharmProjects/Openaiexample/venv/lib/python3.5/site-packages/tflearn/objectives.py:66: calling reduce_sum (from tensorflow.python.ops.math_ops) with keep_dims is deprecated and will be removed in a future version.\nInstructions for updating:\nkeep_dims is deprecated, use keepdims instead\n"
     ]
    },
    {
     "name": "stdout",
     "output_type": "stream",
     "text": [
      "---------------------------------\nRun id: openaistuff\nLog directory: log/\n"
     ]
    },
    {
     "name": "stdout",
     "output_type": "stream",
     "text": [
      "INFO:tensorflow:Summary name Accuracy/ (raw) is illegal; using Accuracy/__raw_ instead.\n"
     ]
    },
    {
     "name": "stdout",
     "output_type": "stream",
     "text": [
      "---------------------------------\nTraining samples: 21310\nValidation samples: 0\n--\n"
     ]
    },
    {
     "name": "stdout",
     "output_type": "stream",
     "text": [
      "Training Step: 1  | time: 0.289s\n\u001b[2K\r| Adam | epoch: 001 | loss: 0.00000 - acc: 0.0000 -- iter: 00064/21310\n"
     ]
    },
    {
     "name": "stdout",
     "output_type": "stream",
     "text": [
      "Training Step: 2  | total loss: \u001b[1m\u001b[32m0.62383\u001b[0m\u001b[0m | time: 0.319s\n\u001b[2K\r| Adam | epoch: 001 | loss: 0.62383 - acc: 0.3937 -- iter: 00128/21310\n"
     ]
    },
    {
     "name": "stdout",
     "output_type": "stream",
     "text": [
      "Training Step: 3  | total loss: \u001b[1m\u001b[32m0.68035\u001b[0m\u001b[0m | time: 0.340s\n\u001b[2K\r| Adam | epoch: 001 | loss: 0.68035 - acc: 0.5702 -- iter: 00192/21310\n"
     ]
    },
    {
     "name": "stdout",
     "output_type": "stream",
     "text": [
      "Training Step: 4  | total loss: \u001b[1m\u001b[32m0.69007\u001b[0m\u001b[0m | time: 0.362s\n\u001b[2K\r| Adam | epoch: 001 | loss: 0.69007 - acc: 0.4941 -- iter: 00256/21310\n"
     ]
    },
    {
     "name": "stdout",
     "output_type": "stream",
     "text": [
      "Training Step: 5  | total loss: \u001b[1m\u001b[32m0.69279\u001b[0m\u001b[0m | time: 0.392s\n\u001b[2K\r| Adam | epoch: 001 | loss: 0.69279 - acc: 0.4116 -- iter: 00320/21310\n"
     ]
    },
    {
     "name": "stdout",
     "output_type": "stream",
     "text": [
      "Training Step: 6  | total loss: \u001b[1m\u001b[32m0.69267\u001b[0m\u001b[0m | time: 0.411s\n\u001b[2K\r| Adam | epoch: 001 | loss: 0.69267 - acc: 0.5287 -- iter: 00384/21310\n"
     ]
    },
    {
     "name": "stdout",
     "output_type": "stream",
     "text": [
      "Training Step: 7  | total loss: \u001b[1m\u001b[32m0.69261\u001b[0m\u001b[0m | time: 0.429s\n\u001b[2K\r| Adam | epoch: 001 | loss: 0.69261 - acc: 0.5677 -- iter: 00448/21310\n"
     ]
    },
    {
     "name": "stdout",
     "output_type": "stream",
     "text": [
      "Training Step: 8  | total loss: \u001b[1m\u001b[32m0.69302\u001b[0m\u001b[0m | time: 0.449s\n\u001b[2K\r| Adam | epoch: 001 | loss: 0.69302 - acc: 0.5121 -- iter: 00512/21310\n"
     ]
    },
    {
     "name": "stdout",
     "output_type": "stream",
     "text": [
      "Training Step: 9  | total loss: \u001b[1m\u001b[32m0.69355\u001b[0m\u001b[0m | time: 0.460s\n\u001b[2K\r| Adam | epoch: 001 | loss: 0.69355 - acc: 0.4478 -- iter: 00576/21310\n"
     ]
    },
    {
     "name": "stdout",
     "output_type": "stream",
     "text": [
      "Training Step: 10  | total loss: \u001b[1m\u001b[32m0.69345\u001b[0m\u001b[0m | time: 0.491s\n\u001b[2K\r| Adam | epoch: 001 | loss: 0.69345 - acc: 0.4583 -- iter: 00640/21310\n"
     ]
    },
    {
     "name": "stdout",
     "output_type": "stream",
     "text": [
      "Training Step: 11  | total loss: \u001b[1m\u001b[32m0.69320\u001b[0m\u001b[0m | time: 0.513s\n\u001b[2K\r| Adam | epoch: 001 | loss: 0.69320 - acc: 0.4928 -- iter: 00704/21310\n"
     ]
    },
    {
     "name": "stdout",
     "output_type": "stream",
     "text": [
      "Training Step: 12  | total loss: \u001b[1m\u001b[32m0.69310\u001b[0m\u001b[0m | time: 0.527s\n\u001b[2K\r| Adam | epoch: 001 | loss: 0.69310 - acc: 0.5101 -- iter: 00768/21310\n"
     ]
    },
    {
     "name": "stdout",
     "output_type": "stream",
     "text": [
      "Training Step: 13  | total loss: \u001b[1m\u001b[32m0.69307\u001b[0m\u001b[0m | time: 0.548s\n\u001b[2K\r| Adam | epoch: 001 | loss: 0.69307 - acc: 0.5125 -- iter: 00832/21310\n"
     ]
    },
    {
     "name": "stdout",
     "output_type": "stream",
     "text": [
      "Training Step: 14  | total loss: \u001b[1m\u001b[32m0.69332\u001b[0m\u001b[0m | time: 0.560s\n\u001b[2K\r| Adam | epoch: 001 | loss: 0.69332 - acc: 0.4754 -- iter: 00896/21310\n"
     ]
    },
    {
     "name": "stdout",
     "output_type": "stream",
     "text": [
      "Training Step: 15  | total loss: \u001b[1m\u001b[32m0.69312\u001b[0m\u001b[0m | time: 0.571s\n\u001b[2K\r| Adam | epoch: 001 | loss: 0.69312 - acc: 0.5034 -- iter: 00960/21310\n"
     ]
    },
    {
     "name": "stdout",
     "output_type": "stream",
     "text": [
      "Training Step: 16  | total loss: \u001b[1m\u001b[32m0.69307\u001b[0m\u001b[0m | time: 0.593s\n\u001b[2K\r| Adam | epoch: 001 | loss: 0.69307 - acc: 0.5138 -- iter: 01024/21310\n"
     ]
    },
    {
     "name": "stdout",
     "output_type": "stream",
     "text": [
      "Training Step: 17  | total loss: \u001b[1m\u001b[32m0.69304\u001b[0m\u001b[0m | time: 0.612s\n\u001b[2K\r| Adam | epoch: 001 | loss: 0.69304 - acc: 0.5201 -- iter: 01088/21310\n"
     ]
    },
    {
     "name": "stdout",
     "output_type": "stream",
     "text": [
      "Training Step: 18  | total loss: \u001b[1m\u001b[32m0.69291\u001b[0m\u001b[0m | time: 0.624s\n\u001b[2K\r| Adam | epoch: 001 | loss: 0.69291 - acc: 0.5348 -- iter: 01152/21310\n"
     ]
    },
    {
     "name": "stdout",
     "output_type": "stream",
     "text": [
      "Training Step: 19  | total loss: \u001b[1m\u001b[32m0.69296\u001b[0m\u001b[0m | time: 0.641s\n\u001b[2K\r| Adam | epoch: 001 | loss: 0.69296 - acc: 0.5284 -- iter: 01216/21310\n"
     ]
    },
    {
     "name": "stdout",
     "output_type": "stream",
     "text": [
      "Training Step: 20  | total loss: \u001b[1m\u001b[32m0.69322\u001b[0m\u001b[0m | time: 0.653s\n\u001b[2K\r| Adam | epoch: 001 | loss: 0.69322 - acc: 0.4942 -- iter: 01280/21310\n"
     ]
    },
    {
     "name": "stdout",
     "output_type": "stream",
     "text": [
      "Training Step: 21  | total loss: \u001b[1m\u001b[32m0.69333\u001b[0m\u001b[0m | time: 0.675s\n\u001b[2K\r| Adam | epoch: 001 | loss: 0.69333 - acc: 0.4814 -- iter: 01344/21310\n"
     ]
    },
    {
     "name": "stdout",
     "output_type": "stream",
     "text": [
      "Training Step: 22  | total loss: \u001b[1m\u001b[32m0.69348\u001b[0m\u001b[0m | time: 0.698s\n\u001b[2K\r| Adam | epoch: 001 | loss: 0.69348 - acc: 0.4636 -- iter: 01408/21310\n"
     ]
    },
    {
     "name": "stdout",
     "output_type": "stream",
     "text": [
      "Training Step: 23  | total loss: \u001b[1m\u001b[32m0.69347\u001b[0m\u001b[0m | time: 0.719s\n\u001b[2K\r| Adam | epoch: 001 | loss: 0.69347 - acc: 0.4605 -- iter: 01472/21310\n"
     ]
    },
    {
     "name": "stdout",
     "output_type": "stream",
     "text": [
      "Training Step: 24  | total loss: \u001b[1m\u001b[32m0.69323\u001b[0m\u001b[0m | time: 0.732s\n\u001b[2K\r| Adam | epoch: 001 | loss: 0.69323 - acc: 0.4892 -- iter: 01536/21310\n"
     ]
    },
    {
     "name": "stdout",
     "output_type": "stream",
     "text": [
      "Training Step: 25  | total loss: \u001b[1m\u001b[32m0.69317\u001b[0m\u001b[0m | time: 0.750s\n\u001b[2K\r| Adam | epoch: 001 | loss: 0.69317 - acc: 0.4964 -- iter: 01600/21310\n"
     ]
    },
    {
     "name": "stdout",
     "output_type": "stream",
     "text": [
      "Training Step: 26  | total loss: \u001b[1m\u001b[32m0.69314\u001b[0m\u001b[0m | time: 0.770s\n\u001b[2K\r| Adam | epoch: 001 | loss: 0.69314 - acc: 0.4974 -- iter: 01664/21310\n"
     ]
    },
    {
     "name": "stdout",
     "output_type": "stream",
     "text": [
      "Training Step: 27  | total loss: \u001b[1m\u001b[32m0.69315\u001b[0m\u001b[0m | time: 0.783s\n\u001b[2K\r| Adam | epoch: 001 | loss: 0.69315 - acc: 0.4900 -- iter: 01728/21310\n"
     ]
    },
    {
     "name": "stdout",
     "output_type": "stream",
     "text": [
      "Training Step: 28  | total loss: \u001b[1m\u001b[32m0.69299\u001b[0m\u001b[0m | time: 0.805s\n\u001b[2K\r| Adam | epoch: 001 | loss: 0.69299 - acc: 0.5120 -- iter: 01792/21310\n"
     ]
    },
    {
     "name": "stdout",
     "output_type": "stream",
     "text": [
      "Training Step: 29  | total loss: \u001b[1m\u001b[32m0.69294\u001b[0m\u001b[0m | time: 0.823s\n\u001b[2K\r| Adam | epoch: 001 | loss: 0.69294 - acc: 0.5129 -- iter: 01856/21310\n"
     ]
    },
    {
     "name": "stdout",
     "output_type": "stream",
     "text": [
      "Training Step: 30  | total loss: \u001b[1m\u001b[32m0.69320\u001b[0m\u001b[0m | time: 0.840s\n\u001b[2K\r| Adam | epoch: 001 | loss: 0.69320 - acc: 0.4839 -- iter: 01920/21310\n"
     ]
    },
    {
     "name": "stdout",
     "output_type": "stream",
     "text": [
      "Training Step: 31  | total loss: \u001b[1m\u001b[32m0.69322\u001b[0m\u001b[0m | time: 0.862s\n\u001b[2K\r| Adam | epoch: 001 | loss: 0.69322 - acc: 0.4768 -- iter: 01984/21310\n"
     ]
    },
    {
     "name": "stdout",
     "output_type": "stream",
     "text": [
      "Training Step: 32  | total loss: \u001b[1m\u001b[32m0.69323\u001b[0m\u001b[0m | time: 0.872s\n\u001b[2K\r| Adam | epoch: 001 | loss: 0.69323 - acc: 0.4680 -- iter: 02048/21310\n"
     ]
    },
    {
     "name": "stdout",
     "output_type": "stream",
     "text": [
      "Training Step: 33  | total loss: \u001b[1m\u001b[32m0.69312\u001b[0m\u001b[0m | time: 0.885s\n\u001b[2K\r| Adam | epoch: 001 | loss: 0.69312 - acc: 0.4819 -- iter: 02112/21310\n"
     ]
    },
    {
     "name": "stdout",
     "output_type": "stream",
     "text": [
      "Training Step: 34  | total loss: \u001b[1m\u001b[32m0.69301\u001b[0m\u001b[0m | time: 0.901s\n\u001b[2K\r| Adam | epoch: 001 | loss: 0.69301 - acc: 0.4791 -- iter: 02176/21310\n"
     ]
    },
    {
     "name": "stdout",
     "output_type": "stream",
     "text": [
      "Training Step: 35  | total loss: \u001b[1m\u001b[32m0.69283\u001b[0m\u001b[0m | time: 0.910s\n\u001b[2K\r| Adam | epoch: 001 | loss: 0.69283 - acc: 0.4933 -- iter: 02240/21310\n"
     ]
    },
    {
     "name": "stdout",
     "output_type": "stream",
     "text": [
      "Training Step: 36  | total loss: \u001b[1m\u001b[32m0.69277\u001b[0m\u001b[0m | time: 0.920s\n\u001b[2K\r| Adam | epoch: 001 | loss: 0.69277 - acc: 0.5010 -- iter: 02304/21310\n"
     ]
    },
    {
     "name": "stdout",
     "output_type": "stream",
     "text": [
      "Training Step: 37  | total loss: \u001b[1m\u001b[32m0.69237\u001b[0m\u001b[0m | time: 0.929s\n\u001b[2K\r| Adam | epoch: 001 | loss: 0.69237 - acc: 0.5102 -- iter: 02368/21310\n"
     ]
    },
    {
     "name": "stdout",
     "output_type": "stream",
     "text": [
      "Training Step: 38  | total loss: \u001b[1m\u001b[32m0.69185\u001b[0m\u001b[0m | time: 0.949s\n\u001b[2K\r| Adam | epoch: 001 | loss: 0.69185 - acc: 0.5388 -- iter: 02432/21310\n"
     ]
    },
    {
     "name": "stdout",
     "output_type": "stream",
     "text": [
      "Training Step: 39  | total loss: \u001b[1m\u001b[32m0.69200\u001b[0m\u001b[0m | time: 0.962s\n\u001b[2K\r| Adam | epoch: 001 | loss: 0.69200 - acc: 0.5313 -- iter: 02496/21310\n"
     ]
    },
    {
     "name": "stdout",
     "output_type": "stream",
     "text": [
      "Training Step: 40  | total loss: \u001b[1m\u001b[32m0.69132\u001b[0m\u001b[0m | time: 0.977s\n\u001b[2K\r| Adam | epoch: 001 | loss: 0.69132 - acc: 0.5343 -- iter: 02560/21310\n"
     ]
    },
    {
     "name": "stdout",
     "output_type": "stream",
     "text": [
      "Training Step: 41  | total loss: \u001b[1m\u001b[32m0.69172\u001b[0m\u001b[0m | time: 1.004s\n\u001b[2K\r| Adam | epoch: 001 | loss: 0.69172 - acc: 0.5452 -- iter: 02624/21310\n"
     ]
    },
    {
     "name": "stdout",
     "output_type": "stream",
     "text": [
      "Training Step: 42  | total loss: \u001b[1m\u001b[32m0.69066\u001b[0m\u001b[0m | time: 1.017s\n\u001b[2K\r| Adam | epoch: 001 | loss: 0.69066 - acc: 0.5483 -- iter: 02688/21310\n"
     ]
    },
    {
     "name": "stdout",
     "output_type": "stream",
     "text": [
      "Training Step: 43  | total loss: \u001b[1m\u001b[32m0.69231\u001b[0m\u001b[0m | time: 1.039s\n\u001b[2K\r| Adam | epoch: 001 | loss: 0.69231 - acc: 0.5343 -- iter: 02752/21310\n"
     ]
    },
    {
     "name": "stdout",
     "output_type": "stream",
     "text": [
      "Training Step: 44  | total loss: \u001b[1m\u001b[32m0.69210\u001b[0m\u001b[0m | time: 1.067s\n\u001b[2K\r| Adam | epoch: 001 | loss: 0.69210 - acc: 0.5283 -- iter: 02816/21310\n"
     ]
    },
    {
     "name": "stdout",
     "output_type": "stream",
     "text": [
      "Training Step: 45  | total loss: \u001b[1m\u001b[32m0.69189\u001b[0m\u001b[0m | time: 1.078s\n\u001b[2K\r| Adam | epoch: 001 | loss: 0.69189 - acc: 0.5156 -- iter: 02880/21310\n"
     ]
    },
    {
     "name": "stdout",
     "output_type": "stream",
     "text": [
      "Training Step: 46  | total loss: \u001b[1m\u001b[32m0.69212\u001b[0m\u001b[0m | time: 1.089s\n\u001b[2K\r| Adam | epoch: 001 | loss: 0.69212 - acc: 0.5130 -- iter: 02944/21310\n"
     ]
    },
    {
     "name": "stdout",
     "output_type": "stream",
     "text": [
      "Training Step: 47  | total loss: \u001b[1m\u001b[32m0.68942\u001b[0m\u001b[0m | time: 1.109s\n\u001b[2K\r| Adam | epoch: 001 | loss: 0.68942 - acc: 0.5211 -- iter: 03008/21310\n"
     ]
    },
    {
     "name": "stdout",
     "output_type": "stream",
     "text": [
      "Training Step: 48  | total loss: \u001b[1m\u001b[32m0.68615\u001b[0m\u001b[0m | time: 1.122s\n\u001b[2K\r| Adam | epoch: 001 | loss: 0.68615 - acc: 0.5428 -- iter: 03072/21310\n"
     ]
    },
    {
     "name": "stdout",
     "output_type": "stream",
     "text": [
      "Training Step: 49  | total loss: \u001b[1m\u001b[32m0.68615\u001b[0m\u001b[0m | time: 1.131s\n\u001b[2K\r| Adam | epoch: 001 | loss: 0.68615 - acc: 0.5336 -- iter: 03136/21310\n"
     ]
    },
    {
     "name": "stdout",
     "output_type": "stream",
     "text": [
      "Training Step: 50  | total loss: \u001b[1m\u001b[32m0.68837\u001b[0m\u001b[0m | time: 1.145s\n\u001b[2K\r| Adam | epoch: 001 | loss: 0.68837 - acc: 0.5332 -- iter: 03200/21310\n--\n"
     ]
    },
    {
     "name": "stdout",
     "output_type": "stream",
     "text": [
      "Training Step: 51  | total loss: \u001b[1m\u001b[32m0.69161\u001b[0m\u001b[0m | time: 1.163s\n\u001b[2K\r| Adam | epoch: 001 | loss: 0.69161 - acc: 0.5281 -- iter: 03264/21310\n"
     ]
    },
    {
     "name": "stdout",
     "output_type": "stream",
     "text": [
      "Training Step: 52  | total loss: \u001b[1m\u001b[32m0.69193\u001b[0m\u001b[0m | time: 1.173s\n\u001b[2K\r| Adam | epoch: 001 | loss: 0.69193 - acc: 0.5380 -- iter: 03328/21310\n"
     ]
    },
    {
     "name": "stdout",
     "output_type": "stream",
     "text": [
      "Training Step: 53  | total loss: \u001b[1m\u001b[32m0.69091\u001b[0m\u001b[0m | time: 1.183s\n\u001b[2K\r| Adam | epoch: 001 | loss: 0.69091 - acc: 0.5301 -- iter: 03392/21310\n"
     ]
    },
    {
     "name": "stdout",
     "output_type": "stream",
     "text": [
      "Training Step: 54  | total loss: \u001b[1m\u001b[32m0.68989\u001b[0m\u001b[0m | time: 1.193s\n\u001b[2K\r| Adam | epoch: 001 | loss: 0.68989 - acc: 0.5507 -- iter: 03456/21310\n"
     ]
    },
    {
     "name": "stdout",
     "output_type": "stream",
     "text": [
      "Training Step: 55  | total loss: \u001b[1m\u001b[32m0.68648\u001b[0m\u001b[0m | time: 1.212s\n\u001b[2K\r| Adam | epoch: 001 | loss: 0.68648 - acc: 0.5635 -- iter: 03520/21310\n"
     ]
    },
    {
     "name": "stdout",
     "output_type": "stream",
     "text": [
      "Training Step: 56  | total loss: \u001b[1m\u001b[32m0.68568\u001b[0m\u001b[0m | time: 1.224s\n\u001b[2K\r| Adam | epoch: 001 | loss: 0.68568 - acc: 0.5656 -- iter: 03584/21310\n"
     ]
    },
    {
     "name": "stdout",
     "output_type": "stream",
     "text": [
      "Training Step: 57  | total loss: \u001b[1m\u001b[32m0.68499\u001b[0m\u001b[0m | time: 1.236s\n\u001b[2K\r| Adam | epoch: 001 | loss: 0.68499 - acc: 0.5760 -- iter: 03648/21310\n"
     ]
    },
    {
     "name": "stdout",
     "output_type": "stream",
     "text": [
      "Training Step: 58  | total loss: \u001b[1m\u001b[32m0.68070\u001b[0m\u001b[0m | time: 1.247s\n\u001b[2K\r| Adam | epoch: 001 | loss: 0.68070 - acc: 0.5826 -- iter: 03712/21310\n"
     ]
    },
    {
     "name": "stdout",
     "output_type": "stream",
     "text": [
      "Training Step: 59  | total loss: \u001b[1m\u001b[32m0.67892\u001b[0m\u001b[0m | time: 1.276s\n\u001b[2K\r| Adam | epoch: 001 | loss: 0.67892 - acc: 0.5967 -- iter: 03776/21310\n"
     ]
    },
    {
     "name": "stdout",
     "output_type": "stream",
     "text": [
      "Training Step: 60  | total loss: \u001b[1m\u001b[32m0.68115\u001b[0m\u001b[0m | time: 1.289s\n\u001b[2K\r| Adam | epoch: 001 | loss: 0.68115 - acc: 0.5881 -- iter: 03840/21310\n"
     ]
    },
    {
     "name": "stdout",
     "output_type": "stream",
     "text": [
      "Training Step: 61  | total loss: \u001b[1m\u001b[32m0.68396\u001b[0m\u001b[0m | time: 1.313s\n\u001b[2K\r| Adam | epoch: 001 | loss: 0.68396 - acc: 0.5888 -- iter: 03904/21310\n"
     ]
    },
    {
     "name": "stdout",
     "output_type": "stream",
     "text": [
      "Training Step: 62  | total loss: \u001b[1m\u001b[32m0.68495\u001b[0m\u001b[0m | time: 1.323s\n\u001b[2K\r| Adam | epoch: 001 | loss: 0.68495 - acc: 0.5874 -- iter: 03968/21310\n"
     ]
    },
    {
     "name": "stdout",
     "output_type": "stream",
     "text": [
      "Training Step: 63  | total loss: \u001b[1m\u001b[32m0.68924\u001b[0m\u001b[0m | time: 1.337s\n\u001b[2K\r| Adam | epoch: 001 | loss: 0.68924 - acc: 0.5783 -- iter: 04032/21310\n"
     ]
    },
    {
     "name": "stdout",
     "output_type": "stream",
     "text": [
      "Training Step: 64  | total loss: \u001b[1m\u001b[32m0.68802\u001b[0m\u001b[0m | time: 1.363s\n\u001b[2K\r| Adam | epoch: 001 | loss: 0.68802 - acc: 0.5783 -- iter: 04096/21310\n"
     ]
    },
    {
     "name": "stdout",
     "output_type": "stream",
     "text": [
      "Training Step: 65  | total loss: \u001b[1m\u001b[32m0.68747\u001b[0m\u001b[0m | time: 1.398s\n\u001b[2K\r| Adam | epoch: 001 | loss: 0.68747 - acc: 0.5706 -- iter: 04160/21310\n"
     ]
    },
    {
     "name": "stdout",
     "output_type": "stream",
     "text": [
      "Training Step: 66  | total loss: \u001b[1m\u001b[32m0.68751\u001b[0m\u001b[0m | time: 1.411s\n\u001b[2K\r| Adam | epoch: 001 | loss: 0.68751 - acc: 0.5791 -- iter: 04224/21310\n"
     ]
    },
    {
     "name": "stdout",
     "output_type": "stream",
     "text": [
      "Training Step: 67  | total loss: \u001b[1m\u001b[32m0.68729\u001b[0m\u001b[0m | time: 1.425s\n\u001b[2K\r| Adam | epoch: 001 | loss: 0.68729 - acc: 0.5790 -- iter: 04288/21310\n"
     ]
    },
    {
     "name": "stdout",
     "output_type": "stream",
     "text": [
      "Training Step: 68  | total loss: \u001b[1m\u001b[32m0.68632\u001b[0m\u001b[0m | time: 1.439s\n\u001b[2K\r| Adam | epoch: 001 | loss: 0.68632 - acc: 0.5807 -- iter: 04352/21310\n"
     ]
    },
    {
     "name": "stdout",
     "output_type": "stream",
     "text": [
      "Training Step: 69  | total loss: \u001b[1m\u001b[32m0.68657\u001b[0m\u001b[0m | time: 1.460s\n\u001b[2K\r| Adam | epoch: 001 | loss: 0.68657 - acc: 0.5786 -- iter: 04416/21310\n"
     ]
    },
    {
     "name": "stdout",
     "output_type": "stream",
     "text": [
      "Training Step: 70  | total loss: \u001b[1m\u001b[32m0.68499\u001b[0m\u001b[0m | time: 1.473s\n\u001b[2K\r| Adam | epoch: 001 | loss: 0.68499 - acc: 0.5912 -- iter: 04480/21310\n"
     ]
    },
    {
     "name": "stdout",
     "output_type": "stream",
     "text": [
      "Training Step: 71  | total loss: \u001b[1m\u001b[32m0.68453\u001b[0m\u001b[0m | time: 1.483s\n\u001b[2K\r| Adam | epoch: 001 | loss: 0.68453 - acc: 0.5950 -- iter: 04544/21310\n"
     ]
    },
    {
     "name": "stdout",
     "output_type": "stream",
     "text": [
      "Training Step: 72  | total loss: \u001b[1m\u001b[32m0.68313\u001b[0m\u001b[0m | time: 1.507s\n\u001b[2K\r| Adam | epoch: 001 | loss: 0.68313 - acc: 0.6001 -- iter: 04608/21310\n"
     ]
    },
    {
     "name": "stdout",
     "output_type": "stream",
     "text": [
      "Training Step: 73  | total loss: \u001b[1m\u001b[32m0.68104\u001b[0m\u001b[0m | time: 1.524s\n\u001b[2K\r| Adam | epoch: 001 | loss: 0.68104 - acc: 0.6133 -- iter: 04672/21310\n"
     ]
    },
    {
     "name": "stdout",
     "output_type": "stream",
     "text": [
      "Training Step: 74  | total loss: \u001b[1m\u001b[32m0.68163\u001b[0m\u001b[0m | time: 1.549s\n\u001b[2K\r| Adam | epoch: 001 | loss: 0.68163 - acc: 0.6077 -- iter: 04736/21310\n"
     ]
    },
    {
     "name": "stdout",
     "output_type": "stream",
     "text": [
      "Training Step: 75  | total loss: \u001b[1m\u001b[32m0.67877\u001b[0m\u001b[0m | time: 1.564s\n\u001b[2K\r| Adam | epoch: 001 | loss: 0.67877 - acc: 0.6130 -- iter: 04800/21310\n"
     ]
    },
    {
     "name": "stdout",
     "output_type": "stream",
     "text": [
      "Training Step: 76  | total loss: \u001b[1m\u001b[32m0.68088\u001b[0m\u001b[0m | time: 1.579s\n\u001b[2K\r| Adam | epoch: 001 | loss: 0.68088 - acc: 0.6076 -- iter: 04864/21310\n"
     ]
    },
    {
     "name": "stdout",
     "output_type": "stream",
     "text": [
      "Training Step: 77  | total loss: \u001b[1m\u001b[32m0.68198\u001b[0m\u001b[0m | time: 1.590s\n\u001b[2K\r| Adam | epoch: 001 | loss: 0.68198 - acc: 0.5995 -- iter: 04928/21310\n"
     ]
    },
    {
     "name": "stdout",
     "output_type": "stream",
     "text": [
      "Training Step: 78  | total loss: \u001b[1m\u001b[32m0.67975\u001b[0m\u001b[0m | time: 1.606s\n\u001b[2K\r| Adam | epoch: 001 | loss: 0.67975 - acc: 0.6038 -- iter: 04992/21310\n"
     ]
    },
    {
     "name": "stdout",
     "output_type": "stream",
     "text": [
      "Training Step: 79  | total loss: \u001b[1m\u001b[32m0.67692\u001b[0m\u001b[0m | time: 1.623s\n\u001b[2K\r| Adam | epoch: 001 | loss: 0.67692 - acc: 0.6060 -- iter: 05056/21310\n"
     ]
    },
    {
     "name": "stdout",
     "output_type": "stream",
     "text": [
      "Training Step: 80  | total loss: \u001b[1m\u001b[32m0.67790\u001b[0m\u001b[0m | time: 1.635s\n\u001b[2K\r| Adam | epoch: 001 | loss: 0.67790 - acc: 0.6032 -- iter: 05120/21310\n"
     ]
    },
    {
     "name": "stdout",
     "output_type": "stream",
     "text": [
      "Training Step: 81  | total loss: \u001b[1m\u001b[32m0.67625\u001b[0m\u001b[0m | time: 1.657s\n\u001b[2K\r| Adam | epoch: 001 | loss: 0.67625 - acc: 0.6133 -- iter: 05184/21310\n"
     ]
    },
    {
     "name": "stdout",
     "output_type": "stream",
     "text": [
      "Training Step: 82  | total loss: \u001b[1m\u001b[32m0.67235\u001b[0m\u001b[0m | time: 1.674s\n\u001b[2K\r| Adam | epoch: 001 | loss: 0.67235 - acc: 0.6144 -- iter: 05248/21310\n"
     ]
    },
    {
     "name": "stdout",
     "output_type": "stream",
     "text": [
      "Training Step: 83  | total loss: \u001b[1m\u001b[32m0.67286\u001b[0m\u001b[0m | time: 1.690s\n\u001b[2K\r| Adam | epoch: 001 | loss: 0.67286 - acc: 0.6092 -- iter: 05312/21310\n"
     ]
    },
    {
     "name": "stdout",
     "output_type": "stream",
     "text": [
      "Training Step: 84  | total loss: \u001b[1m\u001b[32m0.67792\u001b[0m\u001b[0m | time: 1.702s\n\u001b[2K\r| Adam | epoch: 001 | loss: 0.67792 - acc: 0.6046 -- iter: 05376/21310\n"
     ]
    },
    {
     "name": "stdout",
     "output_type": "stream",
     "text": [
      "Training Step: 85  | total loss: \u001b[1m\u001b[32m0.67636\u001b[0m\u001b[0m | time: 1.712s\n\u001b[2K\r| Adam | epoch: 001 | loss: 0.67636 - acc: 0.6066 -- iter: 05440/21310\n"
     ]
    },
    {
     "name": "stdout",
     "output_type": "stream",
     "text": [
      "Training Step: 86  | total loss: \u001b[1m\u001b[32m0.67226\u001b[0m\u001b[0m | time: 1.724s\n\u001b[2K\r| Adam | epoch: 001 | loss: 0.67226 - acc: 0.6085 -- iter: 05504/21310\n"
     ]
    },
    {
     "name": "stdout",
     "output_type": "stream",
     "text": [
      "Training Step: 87  | total loss: \u001b[1m\u001b[32m0.66924\u001b[0m\u001b[0m | time: 1.745s\n\u001b[2K\r| Adam | epoch: 001 | loss: 0.66924 - acc: 0.6132 -- iter: 05568/21310\n"
     ]
    },
    {
     "name": "stdout",
     "output_type": "stream",
     "text": [
      "Training Step: 88  | total loss: \u001b[1m\u001b[32m0.67064\u001b[0m\u001b[0m | time: 1.765s\n\u001b[2K\r| Adam | epoch: 001 | loss: 0.67064 - acc: 0.6082 -- iter: 05632/21310\n"
     ]
    },
    {
     "name": "stdout",
     "output_type": "stream",
     "text": [
      "Training Step: 89  | total loss: \u001b[1m\u001b[32m0.67144\u001b[0m\u001b[0m | time: 1.786s\n\u001b[2K\r| Adam | epoch: 001 | loss: 0.67144 - acc: 0.6067 -- iter: 05696/21310\n"
     ]
    },
    {
     "name": "stdout",
     "output_type": "stream",
     "text": [
      "Training Step: 90  | total loss: \u001b[1m\u001b[32m0.66885\u001b[0m\u001b[0m | time: 1.804s\n\u001b[2K\r| Adam | epoch: 001 | loss: 0.66885 - acc: 0.6101 -- iter: 05760/21310\n"
     ]
    },
    {
     "name": "stdout",
     "output_type": "stream",
     "text": [
      "Training Step: 91  | total loss: \u001b[1m\u001b[32m0.67322\u001b[0m\u001b[0m | time: 1.818s\n\u001b[2K\r| Adam | epoch: 001 | loss: 0.67322 - acc: 0.6022 -- iter: 05824/21310\n"
     ]
    },
    {
     "name": "stdout",
     "output_type": "stream",
     "text": [
      "Training Step: 92  | total loss: \u001b[1m\u001b[32m0.67702\u001b[0m\u001b[0m | time: 1.829s\n\u001b[2K\r| Adam | epoch: 001 | loss: 0.67702 - acc: 0.5936 -- iter: 05888/21310\n"
     ]
    },
    {
     "name": "stdout",
     "output_type": "stream",
     "text": [
      "Training Step: 93  | total loss: \u001b[1m\u001b[32m0.68299\u001b[0m\u001b[0m | time: 1.855s\n\u001b[2K\r| Adam | epoch: 001 | loss: 0.68299 - acc: 0.5780 -- iter: 05952/21310\n"
     ]
    },
    {
     "name": "stdout",
     "output_type": "stream",
     "text": [
      "Training Step: 94  | total loss: \u001b[1m\u001b[32m0.68365\u001b[0m\u001b[0m | time: 1.867s\n\u001b[2K\r| Adam | epoch: 001 | loss: 0.68365 - acc: 0.5780 -- iter: 06016/21310\n"
     ]
    },
    {
     "name": "stdout",
     "output_type": "stream",
     "text": [
      "Training Step: 95  | total loss: \u001b[1m\u001b[32m0.68144\u001b[0m\u001b[0m | time: 1.875s\n\u001b[2K\r| Adam | epoch: 001 | loss: 0.68144 - acc: 0.5811 -- iter: 06080/21310\n"
     ]
    },
    {
     "name": "stdout",
     "output_type": "stream",
     "text": [
      "Training Step: 96  | total loss: \u001b[1m\u001b[32m0.68093\u001b[0m\u001b[0m | time: 1.891s\n\u001b[2K\r| Adam | epoch: 001 | loss: 0.68093 - acc: 0.5777 -- iter: 06144/21310\n"
     ]
    },
    {
     "name": "stdout",
     "output_type": "stream",
     "text": [
      "Training Step: 97  | total loss: \u001b[1m\u001b[32m0.67877\u001b[0m\u001b[0m | time: 1.907s\n\u001b[2K\r| Adam | epoch: 001 | loss: 0.67877 - acc: 0.5840 -- iter: 06208/21310\n"
     ]
    },
    {
     "name": "stdout",
     "output_type": "stream",
     "text": [
      "Training Step: 98  | total loss: \u001b[1m\u001b[32m0.68175\u001b[0m\u001b[0m | time: 1.917s\n\u001b[2K\r| Adam | epoch: 001 | loss: 0.68175 - acc: 0.5756 -- iter: 06272/21310\n"
     ]
    },
    {
     "name": "stdout",
     "output_type": "stream",
     "text": [
      "Training Step: 99  | total loss: \u001b[1m\u001b[32m0.68011\u001b[0m\u001b[0m | time: 1.926s\n\u001b[2K\r| Adam | epoch: 001 | loss: 0.68011 - acc: 0.5868 -- iter: 06336/21310\n"
     ]
    },
    {
     "name": "stdout",
     "output_type": "stream",
     "text": [
      "Training Step: 100  | total loss: \u001b[1m\u001b[32m0.67960\u001b[0m\u001b[0m | time: 1.936s\n\u001b[2K\r| Adam | epoch: 001 | loss: 0.67960 - acc: 0.5828 -- iter: 06400/21310\n--\n"
     ]
    },
    {
     "name": "stdout",
     "output_type": "stream",
     "text": [
      "Training Step: 101  | total loss: \u001b[1m\u001b[32m0.67852\u001b[0m\u001b[0m | time: 1.956s\n\u001b[2K\r| Adam | epoch: 001 | loss: 0.67852 - acc: 0.5886 -- iter: 06464/21310\n"
     ]
    },
    {
     "name": "stdout",
     "output_type": "stream",
     "text": [
      "Training Step: 102  | total loss: \u001b[1m\u001b[32m0.67851\u001b[0m\u001b[0m | time: 1.966s\n\u001b[2K\r| Adam | epoch: 001 | loss: 0.67851 - acc: 0.5860 -- iter: 06528/21310\n"
     ]
    },
    {
     "name": "stdout",
     "output_type": "stream",
     "text": [
      "Training Step: 103  | total loss: \u001b[1m\u001b[32m0.67572\u001b[0m\u001b[0m | time: 1.982s\n\u001b[2K\r| Adam | epoch: 001 | loss: 0.67572 - acc: 0.5992 -- iter: 06592/21310\n"
     ]
    },
    {
     "name": "stdout",
     "output_type": "stream",
     "text": [
      "Training Step: 104  | total loss: \u001b[1m\u001b[32m0.67470\u001b[0m\u001b[0m | time: 2.007s\n\u001b[2K\r| Adam | epoch: 001 | loss: 0.67470 - acc: 0.6003 -- iter: 06656/21310\n"
     ]
    },
    {
     "name": "stdout",
     "output_type": "stream",
     "text": [
      "Training Step: 105  | total loss: \u001b[1m\u001b[32m0.67257\u001b[0m\u001b[0m | time: 2.020s\n\u001b[2K\r| Adam | epoch: 001 | loss: 0.67257 - acc: 0.6027 -- iter: 06720/21310\n"
     ]
    },
    {
     "name": "stdout",
     "output_type": "stream",
     "text": [
      "Training Step: 106  | total loss: \u001b[1m\u001b[32m0.67108\u001b[0m\u001b[0m | time: 2.032s\n\u001b[2K\r| Adam | epoch: 001 | loss: 0.67108 - acc: 0.6065 -- iter: 06784/21310\n"
     ]
    },
    {
     "name": "stdout",
     "output_type": "stream",
     "text": [
      "Training Step: 107  | total loss: \u001b[1m\u001b[32m0.66887\u001b[0m\u001b[0m | time: 2.050s\n\u001b[2K\r| Adam | epoch: 001 | loss: 0.66887 - acc: 0.6068 -- iter: 06848/21310\n"
     ]
    },
    {
     "name": "stdout",
     "output_type": "stream",
     "text": [
      "Training Step: 108  | total loss: \u001b[1m\u001b[32m0.66689\u001b[0m\u001b[0m | time: 2.067s\n\u001b[2K\r| Adam | epoch: 001 | loss: 0.66689 - acc: 0.6117 -- iter: 06912/21310\n"
     ]
    },
    {
     "name": "stdout",
     "output_type": "stream",
     "text": [
      "Training Step: 109  | total loss: \u001b[1m\u001b[32m0.66452\u001b[0m\u001b[0m | time: 2.089s\n\u001b[2K\r| Adam | epoch: 001 | loss: 0.66452 - acc: 0.6131 -- iter: 06976/21310\n"
     ]
    },
    {
     "name": "stdout",
     "output_type": "stream",
     "text": [
      "Training Step: 110  | total loss: \u001b[1m\u001b[32m0.66510\u001b[0m\u001b[0m | time: 2.107s\n\u001b[2K\r| Adam | epoch: 001 | loss: 0.66510 - acc: 0.6127 -- iter: 07040/21310\n"
     ]
    },
    {
     "name": "stdout",
     "output_type": "stream",
     "text": [
      "Training Step: 111  | total loss: \u001b[1m\u001b[32m0.66542\u001b[0m\u001b[0m | time: 2.133s\n\u001b[2K\r| Adam | epoch: 001 | loss: 0.66542 - acc: 0.6108 -- iter: 07104/21310\n"
     ]
    },
    {
     "name": "stdout",
     "output_type": "stream",
     "text": [
      "Training Step: 112  | total loss: \u001b[1m\u001b[32m0.66939\u001b[0m\u001b[0m | time: 2.151s\n\u001b[2K\r| Adam | epoch: 001 | loss: 0.66939 - acc: 0.6138 -- iter: 07168/21310\n"
     ]
    },
    {
     "name": "stdout",
     "output_type": "stream",
     "text": [
      "Training Step: 113  | total loss: \u001b[1m\u001b[32m0.66595\u001b[0m\u001b[0m | time: 2.167s\n\u001b[2K\r| Adam | epoch: 001 | loss: 0.66595 - acc: 0.6212 -- iter: 07232/21310\n"
     ]
    },
    {
     "name": "stdout",
     "output_type": "stream",
     "text": [
      "Training Step: 114  | total loss: \u001b[1m\u001b[32m0.66639\u001b[0m\u001b[0m | time: 2.182s\n\u001b[2K\r| Adam | epoch: 001 | loss: 0.66639 - acc: 0.6262 -- iter: 07296/21310\n"
     ]
    },
    {
     "name": "stdout",
     "output_type": "stream",
     "text": [
      "Training Step: 115  | total loss: \u001b[1m\u001b[32m0.66903\u001b[0m\u001b[0m | time: 2.198s\n\u001b[2K\r| Adam | epoch: 001 | loss: 0.66903 - acc: 0.6199 -- iter: 07360/21310\n"
     ]
    },
    {
     "name": "stdout",
     "output_type": "stream",
     "text": [
      "Training Step: 116  | total loss: \u001b[1m\u001b[32m0.67309\u001b[0m\u001b[0m | time: 2.211s\n\u001b[2K\r| Adam | epoch: 001 | loss: 0.67309 - acc: 0.6094 -- iter: 07424/21310\n"
     ]
    },
    {
     "name": "stdout",
     "output_type": "stream",
     "text": [
      "Training Step: 117  | total loss: \u001b[1m\u001b[32m0.67508\u001b[0m\u001b[0m | time: 2.226s\n\u001b[2K\r| Adam | epoch: 001 | loss: 0.67508 - acc: 0.6079 -- iter: 07488/21310\n"
     ]
    },
    {
     "name": "stdout",
     "output_type": "stream",
     "text": [
      "Training Step: 118  | total loss: \u001b[1m\u001b[32m0.67850\u001b[0m\u001b[0m | time: 2.246s\n\u001b[2K\r| Adam | epoch: 001 | loss: 0.67850 - acc: 0.6080 -- iter: 07552/21310\n"
     ]
    },
    {
     "name": "stdout",
     "output_type": "stream",
     "text": [
      "Training Step: 119  | total loss: \u001b[1m\u001b[32m0.68250\u001b[0m\u001b[0m | time: 2.264s\n\u001b[2K\r| Adam | epoch: 001 | loss: 0.68250 - acc: 0.6019 -- iter: 07616/21310\n"
     ]
    },
    {
     "name": "stdout",
     "output_type": "stream",
     "text": [
      "Training Step: 120  | total loss: \u001b[1m\u001b[32m0.68024\u001b[0m\u001b[0m | time: 2.280s\n\u001b[2K\r| Adam | epoch: 001 | loss: 0.68024 - acc: 0.6027 -- iter: 07680/21310\n"
     ]
    },
    {
     "name": "stdout",
     "output_type": "stream",
     "text": [
      "Training Step: 121  | total loss: \u001b[1m\u001b[32m0.67920\u001b[0m\u001b[0m | time: 2.295s\n\u001b[2K\r| Adam | epoch: 001 | loss: 0.67920 - acc: 0.6018 -- iter: 07744/21310\n"
     ]
    },
    {
     "name": "stdout",
     "output_type": "stream",
     "text": [
      "Training Step: 122  | total loss: \u001b[1m\u001b[32m0.68537\u001b[0m\u001b[0m | time: 2.311s\n\u001b[2K\r| Adam | epoch: 001 | loss: 0.68537 - acc: 0.5806 -- iter: 07808/21310\n"
     ]
    },
    {
     "name": "stdout",
     "output_type": "stream",
     "text": [
      "Training Step: 123  | total loss: \u001b[1m\u001b[32m0.68646\u001b[0m\u001b[0m | time: 2.326s\n\u001b[2K\r| Adam | epoch: 001 | loss: 0.68646 - acc: 0.5757 -- iter: 07872/21310\n"
     ]
    },
    {
     "name": "stdout",
     "output_type": "stream",
     "text": [
      "Training Step: 124  | total loss: \u001b[1m\u001b[32m0.68708\u001b[0m\u001b[0m | time: 2.335s\n\u001b[2K\r| Adam | epoch: 001 | loss: 0.68708 - acc: 0.5744 -- iter: 07936/21310\n"
     ]
    },
    {
     "name": "stdout",
     "output_type": "stream",
     "text": [
      "Training Step: 125  | total loss: \u001b[1m\u001b[32m0.68655\u001b[0m\u001b[0m | time: 2.343s\n\u001b[2K\r| Adam | epoch: 001 | loss: 0.68655 - acc: 0.5732 -- iter: 08000/21310\n"
     ]
    },
    {
     "name": "stdout",
     "output_type": "stream",
     "text": [
      "Training Step: 126  | total loss: \u001b[1m\u001b[32m0.68804\u001b[0m\u001b[0m | time: 2.352s\n\u001b[2K\r| Adam | epoch: 001 | loss: 0.68804 - acc: 0.5643 -- iter: 08064/21310\n"
     ]
    },
    {
     "name": "stdout",
     "output_type": "stream",
     "text": [
      "Training Step: 127  | total loss: \u001b[1m\u001b[32m0.68501\u001b[0m\u001b[0m | time: 2.365s\n\u001b[2K\r| Adam | epoch: 001 | loss: 0.68501 - acc: 0.5704 -- iter: 08128/21310\n"
     ]
    },
    {
     "name": "stdout",
     "output_type": "stream",
     "text": [
      "Training Step: 128  | total loss: \u001b[1m\u001b[32m0.68620\u001b[0m\u001b[0m | time: 2.378s\n\u001b[2K\r| Adam | epoch: 001 | loss: 0.68620 - acc: 0.5633 -- iter: 08192/21310\n"
     ]
    },
    {
     "name": "stdout",
     "output_type": "stream",
     "text": [
      "Training Step: 129  | total loss: \u001b[1m\u001b[32m0.68496\u001b[0m\u001b[0m | time: 2.394s\n\u001b[2K\r| Adam | epoch: 001 | loss: 0.68496 - acc: 0.5679 -- iter: 08256/21310\n"
     ]
    },
    {
     "name": "stdout",
     "output_type": "stream",
     "text": [
      "Training Step: 130  | total loss: \u001b[1m\u001b[32m0.68511\u001b[0m\u001b[0m | time: 2.402s\n\u001b[2K\r| Adam | epoch: 001 | loss: 0.68511 - acc: 0.5658 -- iter: 08320/21310\n"
     ]
    },
    {
     "name": "stdout",
     "output_type": "stream",
     "text": [
      "Training Step: 131  | total loss: \u001b[1m\u001b[32m0.68213\u001b[0m\u001b[0m | time: 2.411s\n\u001b[2K\r| Adam | epoch: 001 | loss: 0.68213 - acc: 0.5780 -- iter: 08384/21310\n"
     ]
    },
    {
     "name": "stdout",
     "output_type": "stream",
     "text": [
      "Training Step: 132  | total loss: \u001b[1m\u001b[32m0.68160\u001b[0m\u001b[0m | time: 2.426s\n\u001b[2K\r| Adam | epoch: 001 | loss: 0.68160 - acc: 0.5843 -- iter: 08448/21310\n"
     ]
    },
    {
     "name": "stdout",
     "output_type": "stream",
     "text": [
      "Training Step: 133  | total loss: \u001b[1m\u001b[32m0.68135\u001b[0m\u001b[0m | time: 2.435s\n\u001b[2K\r| Adam | epoch: 001 | loss: 0.68135 - acc: 0.5837 -- iter: 08512/21310\n"
     ]
    },
    {
     "name": "stdout",
     "output_type": "stream",
     "text": [
      "Training Step: 134  | total loss: \u001b[1m\u001b[32m0.68276\u001b[0m\u001b[0m | time: 2.446s\n\u001b[2K\r| Adam | epoch: 001 | loss: 0.68276 - acc: 0.5737 -- iter: 08576/21310\n"
     ]
    },
    {
     "name": "stdout",
     "output_type": "stream",
     "text": [
      "Training Step: 135  | total loss: \u001b[1m\u001b[32m0.68361\u001b[0m\u001b[0m | time: 2.455s\n\u001b[2K\r| Adam | epoch: 001 | loss: 0.68361 - acc: 0.5726 -- iter: 08640/21310\n"
     ]
    },
    {
     "name": "stdout",
     "output_type": "stream",
     "text": [
      "Training Step: 136  | total loss: \u001b[1m\u001b[32m0.68301\u001b[0m\u001b[0m | time: 2.464s\n\u001b[2K\r| Adam | epoch: 001 | loss: 0.68301 - acc: 0.5763 -- iter: 08704/21310\n"
     ]
    },
    {
     "name": "stdout",
     "output_type": "stream",
     "text": [
      "Training Step: 137  | total loss: \u001b[1m\u001b[32m0.68267\u001b[0m\u001b[0m | time: 2.478s\n\u001b[2K\r| Adam | epoch: 001 | loss: 0.68267 - acc: 0.5749 -- iter: 08768/21310\n"
     ]
    },
    {
     "name": "stdout",
     "output_type": "stream",
     "text": [
      "Training Step: 138  | total loss: \u001b[1m\u001b[32m0.68226\u001b[0m\u001b[0m | time: 2.487s\n\u001b[2K\r| Adam | epoch: 001 | loss: 0.68226 - acc: 0.5815 -- iter: 08832/21310\n"
     ]
    },
    {
     "name": "stdout",
     "output_type": "stream",
     "text": [
      "Training Step: 139  | total loss: \u001b[1m\u001b[32m0.68143\u001b[0m\u001b[0m | time: 2.496s\n\u001b[2K\r| Adam | epoch: 001 | loss: 0.68143 - acc: 0.5827 -- iter: 08896/21310\n"
     ]
    },
    {
     "name": "stdout",
     "output_type": "stream",
     "text": [
      "Training Step: 140  | total loss: \u001b[1m\u001b[32m0.67996\u001b[0m\u001b[0m | time: 2.508s\n\u001b[2K\r| Adam | epoch: 001 | loss: 0.67996 - acc: 0.5854 -- iter: 08960/21310\n"
     ]
    },
    {
     "name": "stdout",
     "output_type": "stream",
     "text": [
      "Training Step: 141  | total loss: \u001b[1m\u001b[32m0.67863\u001b[0m\u001b[0m | time: 2.520s\n\u001b[2K\r| Adam | epoch: 001 | loss: 0.67863 - acc: 0.5925 -- iter: 09024/21310\n"
     ]
    },
    {
     "name": "stdout",
     "output_type": "stream",
     "text": [
      "Training Step: 142  | total loss: \u001b[1m\u001b[32m0.67910\u001b[0m\u001b[0m | time: 2.529s\n\u001b[2K\r| Adam | epoch: 001 | loss: 0.67910 - acc: 0.5957 -- iter: 09088/21310\n"
     ]
    },
    {
     "name": "stdout",
     "output_type": "stream",
     "text": [
      "Training Step: 143  | total loss: \u001b[1m\u001b[32m0.67695\u001b[0m\u001b[0m | time: 2.539s\n\u001b[2K\r| Adam | epoch: 001 | loss: 0.67695 - acc: 0.6049 -- iter: 09152/21310\n"
     ]
    },
    {
     "name": "stdout",
     "output_type": "stream",
     "text": [
      "Training Step: 144  | total loss: \u001b[1m\u001b[32m0.67705\u001b[0m\u001b[0m | time: 2.548s\n\u001b[2K\r| Adam | epoch: 001 | loss: 0.67705 - acc: 0.6038 -- iter: 09216/21310\n"
     ]
    },
    {
     "name": "stdout",
     "output_type": "stream",
     "text": [
      "Training Step: 145  | total loss: \u001b[1m\u001b[32m0.67819\u001b[0m\u001b[0m | time: 2.565s\n\u001b[2K\r| Adam | epoch: 001 | loss: 0.67819 - acc: 0.6012 -- iter: 09280/21310\n"
     ]
    },
    {
     "name": "stdout",
     "output_type": "stream",
     "text": [
      "Training Step: 146  | total loss: \u001b[1m\u001b[32m0.67806\u001b[0m\u001b[0m | time: 2.577s\n\u001b[2K\r| Adam | epoch: 001 | loss: 0.67806 - acc: 0.6005 -- iter: 09344/21310\n"
     ]
    },
    {
     "name": "stdout",
     "output_type": "stream",
     "text": [
      "Training Step: 147  | total loss: \u001b[1m\u001b[32m0.67344\u001b[0m\u001b[0m | time: 2.590s\n\u001b[2K\r| Adam | epoch: 001 | loss: 0.67344 - acc: 0.6154 -- iter: 09408/21310\n"
     ]
    },
    {
     "name": "stdout",
     "output_type": "stream",
     "text": [
      "Training Step: 148  | total loss: \u001b[1m\u001b[32m0.67385\u001b[0m\u001b[0m | time: 2.601s\n\u001b[2K\r| Adam | epoch: 001 | loss: 0.67385 - acc: 0.6133 -- iter: 09472/21310\n"
     ]
    },
    {
     "name": "stdout",
     "output_type": "stream",
     "text": [
      "Training Step: 149  | total loss: \u001b[1m\u001b[32m0.67545\u001b[0m\u001b[0m | time: 2.616s\n\u001b[2K\r| Adam | epoch: 001 | loss: 0.67545 - acc: 0.6051 -- iter: 09536/21310\n"
     ]
    },
    {
     "name": "stdout",
     "output_type": "stream",
     "text": [
      "Training Step: 150  | total loss: \u001b[1m\u001b[32m0.67654\u001b[0m\u001b[0m | time: 2.630s\n\u001b[2K\r| Adam | epoch: 001 | loss: 0.67654 - acc: 0.6024 -- iter: 09600/21310\n--\n"
     ]
    },
    {
     "name": "stdout",
     "output_type": "stream",
     "text": [
      "Training Step: 151  | total loss: \u001b[1m\u001b[32m0.67812\u001b[0m\u001b[0m | time: 2.640s\n\u001b[2K\r| Adam | epoch: 001 | loss: 0.67812 - acc: 0.5999 -- iter: 09664/21310\n"
     ]
    },
    {
     "name": "stdout",
     "output_type": "stream",
     "text": [
      "Training Step: 152  | total loss: \u001b[1m\u001b[32m0.67539\u001b[0m\u001b[0m | time: 2.651s\n\u001b[2K\r| Adam | epoch: 001 | loss: 0.67539 - acc: 0.6040 -- iter: 09728/21310\n"
     ]
    },
    {
     "name": "stdout",
     "output_type": "stream",
     "text": [
      "Training Step: 153  | total loss: \u001b[1m\u001b[32m0.67567\u001b[0m\u001b[0m | time: 2.662s\n\u001b[2K\r| Adam | epoch: 001 | loss: 0.67567 - acc: 0.5999 -- iter: 09792/21310\n"
     ]
    },
    {
     "name": "stdout",
     "output_type": "stream",
     "text": [
      "Training Step: 154  | total loss: \u001b[1m\u001b[32m0.67613\u001b[0m\u001b[0m | time: 2.682s\n\u001b[2K\r| Adam | epoch: 001 | loss: 0.67613 - acc: 0.6008 -- iter: 09856/21310\n"
     ]
    },
    {
     "name": "stdout",
     "output_type": "stream",
     "text": [
      "Training Step: 155  | total loss: \u001b[1m\u001b[32m0.67969\u001b[0m\u001b[0m | time: 2.694s\n\u001b[2K\r| Adam | epoch: 001 | loss: 0.67969 - acc: 0.5923 -- iter: 09920/21310\n"
     ]
    },
    {
     "name": "stdout",
     "output_type": "stream",
     "text": [
      "Training Step: 156  | total loss: \u001b[1m\u001b[32m0.68470\u001b[0m\u001b[0m | time: 2.716s\n\u001b[2K\r| Adam | epoch: 001 | loss: 0.68470 - acc: 0.5784 -- iter: 09984/21310\n"
     ]
    },
    {
     "name": "stdout",
     "output_type": "stream",
     "text": [
      "Training Step: 157  | total loss: \u001b[1m\u001b[32m0.68482\u001b[0m\u001b[0m | time: 2.732s\n\u001b[2K\r| Adam | epoch: 001 | loss: 0.68482 - acc: 0.5783 -- iter: 10048/21310\n"
     ]
    },
    {
     "name": "stdout",
     "output_type": "stream",
     "text": [
      "Training Step: 158  | total loss: \u001b[1m\u001b[32m0.68125\u001b[0m\u001b[0m | time: 2.772s\n\u001b[2K\r| Adam | epoch: 001 | loss: 0.68125 - acc: 0.5893 -- iter: 10112/21310\n"
     ]
    },
    {
     "name": "stdout",
     "output_type": "stream",
     "text": [
      "Training Step: 159  | total loss: \u001b[1m\u001b[32m0.67901\u001b[0m\u001b[0m | time: 2.792s\n\u001b[2K\r| Adam | epoch: 001 | loss: 0.67901 - acc: 0.5944 -- iter: 10176/21310\n"
     ]
    },
    {
     "name": "stdout",
     "output_type": "stream",
     "text": [
      "Training Step: 160  | total loss: \u001b[1m\u001b[32m0.67914\u001b[0m\u001b[0m | time: 2.806s\n\u001b[2K\r| Adam | epoch: 001 | loss: 0.67914 - acc: 0.5943 -- iter: 10240/21310\n"
     ]
    },
    {
     "name": "stdout",
     "output_type": "stream",
     "text": [
      "Training Step: 161  | total loss: \u001b[1m\u001b[32m0.67663\u001b[0m\u001b[0m | time: 2.827s\n\u001b[2K\r| Adam | epoch: 001 | loss: 0.67663 - acc: 0.5990 -- iter: 10304/21310\n"
     ]
    },
    {
     "name": "stdout",
     "output_type": "stream",
     "text": [
      "Training Step: 162  | total loss: \u001b[1m\u001b[32m0.67779\u001b[0m\u001b[0m | time: 2.839s\n\u001b[2K\r| Adam | epoch: 001 | loss: 0.67779 - acc: 0.5938 -- iter: 10368/21310\n"
     ]
    },
    {
     "name": "stdout",
     "output_type": "stream",
     "text": [
      "Training Step: 163  | total loss: \u001b[1m\u001b[32m0.67941\u001b[0m\u001b[0m | time: 2.849s\n\u001b[2K\r| Adam | epoch: 001 | loss: 0.67941 - acc: 0.5875 -- iter: 10432/21310\n"
     ]
    },
    {
     "name": "stdout",
     "output_type": "stream",
     "text": [
      "Training Step: 164  | total loss: \u001b[1m\u001b[32m0.68000\u001b[0m\u001b[0m | time: 2.872s\n\u001b[2K\r| Adam | epoch: 001 | loss: 0.68000 - acc: 0.5850 -- iter: 10496/21310\n"
     ]
    },
    {
     "name": "stdout",
     "output_type": "stream",
     "text": [
      "Training Step: 165  | total loss: \u001b[1m\u001b[32m0.67963\u001b[0m\u001b[0m | time: 2.903s\n\u001b[2K\r| Adam | epoch: 001 | loss: 0.67963 - acc: 0.5843 -- iter: 10560/21310\n"
     ]
    },
    {
     "name": "stdout",
     "output_type": "stream",
     "text": [
      "Training Step: 166  | total loss: \u001b[1m\u001b[32m0.67586\u001b[0m\u001b[0m | time: 2.922s\n\u001b[2K\r| Adam | epoch: 001 | loss: 0.67586 - acc: 0.5962 -- iter: 10624/21310\n"
     ]
    },
    {
     "name": "stdout",
     "output_type": "stream",
     "text": [
      "Training Step: 167  | total loss: \u001b[1m\u001b[32m0.67561\u001b[0m\u001b[0m | time: 2.932s\n\u001b[2K\r| Adam | epoch: 001 | loss: 0.67561 - acc: 0.5928 -- iter: 10688/21310\n"
     ]
    },
    {
     "name": "stdout",
     "output_type": "stream",
     "text": [
      "Training Step: 168  | total loss: \u001b[1m\u001b[32m0.67373\u001b[0m\u001b[0m | time: 2.945s\n\u001b[2K\r| Adam | epoch: 001 | loss: 0.67373 - acc: 0.5992 -- iter: 10752/21310\n"
     ]
    },
    {
     "name": "stdout",
     "output_type": "stream",
     "text": [
      "Training Step: 169  | total loss: \u001b[1m\u001b[32m0.66923\u001b[0m\u001b[0m | time: 2.955s\n\u001b[2K\r| Adam | epoch: 001 | loss: 0.66923 - acc: 0.6127 -- iter: 10816/21310\n"
     ]
    },
    {
     "name": "stdout",
     "output_type": "stream",
     "text": [
      "Training Step: 170  | total loss: \u001b[1m\u001b[32m0.67202\u001b[0m\u001b[0m | time: 2.974s\n\u001b[2K\r| Adam | epoch: 001 | loss: 0.67202 - acc: 0.6045 -- iter: 10880/21310\n"
     ]
    },
    {
     "name": "stdout",
     "output_type": "stream",
     "text": [
      "Training Step: 171  | total loss: \u001b[1m\u001b[32m0.67427\u001b[0m\u001b[0m | time: 2.988s\n\u001b[2K\r| Adam | epoch: 001 | loss: 0.67427 - acc: 0.6003 -- iter: 10944/21310\n"
     ]
    },
    {
     "name": "stdout",
     "output_type": "stream",
     "text": [
      "Training Step: 172  | total loss: \u001b[1m\u001b[32m0.67772\u001b[0m\u001b[0m | time: 3.003s\n\u001b[2K\r| Adam | epoch: 001 | loss: 0.67772 - acc: 0.5919 -- iter: 11008/21310\n"
     ]
    },
    {
     "name": "stdout",
     "output_type": "stream",
     "text": [
      "Training Step: 173  | total loss: \u001b[1m\u001b[32m0.67533\u001b[0m\u001b[0m | time: 3.020s\n\u001b[2K\r| Adam | epoch: 001 | loss: 0.67533 - acc: 0.5936 -- iter: 11072/21310\n"
     ]
    },
    {
     "name": "stdout",
     "output_type": "stream",
     "text": [
      "Training Step: 174  | total loss: \u001b[1m\u001b[32m0.67343\u001b[0m\u001b[0m | time: 3.036s\n\u001b[2K\r| Adam | epoch: 001 | loss: 0.67343 - acc: 0.5952 -- iter: 11136/21310\n"
     ]
    },
    {
     "name": "stdout",
     "output_type": "stream",
     "text": [
      "Training Step: 175  | total loss: \u001b[1m\u001b[32m0.67138\u001b[0m\u001b[0m | time: 3.047s\n\u001b[2K\r| Adam | epoch: 001 | loss: 0.67138 - acc: 0.5966 -- iter: 11200/21310\n"
     ]
    },
    {
     "name": "stdout",
     "output_type": "stream",
     "text": [
      "Training Step: 176  | total loss: \u001b[1m\u001b[32m0.67120\u001b[0m\u001b[0m | time: 3.058s\n\u001b[2K\r| Adam | epoch: 001 | loss: 0.67120 - acc: 0.5932 -- iter: 11264/21310\n"
     ]
    },
    {
     "name": "stdout",
     "output_type": "stream",
     "text": [
      "Training Step: 177  | total loss: \u001b[1m\u001b[32m0.66939\u001b[0m\u001b[0m | time: 3.089s\n\u001b[2K\r| Adam | epoch: 001 | loss: 0.66939 - acc: 0.5964 -- iter: 11328/21310\n"
     ]
    },
    {
     "name": "stdout",
     "output_type": "stream",
     "text": [
      "Training Step: 178  | total loss: \u001b[1m\u001b[32m0.67037\u001b[0m\u001b[0m | time: 3.112s\n\u001b[2K\r| Adam | epoch: 001 | loss: 0.67037 - acc: 0.5914 -- iter: 11392/21310\n"
     ]
    },
    {
     "name": "stdout",
     "output_type": "stream",
     "text": [
      "Training Step: 179  | total loss: \u001b[1m\u001b[32m0.67607\u001b[0m\u001b[0m | time: 3.126s\n\u001b[2K\r| Adam | epoch: 001 | loss: 0.67607 - acc: 0.5823 -- iter: 11456/21310\n"
     ]
    },
    {
     "name": "stdout",
     "output_type": "stream",
     "text": [
      "Training Step: 180  | total loss: \u001b[1m\u001b[32m0.67526\u001b[0m\u001b[0m | time: 3.134s\n\u001b[2K\r| Adam | epoch: 001 | loss: 0.67526 - acc: 0.5834 -- iter: 11520/21310\n"
     ]
    },
    {
     "name": "stdout",
     "output_type": "stream",
     "text": [
      "Training Step: 181  | total loss: \u001b[1m\u001b[32m0.67633\u001b[0m\u001b[0m | time: 3.143s\n\u001b[2K\r| Adam | epoch: 001 | loss: 0.67633 - acc: 0.5798 -- iter: 11584/21310\n"
     ]
    },
    {
     "name": "stdout",
     "output_type": "stream",
     "text": [
      "Training Step: 182  | total loss: \u001b[1m\u001b[32m0.67805\u001b[0m\u001b[0m | time: 3.151s\n\u001b[2K\r| Adam | epoch: 001 | loss: 0.67805 - acc: 0.5781 -- iter: 11648/21310\n"
     ]
    },
    {
     "name": "stdout",
     "output_type": "stream",
     "text": [
      "Training Step: 183  | total loss: \u001b[1m\u001b[32m0.67629\u001b[0m\u001b[0m | time: 3.168s\n\u001b[2K\r| Adam | epoch: 001 | loss: 0.67629 - acc: 0.5827 -- iter: 11712/21310\n"
     ]
    },
    {
     "name": "stdout",
     "output_type": "stream",
     "text": [
      "Training Step: 184  | total loss: \u001b[1m\u001b[32m0.67684\u001b[0m\u001b[0m | time: 3.179s\n\u001b[2K\r| Adam | epoch: 001 | loss: 0.67684 - acc: 0.5776 -- iter: 11776/21310\n"
     ]
    },
    {
     "name": "stdout",
     "output_type": "stream",
     "text": [
      "Training Step: 185  | total loss: \u001b[1m\u001b[32m0.67622\u001b[0m\u001b[0m | time: 3.190s\n\u001b[2K\r| Adam | epoch: 001 | loss: 0.67622 - acc: 0.5761 -- iter: 11840/21310\n"
     ]
    },
    {
     "name": "stdout",
     "output_type": "stream",
     "text": [
      "Training Step: 186  | total loss: \u001b[1m\u001b[32m0.67334\u001b[0m\u001b[0m | time: 3.200s\n\u001b[2K\r| Adam | epoch: 001 | loss: 0.67334 - acc: 0.5841 -- iter: 11904/21310\n"
     ]
    },
    {
     "name": "stdout",
     "output_type": "stream",
     "text": [
      "Training Step: 187  | total loss: \u001b[1m\u001b[32m0.67323\u001b[0m\u001b[0m | time: 3.212s\n\u001b[2K\r| Adam | epoch: 001 | loss: 0.67323 - acc: 0.5851 -- iter: 11968/21310\n"
     ]
    },
    {
     "name": "stdout",
     "output_type": "stream",
     "text": [
      "Training Step: 188  | total loss: \u001b[1m\u001b[32m0.67497\u001b[0m\u001b[0m | time: 3.225s\n\u001b[2K\r| Adam | epoch: 001 | loss: 0.67497 - acc: 0.5781 -- iter: 12032/21310\n"
     ]
    },
    {
     "name": "stdout",
     "output_type": "stream",
     "text": [
      "Training Step: 189  | total loss: \u001b[1m\u001b[32m0.67287\u001b[0m\u001b[0m | time: 3.234s\n\u001b[2K\r| Adam | epoch: 001 | loss: 0.67287 - acc: 0.5859 -- iter: 12096/21310\n"
     ]
    },
    {
     "name": "stdout",
     "output_type": "stream",
     "text": [
      "Training Step: 190  | total loss: \u001b[1m\u001b[32m0.67113\u001b[0m\u001b[0m | time: 3.247s\n\u001b[2K\r| Adam | epoch: 001 | loss: 0.67113 - acc: 0.5930 -- iter: 12160/21310\n"
     ]
    },
    {
     "name": "stdout",
     "output_type": "stream",
     "text": [
      "Training Step: 191  | total loss: \u001b[1m\u001b[32m0.66565\u001b[0m\u001b[0m | time: 3.258s\n\u001b[2K\r| Adam | epoch: 001 | loss: 0.66565 - acc: 0.6009 -- iter: 12224/21310\n"
     ]
    },
    {
     "name": "stdout",
     "output_type": "stream",
     "text": [
      "Training Step: 192  | total loss: \u001b[1m\u001b[32m0.66805\u001b[0m\u001b[0m | time: 3.268s\n\u001b[2K\r| Adam | epoch: 001 | loss: 0.66805 - acc: 0.5970 -- iter: 12288/21310\n"
     ]
    },
    {
     "name": "stdout",
     "output_type": "stream",
     "text": [
      "Training Step: 193  | total loss: \u001b[1m\u001b[32m0.66578\u001b[0m\u001b[0m | time: 3.280s\n\u001b[2K\r| Adam | epoch: 001 | loss: 0.66578 - acc: 0.5983 -- iter: 12352/21310\n"
     ]
    },
    {
     "name": "stdout",
     "output_type": "stream",
     "text": [
      "Training Step: 194  | total loss: \u001b[1m\u001b[32m0.66621\u001b[0m\u001b[0m | time: 3.302s\n\u001b[2K\r| Adam | epoch: 001 | loss: 0.66621 - acc: 0.5994 -- iter: 12416/21310\n"
     ]
    },
    {
     "name": "stdout",
     "output_type": "stream",
     "text": [
      "Training Step: 195  | total loss: \u001b[1m\u001b[32m0.66894\u001b[0m\u001b[0m | time: 3.323s\n\u001b[2K\r| Adam | epoch: 001 | loss: 0.66894 - acc: 0.5926 -- iter: 12480/21310\n"
     ]
    },
    {
     "name": "stdout",
     "output_type": "stream",
     "text": [
      "Training Step: 196  | total loss: \u001b[1m\u001b[32m0.66981\u001b[0m\u001b[0m | time: 3.342s\n\u001b[2K\r| Adam | epoch: 001 | loss: 0.66981 - acc: 0.5911 -- iter: 12544/21310\n"
     ]
    },
    {
     "name": "stdout",
     "output_type": "stream",
     "text": [
      "Training Step: 197  | total loss: \u001b[1m\u001b[32m0.66617\u001b[0m\u001b[0m | time: 3.351s\n\u001b[2K\r| Adam | epoch: 001 | loss: 0.66617 - acc: 0.6023 -- iter: 12608/21310\n"
     ]
    },
    {
     "name": "stdout",
     "output_type": "stream",
     "text": [
      "Training Step: 198  | total loss: \u001b[1m\u001b[32m0.66788\u001b[0m\u001b[0m | time: 3.367s\n\u001b[2K\r| Adam | epoch: 001 | loss: 0.66788 - acc: 0.6046 -- iter: 12672/21310\n"
     ]
    },
    {
     "name": "stdout",
     "output_type": "stream",
     "text": [
      "Training Step: 199  | total loss: \u001b[1m\u001b[32m0.66481\u001b[0m\u001b[0m | time: 3.387s\n\u001b[2K\r| Adam | epoch: 001 | loss: 0.66481 - acc: 0.6082 -- iter: 12736/21310\n"
     ]
    },
    {
     "name": "stdout",
     "output_type": "stream",
     "text": [
      "Training Step: 200  | total loss: \u001b[1m\u001b[32m0.66935\u001b[0m\u001b[0m | time: 3.395s\n\u001b[2K\r| Adam | epoch: 001 | loss: 0.66935 - acc: 0.5989 -- iter: 12800/21310\n--\n"
     ]
    },
    {
     "name": "stdout",
     "output_type": "stream",
     "text": [
      "Training Step: 201  | total loss: \u001b[1m\u001b[32m0.67139\u001b[0m\u001b[0m | time: 3.406s\n\u001b[2K\r| Adam | epoch: 001 | loss: 0.67139 - acc: 0.6000 -- iter: 12864/21310\n"
     ]
    },
    {
     "name": "stdout",
     "output_type": "stream",
     "text": [
      "Training Step: 202  | total loss: \u001b[1m\u001b[32m0.66760\u001b[0m\u001b[0m | time: 3.416s\n\u001b[2K\r| Adam | epoch: 001 | loss: 0.66760 - acc: 0.6040 -- iter: 12928/21310\n"
     ]
    },
    {
     "name": "stdout",
     "output_type": "stream",
     "text": [
      "Training Step: 203  | total loss: \u001b[1m\u001b[32m0.66499\u001b[0m\u001b[0m | time: 3.429s\n\u001b[2K\r| Adam | epoch: 001 | loss: 0.66499 - acc: 0.6093 -- iter: 12992/21310\n"
     ]
    },
    {
     "name": "stdout",
     "output_type": "stream",
     "text": [
      "Training Step: 204  | total loss: \u001b[1m\u001b[32m0.66822\u001b[0m\u001b[0m | time: 3.437s\n\u001b[2K\r| Adam | epoch: 001 | loss: 0.66822 - acc: 0.6015 -- iter: 13056/21310\n"
     ]
    },
    {
     "name": "stdout",
     "output_type": "stream",
     "text": [
      "Training Step: 205  | total loss: \u001b[1m\u001b[32m0.67276\u001b[0m\u001b[0m | time: 3.446s\n\u001b[2K\r| Adam | epoch: 001 | loss: 0.67276 - acc: 0.5929 -- iter: 13120/21310\n"
     ]
    },
    {
     "name": "stdout",
     "output_type": "stream",
     "text": [
      "Training Step: 206  | total loss: \u001b[1m\u001b[32m0.67728\u001b[0m\u001b[0m | time: 3.455s\n\u001b[2K\r| Adam | epoch: 001 | loss: 0.67728 - acc: 0.5820 -- iter: 13184/21310\n"
     ]
    },
    {
     "name": "stdout",
     "output_type": "stream",
     "text": [
      "Training Step: 207  | total loss: \u001b[1m\u001b[32m0.67828\u001b[0m\u001b[0m | time: 3.464s\n\u001b[2K\r| Adam | epoch: 001 | loss: 0.67828 - acc: 0.5816 -- iter: 13248/21310\n"
     ]
    },
    {
     "name": "stdout",
     "output_type": "stream",
     "text": [
      "Training Step: 208  | total loss: \u001b[1m\u001b[32m0.68185\u001b[0m\u001b[0m | time: 3.475s\n\u001b[2K\r| Adam | epoch: 001 | loss: 0.68185 - acc: 0.5703 -- iter: 13312/21310\n"
     ]
    },
    {
     "name": "stdout",
     "output_type": "stream",
     "text": [
      "Training Step: 209  | total loss: \u001b[1m\u001b[32m0.67611\u001b[0m\u001b[0m | time: 3.484s\n\u001b[2K\r| Adam | epoch: 001 | loss: 0.67611 - acc: 0.5914 -- iter: 13376/21310\n"
     ]
    },
    {
     "name": "stdout",
     "output_type": "stream",
     "text": [
      "Training Step: 210  | total loss: \u001b[1m\u001b[32m0.67720\u001b[0m\u001b[0m | time: 3.494s\n\u001b[2K\r| Adam | epoch: 001 | loss: 0.67720 - acc: 0.5901 -- iter: 13440/21310\n"
     ]
    },
    {
     "name": "stdout",
     "output_type": "stream",
     "text": [
      "Training Step: 211  | total loss: \u001b[1m\u001b[32m0.67548\u001b[0m\u001b[0m | time: 3.505s\n\u001b[2K\r| Adam | epoch: 001 | loss: 0.67548 - acc: 0.5952 -- iter: 13504/21310\n"
     ]
    },
    {
     "name": "stdout",
     "output_type": "stream",
     "text": [
      "Training Step: 212  | total loss: \u001b[1m\u001b[32m0.67571\u001b[0m\u001b[0m | time: 3.515s\n\u001b[2K\r| Adam | epoch: 001 | loss: 0.67571 - acc: 0.5966 -- iter: 13568/21310\n"
     ]
    },
    {
     "name": "stdout",
     "output_type": "stream",
     "text": [
      "Training Step: 213  | total loss: \u001b[1m\u001b[32m0.67606\u001b[0m\u001b[0m | time: 3.525s\n\u001b[2K\r| Adam | epoch: 001 | loss: 0.67606 - acc: 0.5947 -- iter: 13632/21310\n"
     ]
    },
    {
     "name": "stdout",
     "output_type": "stream",
     "text": [
      "Training Step: 214  | total loss: \u001b[1m\u001b[32m0.67665\u001b[0m\u001b[0m | time: 3.534s\n\u001b[2K\r| Adam | epoch: 001 | loss: 0.67665 - acc: 0.5931 -- iter: 13696/21310\n"
     ]
    },
    {
     "name": "stdout",
     "output_type": "stream",
     "text": [
      "Training Step: 215  | total loss: \u001b[1m\u001b[32m0.67516\u001b[0m\u001b[0m | time: 3.543s\n\u001b[2K\r| Adam | epoch: 001 | loss: 0.67516 - acc: 0.5978 -- iter: 13760/21310\n"
     ]
    },
    {
     "name": "stdout",
     "output_type": "stream",
     "text": [
      "Training Step: 216  | total loss: \u001b[1m\u001b[32m0.67566\u001b[0m\u001b[0m | time: 3.558s\n\u001b[2K\r| Adam | epoch: 001 | loss: 0.67566 - acc: 0.5990 -- iter: 13824/21310\n"
     ]
    },
    {
     "name": "stdout",
     "output_type": "stream",
     "text": [
      "Training Step: 217  | total loss: \u001b[1m\u001b[32m0.67404\u001b[0m\u001b[0m | time: 3.573s\n\u001b[2K\r| Adam | epoch: 001 | loss: 0.67404 - acc: 0.6047 -- iter: 13888/21310\n"
     ]
    },
    {
     "name": "stdout",
     "output_type": "stream",
     "text": [
      "Training Step: 218  | total loss: \u001b[1m\u001b[32m0.67195\u001b[0m\u001b[0m | time: 3.581s\n\u001b[2K\r| Adam | epoch: 001 | loss: 0.67195 - acc: 0.6114 -- iter: 13952/21310\n"
     ]
    },
    {
     "name": "stdout",
     "output_type": "stream",
     "text": [
      "Training Step: 219  | total loss: \u001b[1m\u001b[32m0.67544\u001b[0m\u001b[0m | time: 3.590s\n\u001b[2K\r| Adam | epoch: 001 | loss: 0.67544 - acc: 0.5925 -- iter: 14016/21310\n"
     ]
    },
    {
     "name": "stdout",
     "output_type": "stream",
     "text": [
      "Training Step: 220  | total loss: \u001b[1m\u001b[32m0.67615\u001b[0m\u001b[0m | time: 3.602s\n\u001b[2K\r| Adam | epoch: 001 | loss: 0.67615 - acc: 0.5926 -- iter: 14080/21310\n"
     ]
    },
    {
     "name": "stdout",
     "output_type": "stream",
     "text": [
      "Training Step: 221  | total loss: \u001b[1m\u001b[32m0.67393\u001b[0m\u001b[0m | time: 3.612s\n\u001b[2K\r| Adam | epoch: 001 | loss: 0.67393 - acc: 0.6021 -- iter: 14144/21310\n"
     ]
    },
    {
     "name": "stdout",
     "output_type": "stream",
     "text": [
      "Training Step: 222  | total loss: \u001b[1m\u001b[32m0.67582\u001b[0m\u001b[0m | time: 3.621s\n\u001b[2K\r| Adam | epoch: 001 | loss: 0.67582 - acc: 0.5966 -- iter: 14208/21310\n"
     ]
    },
    {
     "name": "stdout",
     "output_type": "stream",
     "text": [
      "Training Step: 223  | total loss: \u001b[1m\u001b[32m0.67329\u001b[0m\u001b[0m | time: 3.634s\n\u001b[2K\r| Adam | epoch: 001 | loss: 0.67329 - acc: 0.6025 -- iter: 14272/21310\n"
     ]
    },
    {
     "name": "stdout",
     "output_type": "stream",
     "text": [
      "Training Step: 224  | total loss: \u001b[1m\u001b[32m0.67442\u001b[0m\u001b[0m | time: 3.644s\n\u001b[2K\r| Adam | epoch: 001 | loss: 0.67442 - acc: 0.6017 -- iter: 14336/21310\n"
     ]
    },
    {
     "name": "stdout",
     "output_type": "stream",
     "text": [
      "Training Step: 225  | total loss: \u001b[1m\u001b[32m0.67409\u001b[0m\u001b[0m | time: 3.654s\n\u001b[2K\r| Adam | epoch: 001 | loss: 0.67409 - acc: 0.6009 -- iter: 14400/21310\n"
     ]
    },
    {
     "name": "stdout",
     "output_type": "stream",
     "text": [
      "Training Step: 226  | total loss: \u001b[1m\u001b[32m0.67152\u001b[0m\u001b[0m | time: 3.665s\n\u001b[2K\r| Adam | epoch: 001 | loss: 0.67152 - acc: 0.6033 -- iter: 14464/21310\n"
     ]
    },
    {
     "name": "stdout",
     "output_type": "stream",
     "text": [
      "Training Step: 227  | total loss: \u001b[1m\u001b[32m0.67363\u001b[0m\u001b[0m | time: 3.679s\n\u001b[2K\r| Adam | epoch: 001 | loss: 0.67363 - acc: 0.5930 -- iter: 14528/21310\n"
     ]
    },
    {
     "name": "stdout",
     "output_type": "stream",
     "text": [
      "Training Step: 228  | total loss: \u001b[1m\u001b[32m0.67424\u001b[0m\u001b[0m | time: 3.689s\n\u001b[2K\r| Adam | epoch: 001 | loss: 0.67424 - acc: 0.5915 -- iter: 14592/21310\n"
     ]
    },
    {
     "name": "stdout",
     "output_type": "stream",
     "text": [
      "Training Step: 229  | total loss: \u001b[1m\u001b[32m0.66986\u001b[0m\u001b[0m | time: 3.702s\n\u001b[2K\r| Adam | epoch: 001 | loss: 0.66986 - acc: 0.6011 -- iter: 14656/21310\n"
     ]
    },
    {
     "name": "stdout",
     "output_type": "stream",
     "text": [
      "Training Step: 230  | total loss: \u001b[1m\u001b[32m0.66851\u001b[0m\u001b[0m | time: 3.711s\n\u001b[2K\r| Adam | epoch: 001 | loss: 0.66851 - acc: 0.6019 -- iter: 14720/21310\n"
     ]
    },
    {
     "name": "stdout",
     "output_type": "stream",
     "text": [
      "Training Step: 231  | total loss: \u001b[1m\u001b[32m0.66735\u001b[0m\u001b[0m | time: 3.720s\n\u001b[2K\r| Adam | epoch: 001 | loss: 0.66735 - acc: 0.6011 -- iter: 14784/21310\n"
     ]
    },
    {
     "name": "stdout",
     "output_type": "stream",
     "text": [
      "Training Step: 232  | total loss: \u001b[1m\u001b[32m0.67103\u001b[0m\u001b[0m | time: 3.729s\n\u001b[2K\r| Adam | epoch: 001 | loss: 0.67103 - acc: 0.5894 -- iter: 14848/21310\n"
     ]
    },
    {
     "name": "stdout",
     "output_type": "stream",
     "text": [
      "Training Step: 233  | total loss: \u001b[1m\u001b[32m0.66589\u001b[0m\u001b[0m | time: 3.743s\n\u001b[2K\r| Adam | epoch: 001 | loss: 0.66589 - acc: 0.5977 -- iter: 14912/21310\n"
     ]
    },
    {
     "name": "stdout",
     "output_type": "stream",
     "text": [
      "Training Step: 234  | total loss: \u001b[1m\u001b[32m0.66375\u001b[0m\u001b[0m | time: 3.754s\n\u001b[2K\r| Adam | epoch: 001 | loss: 0.66375 - acc: 0.5973 -- iter: 14976/21310\n"
     ]
    },
    {
     "name": "stdout",
     "output_type": "stream",
     "text": [
      "Training Step: 235  | total loss: \u001b[1m\u001b[32m0.66320\u001b[0m\u001b[0m | time: 3.770s\n\u001b[2K\r| Adam | epoch: 001 | loss: 0.66320 - acc: 0.5969 -- iter: 15040/21310\n"
     ]
    },
    {
     "name": "stdout",
     "output_type": "stream",
     "text": [
      "Training Step: 236  | total loss: \u001b[1m\u001b[32m0.66591\u001b[0m\u001b[0m | time: 3.782s\n\u001b[2K\r| Adam | epoch: 001 | loss: 0.66591 - acc: 0.5982 -- iter: 15104/21310\n"
     ]
    },
    {
     "name": "stdout",
     "output_type": "stream",
     "text": [
      "Training Step: 237  | total loss: \u001b[1m\u001b[32m0.66735\u001b[0m\u001b[0m | time: 3.792s\n\u001b[2K\r| Adam | epoch: 001 | loss: 0.66735 - acc: 0.5930 -- iter: 15168/21310\n"
     ]
    },
    {
     "name": "stdout",
     "output_type": "stream",
     "text": [
      "Training Step: 238  | total loss: \u001b[1m\u001b[32m0.66713\u001b[0m\u001b[0m | time: 3.806s\n\u001b[2K\r| Adam | epoch: 001 | loss: 0.66713 - acc: 0.5947 -- iter: 15232/21310\n"
     ]
    },
    {
     "name": "stdout",
     "output_type": "stream",
     "text": [
      "Training Step: 239  | total loss: \u001b[1m\u001b[32m0.66698\u001b[0m\u001b[0m | time: 3.815s\n\u001b[2K\r| Adam | epoch: 001 | loss: 0.66698 - acc: 0.5930 -- iter: 15296/21310\n"
     ]
    },
    {
     "name": "stdout",
     "output_type": "stream",
     "text": [
      "Training Step: 240  | total loss: \u001b[1m\u001b[32m0.66482\u001b[0m\u001b[0m | time: 3.833s\n\u001b[2K\r| Adam | epoch: 001 | loss: 0.66482 - acc: 0.5962 -- iter: 15360/21310\n"
     ]
    },
    {
     "name": "stdout",
     "output_type": "stream",
     "text": [
      "Training Step: 241  | total loss: \u001b[1m\u001b[32m0.65908\u001b[0m\u001b[0m | time: 3.842s\n\u001b[2K\r| Adam | epoch: 001 | loss: 0.65908 - acc: 0.6038 -- iter: 15424/21310\n"
     ]
    },
    {
     "name": "stdout",
     "output_type": "stream",
     "text": [
      "Training Step: 242  | total loss: \u001b[1m\u001b[32m0.65723\u001b[0m\u001b[0m | time: 3.851s\n\u001b[2K\r| Adam | epoch: 001 | loss: 0.65723 - acc: 0.6075 -- iter: 15488/21310\n"
     ]
    },
    {
     "name": "stdout",
     "output_type": "stream",
     "text": [
      "Training Step: 243  | total loss: \u001b[1m\u001b[32m0.66270\u001b[0m\u001b[0m | time: 3.860s\n\u001b[2K\r| Adam | epoch: 001 | loss: 0.66270 - acc: 0.6030 -- iter: 15552/21310\n"
     ]
    },
    {
     "name": "stdout",
     "output_type": "stream",
     "text": [
      "Training Step: 244  | total loss: \u001b[1m\u001b[32m0.66158\u001b[0m\u001b[0m | time: 3.879s\n\u001b[2K\r| Adam | epoch: 001 | loss: 0.66158 - acc: 0.6083 -- iter: 15616/21310\n"
     ]
    },
    {
     "name": "stdout",
     "output_type": "stream",
     "text": [
      "Training Step: 245  | total loss: \u001b[1m\u001b[32m0.66453\u001b[0m\u001b[0m | time: 3.889s\n\u001b[2K\r| Adam | epoch: 001 | loss: 0.66453 - acc: 0.6068 -- iter: 15680/21310\n"
     ]
    },
    {
     "name": "stdout",
     "output_type": "stream",
     "text": [
      "Training Step: 246  | total loss: \u001b[1m\u001b[32m0.66061\u001b[0m\u001b[0m | time: 3.898s\n\u001b[2K\r| Adam | epoch: 001 | loss: 0.66061 - acc: 0.6102 -- iter: 15744/21310\n"
     ]
    },
    {
     "name": "stdout",
     "output_type": "stream",
     "text": [
      "Training Step: 247  | total loss: \u001b[1m\u001b[32m0.66858\u001b[0m\u001b[0m | time: 3.909s\n\u001b[2K\r| Adam | epoch: 001 | loss: 0.66858 - acc: 0.5976 -- iter: 15808/21310\n"
     ]
    },
    {
     "name": "stdout",
     "output_type": "stream",
     "text": [
      "Training Step: 248  | total loss: \u001b[1m\u001b[32m0.66720\u001b[0m\u001b[0m | time: 3.925s\n\u001b[2K\r| Adam | epoch: 001 | loss: 0.66720 - acc: 0.5988 -- iter: 15872/21310\n"
     ]
    },
    {
     "name": "stdout",
     "output_type": "stream",
     "text": [
      "Training Step: 249  | total loss: \u001b[1m\u001b[32m0.66865\u001b[0m\u001b[0m | time: 3.934s\n\u001b[2K\r| Adam | epoch: 001 | loss: 0.66865 - acc: 0.5999 -- iter: 15936/21310\n"
     ]
    },
    {
     "name": "stdout",
     "output_type": "stream",
     "text": [
      "Training Step: 250  | total loss: \u001b[1m\u001b[32m0.66582\u001b[0m\u001b[0m | time: 3.944s\n\u001b[2K\r| Adam | epoch: 001 | loss: 0.66582 - acc: 0.6118 -- iter: 16000/21310\n--\n"
     ]
    },
    {
     "name": "stdout",
     "output_type": "stream",
     "text": [
      "Training Step: 251  | total loss: \u001b[1m\u001b[32m0.66077\u001b[0m\u001b[0m | time: 3.960s\n\u001b[2K\r| Adam | epoch: 001 | loss: 0.66077 - acc: 0.6225 -- iter: 16064/21310\n"
     ]
    },
    {
     "name": "stdout",
     "output_type": "stream",
     "text": [
      "Training Step: 252  | total loss: \u001b[1m\u001b[32m0.65810\u001b[0m\u001b[0m | time: 3.970s\n\u001b[2K\r| Adam | epoch: 001 | loss: 0.65810 - acc: 0.6258 -- iter: 16128/21310\n"
     ]
    },
    {
     "name": "stdout",
     "output_type": "stream",
     "text": [
      "Training Step: 253  | total loss: \u001b[1m\u001b[32m0.65761\u001b[0m\u001b[0m | time: 3.988s\n\u001b[2K\r| Adam | epoch: 001 | loss: 0.65761 - acc: 0.6258 -- iter: 16192/21310\n"
     ]
    },
    {
     "name": "stdout",
     "output_type": "stream",
     "text": [
      "Training Step: 254  | total loss: \u001b[1m\u001b[32m0.66550\u001b[0m\u001b[0m | time: 3.998s\n\u001b[2K\r| Adam | epoch: 001 | loss: 0.66550 - acc: 0.6101 -- iter: 16256/21310\n"
     ]
    },
    {
     "name": "stdout",
     "output_type": "stream",
     "text": [
      "Training Step: 255  | total loss: \u001b[1m\u001b[32m0.66533\u001b[0m\u001b[0m | time: 4.014s\n\u001b[2K\r| Adam | epoch: 001 | loss: 0.66533 - acc: 0.6069 -- iter: 16320/21310\n"
     ]
    },
    {
     "name": "stdout",
     "output_type": "stream",
     "text": [
      "Training Step: 256  | total loss: \u001b[1m\u001b[32m0.66564\u001b[0m\u001b[0m | time: 4.026s\n\u001b[2K\r| Adam | epoch: 001 | loss: 0.66564 - acc: 0.6071 -- iter: 16384/21310\n"
     ]
    },
    {
     "name": "stdout",
     "output_type": "stream",
     "text": [
      "Training Step: 257  | total loss: \u001b[1m\u001b[32m0.66709\u001b[0m\u001b[0m | time: 4.035s\n\u001b[2K\r| Adam | epoch: 001 | loss: 0.66709 - acc: 0.6105 -- iter: 16448/21310\n"
     ]
    },
    {
     "name": "stdout",
     "output_type": "stream",
     "text": [
      "Training Step: 258  | total loss: \u001b[1m\u001b[32m0.66890\u001b[0m\u001b[0m | time: 4.047s\n\u001b[2K\r| Adam | epoch: 001 | loss: 0.66890 - acc: 0.6010 -- iter: 16512/21310\n"
     ]
    },
    {
     "name": "stdout",
     "output_type": "stream",
     "text": [
      "Training Step: 259  | total loss: \u001b[1m\u001b[32m0.67009\u001b[0m\u001b[0m | time: 4.068s\n\u001b[2K\r| Adam | epoch: 001 | loss: 0.67009 - acc: 0.6003 -- iter: 16576/21310\n"
     ]
    },
    {
     "name": "stdout",
     "output_type": "stream",
     "text": [
      "Training Step: 260  | total loss: \u001b[1m\u001b[32m0.66430\u001b[0m\u001b[0m | time: 4.084s\n\u001b[2K\r| Adam | epoch: 001 | loss: 0.66430 - acc: 0.6121 -- iter: 16640/21310\n"
     ]
    },
    {
     "name": "stdout",
     "output_type": "stream",
     "text": [
      "Training Step: 261  | total loss: \u001b[1m\u001b[32m0.66072\u001b[0m\u001b[0m | time: 4.119s\n\u001b[2K\r| Adam | epoch: 001 | loss: 0.66072 - acc: 0.6181 -- iter: 16704/21310\n"
     ]
    },
    {
     "name": "stdout",
     "output_type": "stream",
     "text": [
      "Training Step: 262  | total loss: \u001b[1m\u001b[32m0.65866\u001b[0m\u001b[0m | time: 4.138s\n\u001b[2K\r| Adam | epoch: 001 | loss: 0.65866 - acc: 0.6172 -- iter: 16768/21310\n"
     ]
    },
    {
     "name": "stdout",
     "output_type": "stream",
     "text": [
      "Training Step: 263  | total loss: \u001b[1m\u001b[32m0.66056\u001b[0m\u001b[0m | time: 4.147s\n\u001b[2K\r| Adam | epoch: 001 | loss: 0.66056 - acc: 0.6086 -- iter: 16832/21310\n"
     ]
    },
    {
     "name": "stdout",
     "output_type": "stream",
     "text": [
      "Training Step: 264  | total loss: \u001b[1m\u001b[32m0.66165\u001b[0m\u001b[0m | time: 4.157s\n\u001b[2K\r| Adam | epoch: 001 | loss: 0.66165 - acc: 0.6056 -- iter: 16896/21310\n"
     ]
    },
    {
     "name": "stdout",
     "output_type": "stream",
     "text": [
      "Training Step: 265  | total loss: \u001b[1m\u001b[32m0.66545\u001b[0m\u001b[0m | time: 4.170s\n\u001b[2K\r| Adam | epoch: 001 | loss: 0.66545 - acc: 0.5997 -- iter: 16960/21310\n"
     ]
    },
    {
     "name": "stdout",
     "output_type": "stream",
     "text": [
      "Training Step: 266  | total loss: \u001b[1m\u001b[32m0.66788\u001b[0m\u001b[0m | time: 4.189s\n\u001b[2K\r| Adam | epoch: 001 | loss: 0.66788 - acc: 0.5929 -- iter: 17024/21310\n"
     ]
    },
    {
     "name": "stdout",
     "output_type": "stream",
     "text": [
      "Training Step: 267  | total loss: \u001b[1m\u001b[32m0.66643\u001b[0m\u001b[0m | time: 4.200s\n\u001b[2K\r| Adam | epoch: 001 | loss: 0.66643 - acc: 0.6008 -- iter: 17088/21310\n"
     ]
    },
    {
     "name": "stdout",
     "output_type": "stream",
     "text": [
      "Training Step: 268  | total loss: \u001b[1m\u001b[32m0.66383\u001b[0m\u001b[0m | time: 4.217s\n\u001b[2K\r| Adam | epoch: 001 | loss: 0.66383 - acc: 0.6079 -- iter: 17152/21310\n"
     ]
    },
    {
     "name": "stdout",
     "output_type": "stream",
     "text": [
      "Training Step: 269  | total loss: \u001b[1m\u001b[32m0.66235\u001b[0m\u001b[0m | time: 4.239s\n\u001b[2K\r| Adam | epoch: 001 | loss: 0.66235 - acc: 0.6111 -- iter: 17216/21310\n"
     ]
    },
    {
     "name": "stdout",
     "output_type": "stream",
     "text": [
      "Training Step: 270  | total loss: \u001b[1m\u001b[32m0.66785\u001b[0m\u001b[0m | time: 4.264s\n\u001b[2K\r| Adam | epoch: 001 | loss: 0.66785 - acc: 0.6000 -- iter: 17280/21310\n"
     ]
    },
    {
     "name": "stdout",
     "output_type": "stream",
     "text": [
      "Training Step: 271  | total loss: \u001b[1m\u001b[32m0.66396\u001b[0m\u001b[0m | time: 4.275s\n\u001b[2K\r| Adam | epoch: 001 | loss: 0.66396 - acc: 0.6072 -- iter: 17344/21310\n"
     ]
    },
    {
     "name": "stdout",
     "output_type": "stream",
     "text": [
      "Training Step: 272  | total loss: \u001b[1m\u001b[32m0.66008\u001b[0m\u001b[0m | time: 4.294s\n\u001b[2K\r| Adam | epoch: 001 | loss: 0.66008 - acc: 0.6121 -- iter: 17408/21310\n"
     ]
    },
    {
     "name": "stdout",
     "output_type": "stream",
     "text": [
      "Training Step: 273  | total loss: \u001b[1m\u001b[32m0.66718\u001b[0m\u001b[0m | time: 4.311s\n\u001b[2K\r| Adam | epoch: 001 | loss: 0.66718 - acc: 0.5993 -- iter: 17472/21310\n"
     ]
    },
    {
     "name": "stdout",
     "output_type": "stream",
     "text": [
      "Training Step: 274  | total loss: \u001b[1m\u001b[32m0.66629\u001b[0m\u001b[0m | time: 4.324s\n\u001b[2K\r| Adam | epoch: 001 | loss: 0.66629 - acc: 0.6035 -- iter: 17536/21310\n"
     ]
    },
    {
     "name": "stdout",
     "output_type": "stream",
     "text": [
      "Training Step: 275  | total loss: \u001b[1m\u001b[32m0.66601\u001b[0m\u001b[0m | time: 4.346s\n\u001b[2K\r| Adam | epoch: 001 | loss: 0.66601 - acc: 0.6087 -- iter: 17600/21310\n"
     ]
    },
    {
     "name": "stdout",
     "output_type": "stream",
     "text": [
      "Training Step: 276  | total loss: \u001b[1m\u001b[32m0.66504\u001b[0m\u001b[0m | time: 4.359s\n\u001b[2K\r| Adam | epoch: 001 | loss: 0.66504 - acc: 0.6072 -- iter: 17664/21310\n"
     ]
    },
    {
     "name": "stdout",
     "output_type": "stream",
     "text": [
      "Training Step: 277  | total loss: \u001b[1m\u001b[32m0.66555\u001b[0m\u001b[0m | time: 4.372s\n\u001b[2K\r| Adam | epoch: 001 | loss: 0.66555 - acc: 0.6075 -- iter: 17728/21310\n"
     ]
    },
    {
     "name": "stdout",
     "output_type": "stream",
     "text": [
      "Training Step: 278  | total loss: \u001b[1m\u001b[32m0.66798\u001b[0m\u001b[0m | time: 4.392s\n\u001b[2K\r| Adam | epoch: 001 | loss: 0.66798 - acc: 0.6061 -- iter: 17792/21310\n"
     ]
    },
    {
     "name": "stdout",
     "output_type": "stream",
     "text": [
      "Training Step: 279  | total loss: \u001b[1m\u001b[32m0.66627\u001b[0m\u001b[0m | time: 4.401s\n\u001b[2K\r| Adam | epoch: 001 | loss: 0.66627 - acc: 0.6080 -- iter: 17856/21310\n"
     ]
    },
    {
     "name": "stdout",
     "output_type": "stream",
     "text": [
      "Training Step: 280  | total loss: \u001b[1m\u001b[32m0.66813\u001b[0m\u001b[0m | time: 4.416s\n\u001b[2K\r| Adam | epoch: 001 | loss: 0.66813 - acc: 0.6050 -- iter: 17920/21310\n"
     ]
    },
    {
     "name": "stdout",
     "output_type": "stream",
     "text": [
      "Training Step: 281  | total loss: \u001b[1m\u001b[32m0.66847\u001b[0m\u001b[0m | time: 4.445s\n\u001b[2K\r| Adam | epoch: 001 | loss: 0.66847 - acc: 0.6023 -- iter: 17984/21310\n"
     ]
    },
    {
     "name": "stdout",
     "output_type": "stream",
     "text": [
      "Training Step: 282  | total loss: \u001b[1m\u001b[32m0.67191\u001b[0m\u001b[0m | time: 4.459s\n\u001b[2K\r| Adam | epoch: 001 | loss: 0.67191 - acc: 0.5921 -- iter: 18048/21310\n"
     ]
    },
    {
     "name": "stdout",
     "output_type": "stream",
     "text": [
      "Training Step: 283  | total loss: \u001b[1m\u001b[32m0.67441\u001b[0m\u001b[0m | time: 4.473s\n\u001b[2K\r| Adam | epoch: 001 | loss: 0.67441 - acc: 0.5876 -- iter: 18112/21310\n"
     ]
    },
    {
     "name": "stdout",
     "output_type": "stream",
     "text": [
      "Training Step: 284  | total loss: \u001b[1m\u001b[32m0.67652\u001b[0m\u001b[0m | time: 4.492s\n\u001b[2K\r| Adam | epoch: 001 | loss: 0.67652 - acc: 0.5851 -- iter: 18176/21310\n"
     ]
    },
    {
     "name": "stdout",
     "output_type": "stream",
     "text": [
      "Training Step: 285  | total loss: \u001b[1m\u001b[32m0.67577\u001b[0m\u001b[0m | time: 4.507s\n\u001b[2K\r| Adam | epoch: 001 | loss: 0.67577 - acc: 0.5859 -- iter: 18240/21310\n"
     ]
    },
    {
     "name": "stdout",
     "output_type": "stream",
     "text": [
      "Training Step: 286  | total loss: \u001b[1m\u001b[32m0.67580\u001b[0m\u001b[0m | time: 4.517s\n\u001b[2K\r| Adam | epoch: 001 | loss: 0.67580 - acc: 0.5820 -- iter: 18304/21310\n"
     ]
    },
    {
     "name": "stdout",
     "output_type": "stream",
     "text": [
      "Training Step: 287  | total loss: \u001b[1m\u001b[32m0.67510\u001b[0m\u001b[0m | time: 4.544s\n\u001b[2K\r| Adam | epoch: 001 | loss: 0.67510 - acc: 0.5863 -- iter: 18368/21310\n"
     ]
    },
    {
     "name": "stdout",
     "output_type": "stream",
     "text": [
      "Training Step: 288  | total loss: \u001b[1m\u001b[32m0.67640\u001b[0m\u001b[0m | time: 4.555s\n\u001b[2K\r| Adam | epoch: 001 | loss: 0.67640 - acc: 0.5839 -- iter: 18432/21310\n"
     ]
    },
    {
     "name": "stdout",
     "output_type": "stream",
     "text": [
      "Training Step: 289  | total loss: \u001b[1m\u001b[32m0.67596\u001b[0m\u001b[0m | time: 4.566s\n\u001b[2K\r| Adam | epoch: 001 | loss: 0.67596 - acc: 0.5865 -- iter: 18496/21310\n"
     ]
    },
    {
     "name": "stdout",
     "output_type": "stream",
     "text": [
      "Training Step: 290  | total loss: \u001b[1m\u001b[32m0.67612\u001b[0m\u001b[0m | time: 4.580s\n\u001b[2K\r| Adam | epoch: 001 | loss: 0.67612 - acc: 0.5903 -- iter: 18560/21310\n"
     ]
    },
    {
     "name": "stdout",
     "output_type": "stream",
     "text": [
      "Training Step: 291  | total loss: \u001b[1m\u001b[32m0.67726\u001b[0m\u001b[0m | time: 4.591s\n\u001b[2K\r| Adam | epoch: 001 | loss: 0.67726 - acc: 0.5844 -- iter: 18624/21310\n"
     ]
    },
    {
     "name": "stdout",
     "output_type": "stream",
     "text": [
      "Training Step: 292  | total loss: \u001b[1m\u001b[32m0.67683\u001b[0m\u001b[0m | time: 4.600s\n\u001b[2K\r| Adam | epoch: 001 | loss: 0.67683 - acc: 0.5854 -- iter: 18688/21310\n"
     ]
    },
    {
     "name": "stdout",
     "output_type": "stream",
     "text": [
      "Training Step: 293  | total loss: \u001b[1m\u001b[32m0.67711\u001b[0m\u001b[0m | time: 4.613s\n\u001b[2K\r| Adam | epoch: 001 | loss: 0.67711 - acc: 0.5815 -- iter: 18752/21310\n"
     ]
    },
    {
     "name": "stdout",
     "output_type": "stream",
     "text": [
      "Training Step: 294  | total loss: \u001b[1m\u001b[32m0.67647\u001b[0m\u001b[0m | time: 4.632s\n\u001b[2K\r| Adam | epoch: 001 | loss: 0.67647 - acc: 0.5827 -- iter: 18816/21310\n"
     ]
    },
    {
     "name": "stdout",
     "output_type": "stream",
     "text": [
      "Training Step: 295  | total loss: \u001b[1m\u001b[32m0.67465\u001b[0m\u001b[0m | time: 4.648s\n\u001b[2K\r| Adam | epoch: 001 | loss: 0.67465 - acc: 0.5885 -- iter: 18880/21310\n"
     ]
    },
    {
     "name": "stdout",
     "output_type": "stream",
     "text": [
      "Training Step: 296  | total loss: \u001b[1m\u001b[32m0.67313\u001b[0m\u001b[0m | time: 4.656s\n\u001b[2K\r| Adam | epoch: 001 | loss: 0.67313 - acc: 0.5906 -- iter: 18944/21310\n"
     ]
    },
    {
     "name": "stdout",
     "output_type": "stream",
     "text": [
      "Training Step: 297  | total loss: \u001b[1m\u001b[32m0.67440\u001b[0m\u001b[0m | time: 4.666s\n\u001b[2K\r| Adam | epoch: 001 | loss: 0.67440 - acc: 0.5894 -- iter: 19008/21310\n"
     ]
    },
    {
     "name": "stdout",
     "output_type": "stream",
     "text": [
      "Training Step: 298  | total loss: \u001b[1m\u001b[32m0.67426\u001b[0m\u001b[0m | time: 4.676s\n\u001b[2K\r| Adam | epoch: 001 | loss: 0.67426 - acc: 0.5835 -- iter: 19072/21310\n"
     ]
    },
    {
     "name": "stdout",
     "output_type": "stream",
     "text": [
      "Training Step: 299  | total loss: \u001b[1m\u001b[32m0.67266\u001b[0m\u001b[0m | time: 4.690s\n\u001b[2K\r| Adam | epoch: 001 | loss: 0.67266 - acc: 0.5893 -- iter: 19136/21310\n"
     ]
    },
    {
     "name": "stdout",
     "output_type": "stream",
     "text": [
      "Training Step: 300  | total loss: \u001b[1m\u001b[32m0.67158\u001b[0m\u001b[0m | time: 4.698s\n\u001b[2K\r| Adam | epoch: 001 | loss: 0.67158 - acc: 0.5944 -- iter: 19200/21310\n--\n"
     ]
    },
    {
     "name": "stdout",
     "output_type": "stream",
     "text": [
      "Training Step: 301  | total loss: \u001b[1m\u001b[32m0.67269\u001b[0m\u001b[0m | time: 4.708s\n\u001b[2K\r| Adam | epoch: 001 | loss: 0.67269 - acc: 0.5943 -- iter: 19264/21310\n"
     ]
    },
    {
     "name": "stdout",
     "output_type": "stream",
     "text": [
      "Training Step: 302  | total loss: \u001b[1m\u001b[32m0.67107\u001b[0m\u001b[0m | time: 4.719s\n\u001b[2K\r| Adam | epoch: 001 | loss: 0.67107 - acc: 0.6005 -- iter: 19328/21310\n"
     ]
    },
    {
     "name": "stdout",
     "output_type": "stream",
     "text": [
      "Training Step: 303  | total loss: \u001b[1m\u001b[32m0.67239\u001b[0m\u001b[0m | time: 4.733s\n\u001b[2K\r| Adam | epoch: 001 | loss: 0.67239 - acc: 0.5936 -- iter: 19392/21310\n"
     ]
    },
    {
     "name": "stdout",
     "output_type": "stream",
     "text": [
      "Training Step: 304  | total loss: \u001b[1m\u001b[32m0.67090\u001b[0m\u001b[0m | time: 4.746s\n\u001b[2K\r| Adam | epoch: 001 | loss: 0.67090 - acc: 0.5967 -- iter: 19456/21310\n"
     ]
    },
    {
     "name": "stdout",
     "output_type": "stream",
     "text": [
      "Training Step: 305  | total loss: \u001b[1m\u001b[32m0.67316\u001b[0m\u001b[0m | time: 4.755s\n\u001b[2K\r| Adam | epoch: 001 | loss: 0.67316 - acc: 0.5902 -- iter: 19520/21310\n"
     ]
    },
    {
     "name": "stdout",
     "output_type": "stream",
     "text": [
      "Training Step: 306  | total loss: \u001b[1m\u001b[32m0.67408\u001b[0m\u001b[0m | time: 4.766s\n\u001b[2K\r| Adam | epoch: 001 | loss: 0.67408 - acc: 0.5859 -- iter: 19584/21310\n"
     ]
    },
    {
     "name": "stdout",
     "output_type": "stream",
     "text": [
      "Training Step: 307  | total loss: \u001b[1m\u001b[32m0.67150\u001b[0m\u001b[0m | time: 4.785s\n\u001b[2K\r| Adam | epoch: 001 | loss: 0.67150 - acc: 0.5929 -- iter: 19648/21310\n"
     ]
    },
    {
     "name": "stdout",
     "output_type": "stream",
     "text": [
      "Training Step: 308  | total loss: \u001b[1m\u001b[32m0.67251\u001b[0m\u001b[0m | time: 4.803s\n\u001b[2K\r| Adam | epoch: 001 | loss: 0.67251 - acc: 0.5945 -- iter: 19712/21310\n"
     ]
    },
    {
     "name": "stdout",
     "output_type": "stream",
     "text": [
      "Training Step: 309  | total loss: \u001b[1m\u001b[32m0.66650\u001b[0m\u001b[0m | time: 4.816s\n\u001b[2K\r| Adam | epoch: 001 | loss: 0.66650 - acc: 0.6070 -- iter: 19776/21310\n"
     ]
    },
    {
     "name": "stdout",
     "output_type": "stream",
     "text": [
      "Training Step: 310  | total loss: \u001b[1m\u001b[32m0.66551\u001b[0m\u001b[0m | time: 4.833s\n\u001b[2K\r| Adam | epoch: 001 | loss: 0.66551 - acc: 0.6056 -- iter: 19840/21310\n"
     ]
    },
    {
     "name": "stdout",
     "output_type": "stream",
     "text": [
      "Training Step: 311  | total loss: \u001b[1m\u001b[32m0.66476\u001b[0m\u001b[0m | time: 4.843s\n\u001b[2K\r| Adam | epoch: 001 | loss: 0.66476 - acc: 0.6076 -- iter: 19904/21310\n"
     ]
    },
    {
     "name": "stdout",
     "output_type": "stream",
     "text": [
      "Training Step: 312  | total loss: \u001b[1m\u001b[32m0.66529\u001b[0m\u001b[0m | time: 4.861s\n\u001b[2K\r| Adam | epoch: 001 | loss: 0.66529 - acc: 0.6031 -- iter: 19968/21310\n"
     ]
    },
    {
     "name": "stdout",
     "output_type": "stream",
     "text": [
      "Training Step: 313  | total loss: \u001b[1m\u001b[32m0.66352\u001b[0m\u001b[0m | time: 4.877s\n\u001b[2K\r| Adam | epoch: 001 | loss: 0.66352 - acc: 0.6068 -- iter: 20032/21310\n"
     ]
    },
    {
     "name": "stdout",
     "output_type": "stream",
     "text": [
      "Training Step: 314  | total loss: \u001b[1m\u001b[32m0.66639\u001b[0m\u001b[0m | time: 4.887s\n\u001b[2K\r| Adam | epoch: 001 | loss: 0.66639 - acc: 0.6024 -- iter: 20096/21310\n"
     ]
    },
    {
     "name": "stdout",
     "output_type": "stream",
     "text": [
      "Training Step: 315  | total loss: \u001b[1m\u001b[32m0.67717\u001b[0m\u001b[0m | time: 4.900s\n\u001b[2K\r| Adam | epoch: 001 | loss: 0.67717 - acc: 0.5859 -- iter: 20160/21310\n"
     ]
    },
    {
     "name": "stdout",
     "output_type": "stream",
     "text": [
      "Training Step: 316  | total loss: \u001b[1m\u001b[32m0.66873\u001b[0m\u001b[0m | time: 4.911s\n\u001b[2K\r| Adam | epoch: 001 | loss: 0.66873 - acc: 0.6008 -- iter: 20224/21310\n"
     ]
    },
    {
     "name": "stdout",
     "output_type": "stream",
     "text": [
      "Training Step: 317  | total loss: \u001b[1m\u001b[32m0.66534\u001b[0m\u001b[0m | time: 4.925s\n\u001b[2K\r| Adam | epoch: 001 | loss: 0.66534 - acc: 0.6063 -- iter: 20288/21310\n"
     ]
    },
    {
     "name": "stdout",
     "output_type": "stream",
     "text": [
      "Training Step: 318  | total loss: \u001b[1m\u001b[32m0.66572\u001b[0m\u001b[0m | time: 4.938s\n\u001b[2K\r| Adam | epoch: 001 | loss: 0.66572 - acc: 0.6035 -- iter: 20352/21310\n"
     ]
    },
    {
     "name": "stdout",
     "output_type": "stream",
     "text": [
      "Training Step: 319  | total loss: \u001b[1m\u001b[32m0.66151\u001b[0m\u001b[0m | time: 4.947s\n\u001b[2K\r| Adam | epoch: 001 | loss: 0.66151 - acc: 0.6103 -- iter: 20416/21310\n"
     ]
    },
    {
     "name": "stdout",
     "output_type": "stream",
     "text": [
      "Training Step: 320  | total loss: \u001b[1m\u001b[32m0.65999\u001b[0m\u001b[0m | time: 4.955s\n\u001b[2K\r| Adam | epoch: 001 | loss: 0.65999 - acc: 0.6087 -- iter: 20480/21310\n"
     ]
    },
    {
     "name": "stdout",
     "output_type": "stream",
     "text": [
      "Training Step: 321  | total loss: \u001b[1m\u001b[32m0.65956\u001b[0m\u001b[0m | time: 4.974s\n\u001b[2K\r| Adam | epoch: 001 | loss: 0.65956 - acc: 0.6087 -- iter: 20544/21310\n"
     ]
    },
    {
     "name": "stdout",
     "output_type": "stream",
     "text": [
      "Training Step: 322  | total loss: \u001b[1m\u001b[32m0.66474\u001b[0m\u001b[0m | time: 4.983s\n\u001b[2K\r| Adam | epoch: 001 | loss: 0.66474 - acc: 0.5963 -- iter: 20608/21310\n"
     ]
    },
    {
     "name": "stdout",
     "output_type": "stream",
     "text": [
      "Training Step: 323  | total loss: \u001b[1m\u001b[32m0.66973\u001b[0m\u001b[0m | time: 4.993s\n\u001b[2K\r| Adam | epoch: 001 | loss: 0.66973 - acc: 0.5914 -- iter: 20672/21310\n"
     ]
    },
    {
     "name": "stdout",
     "output_type": "stream",
     "text": [
      "Training Step: 324  | total loss: \u001b[1m\u001b[32m0.66803\u001b[0m\u001b[0m | time: 5.001s\n\u001b[2K\r| Adam | epoch: 001 | loss: 0.66803 - acc: 0.5978 -- iter: 20736/21310\n"
     ]
    },
    {
     "name": "stdout",
     "output_type": "stream",
     "text": [
      "Training Step: 325  | total loss: \u001b[1m\u001b[32m0.66693\u001b[0m\u001b[0m | time: 5.015s\n\u001b[2K\r| Adam | epoch: 001 | loss: 0.66693 - acc: 0.6037 -- iter: 20800/21310\n"
     ]
    },
    {
     "name": "stdout",
     "output_type": "stream",
     "text": [
      "Training Step: 326  | total loss: \u001b[1m\u001b[32m0.67092\u001b[0m\u001b[0m | time: 5.023s\n\u001b[2K\r| Adam | epoch: 001 | loss: 0.67092 - acc: 0.5980 -- iter: 20864/21310\n"
     ]
    },
    {
     "name": "stdout",
     "output_type": "stream",
     "text": [
      "Training Step: 327  | total loss: \u001b[1m\u001b[32m0.67445\u001b[0m\u001b[0m | time: 5.034s\n\u001b[2K\r| Adam | epoch: 001 | loss: 0.67445 - acc: 0.5898 -- iter: 20928/21310\n"
     ]
    },
    {
     "name": "stdout",
     "output_type": "stream",
     "text": [
      "Training Step: 328  | total loss: \u001b[1m\u001b[32m0.67534\u001b[0m\u001b[0m | time: 5.044s\n\u001b[2K\r| Adam | epoch: 001 | loss: 0.67534 - acc: 0.5870 -- iter: 20992/21310\n"
     ]
    },
    {
     "name": "stdout",
     "output_type": "stream",
     "text": [
      "Training Step: 329  | total loss: \u001b[1m\u001b[32m0.67538\u001b[0m\u001b[0m | time: 5.060s\n\u001b[2K\r| Adam | epoch: 001 | loss: 0.67538 - acc: 0.5830 -- iter: 21056/21310\n"
     ]
    },
    {
     "name": "stdout",
     "output_type": "stream",
     "text": [
      "Training Step: 330  | total loss: \u001b[1m\u001b[32m0.67281\u001b[0m\u001b[0m | time: 5.072s\n\u001b[2K\r| Adam | epoch: 001 | loss: 0.67281 - acc: 0.5888 -- iter: 21120/21310\n"
     ]
    },
    {
     "name": "stdout",
     "output_type": "stream",
     "text": [
      "Training Step: 331  | total loss: \u001b[1m\u001b[32m0.67014\u001b[0m\u001b[0m | time: 5.084s\n\u001b[2K\r| Adam | epoch: 001 | loss: 0.67014 - acc: 0.5987 -- iter: 21184/21310\n"
     ]
    },
    {
     "name": "stdout",
     "output_type": "stream",
     "text": [
      "Training Step: 332  | total loss: \u001b[1m\u001b[32m0.66862\u001b[0m\u001b[0m | time: 5.093s\n\u001b[2K\r| Adam | epoch: 001 | loss: 0.66862 - acc: 0.6060 -- iter: 21248/21310\n"
     ]
    },
    {
     "name": "stdout",
     "output_type": "stream",
     "text": [
      "Training Step: 333  | total loss: \u001b[1m\u001b[32m0.66527\u001b[0m\u001b[0m | time: 5.110s\n\u001b[2K\r| Adam | epoch: 001 | loss: 0.66527 - acc: 0.6204 -- iter: 21310/21310\n--\n"
     ]
    },
    {
     "name": "stdout",
     "output_type": "stream",
     "text": [
      "Training Step: 334  | total loss: \u001b[1m\u001b[32m0.66467\u001b[0m\u001b[0m | time: 0.012s\n\u001b[2K\r| Adam | epoch: 002 | loss: 0.66467 - acc: 0.6180 -- iter: 00064/21310\n"
     ]
    },
    {
     "name": "stdout",
     "output_type": "stream",
     "text": [
      "Training Step: 335  | total loss: \u001b[1m\u001b[32m0.66491\u001b[0m\u001b[0m | time: 0.022s\n\u001b[2K\r| Adam | epoch: 002 | loss: 0.66491 - acc: 0.6143 -- iter: 00128/21310\n"
     ]
    },
    {
     "name": "stdout",
     "output_type": "stream",
     "text": [
      "Training Step: 336  | total loss: \u001b[1m\u001b[32m0.66324\u001b[0m\u001b[0m | time: 0.031s\n\u001b[2K\r| Adam | epoch: 002 | loss: 0.66324 - acc: 0.6200 -- iter: 00192/21310\n"
     ]
    },
    {
     "name": "stdout",
     "output_type": "stream",
     "text": [
      "Training Step: 337  | total loss: \u001b[1m\u001b[32m0.66380\u001b[0m\u001b[0m | time: 0.044s\n\u001b[2K\r| Adam | epoch: 002 | loss: 0.66380 - acc: 0.6205 -- iter: 00256/21310\n"
     ]
    },
    {
     "name": "stdout",
     "output_type": "stream",
     "text": [
      "Training Step: 338  | total loss: \u001b[1m\u001b[32m0.65990\u001b[0m\u001b[0m | time: 0.054s\n\u001b[2K\r| Adam | epoch: 002 | loss: 0.65990 - acc: 0.6288 -- iter: 00320/21310\n"
     ]
    },
    {
     "name": "stdout",
     "output_type": "stream",
     "text": [
      "Training Step: 339  | total loss: \u001b[1m\u001b[32m0.66309\u001b[0m\u001b[0m | time: 0.071s\n\u001b[2K\r| Adam | epoch: 002 | loss: 0.66309 - acc: 0.6269 -- iter: 00384/21310\n"
     ]
    },
    {
     "name": "stdout",
     "output_type": "stream",
     "text": [
      "Training Step: 340  | total loss: \u001b[1m\u001b[32m0.66004\u001b[0m\u001b[0m | time: 0.081s\n\u001b[2K\r| Adam | epoch: 002 | loss: 0.66004 - acc: 0.6282 -- iter: 00448/21310\n"
     ]
    },
    {
     "name": "stdout",
     "output_type": "stream",
     "text": [
      "Training Step: 341  | total loss: \u001b[1m\u001b[32m0.66162\u001b[0m\u001b[0m | time: 0.089s\n\u001b[2K\r| Adam | epoch: 002 | loss: 0.66162 - acc: 0.6248 -- iter: 00512/21310\n"
     ]
    },
    {
     "name": "stdout",
     "output_type": "stream",
     "text": [
      "Training Step: 342  | total loss: \u001b[1m\u001b[32m0.66386\u001b[0m\u001b[0m | time: 0.100s\n\u001b[2K\r| Adam | epoch: 002 | loss: 0.66386 - acc: 0.6217 -- iter: 00576/21310\n"
     ]
    },
    {
     "name": "stdout",
     "output_type": "stream",
     "text": [
      "Training Step: 343  | total loss: \u001b[1m\u001b[32m0.66718\u001b[0m\u001b[0m | time: 0.110s\n\u001b[2K\r| Adam | epoch: 002 | loss: 0.66718 - acc: 0.6158 -- iter: 00640/21310\n"
     ]
    },
    {
     "name": "stdout",
     "output_type": "stream",
     "text": [
      "Training Step: 344  | total loss: \u001b[1m\u001b[32m0.67131\u001b[0m\u001b[0m | time: 0.126s\n\u001b[2K\r| Adam | epoch: 002 | loss: 0.67131 - acc: 0.6011 -- iter: 00704/21310\n"
     ]
    },
    {
     "name": "stdout",
     "output_type": "stream",
     "text": [
      "Training Step: 345  | total loss: \u001b[1m\u001b[32m0.66566\u001b[0m\u001b[0m | time: 0.137s\n\u001b[2K\r| Adam | epoch: 002 | loss: 0.66566 - acc: 0.6081 -- iter: 00768/21310\n"
     ]
    },
    {
     "name": "stdout",
     "output_type": "stream",
     "text": [
      "Training Step: 346  | total loss: \u001b[1m\u001b[32m0.66700\u001b[0m\u001b[0m | time: 0.148s\n\u001b[2K\r| Adam | epoch: 002 | loss: 0.66700 - acc: 0.6083 -- iter: 00832/21310\n"
     ]
    },
    {
     "name": "stdout",
     "output_type": "stream",
     "text": [
      "Training Step: 347  | total loss: \u001b[1m\u001b[32m0.66744\u001b[0m\u001b[0m | time: 0.157s\n\u001b[2K\r| Adam | epoch: 002 | loss: 0.66744 - acc: 0.6099 -- iter: 00896/21310\n"
     ]
    },
    {
     "name": "stdout",
     "output_type": "stream",
     "text": [
      "Training Step: 348  | total loss: \u001b[1m\u001b[32m0.66878\u001b[0m\u001b[0m | time: 0.178s\n\u001b[2K\r| Adam | epoch: 002 | loss: 0.66878 - acc: 0.6052 -- iter: 00960/21310\n"
     ]
    },
    {
     "name": "stdout",
     "output_type": "stream",
     "text": [
      "Training Step: 349  | total loss: \u001b[1m\u001b[32m0.66827\u001b[0m\u001b[0m | time: 0.188s\n\u001b[2K\r| Adam | epoch: 002 | loss: 0.66827 - acc: 0.6103 -- iter: 01024/21310\n"
     ]
    },
    {
     "name": "stdout",
     "output_type": "stream",
     "text": [
      "Training Step: 350  | total loss: \u001b[1m\u001b[32m0.66856\u001b[0m\u001b[0m | time: 0.202s\n\u001b[2K\r| Adam | epoch: 002 | loss: 0.66856 - acc: 0.6055 -- iter: 01088/21310\n--\n"
     ]
    },
    {
     "name": "stdout",
     "output_type": "stream",
     "text": [
      "Training Step: 351  | total loss: \u001b[1m\u001b[32m0.66619\u001b[0m\u001b[0m | time: 0.217s\n\u001b[2K\r| Adam | epoch: 002 | loss: 0.66619 - acc: 0.6043 -- iter: 01152/21310\n"
     ]
    },
    {
     "name": "stdout",
     "output_type": "stream",
     "text": [
      "Training Step: 352  | total loss: \u001b[1m\u001b[32m0.66808\u001b[0m\u001b[0m | time: 0.227s\n\u001b[2K\r| Adam | epoch: 002 | loss: 0.66808 - acc: 0.5986 -- iter: 01216/21310\n"
     ]
    },
    {
     "name": "stdout",
     "output_type": "stream",
     "text": [
      "Training Step: 353  | total loss: \u001b[1m\u001b[32m0.66445\u001b[0m\u001b[0m | time: 0.237s\n\u001b[2K\r| Adam | epoch: 002 | loss: 0.66445 - acc: 0.6106 -- iter: 01280/21310\n"
     ]
    },
    {
     "name": "stdout",
     "output_type": "stream",
     "text": [
      "Training Step: 354  | total loss: \u001b[1m\u001b[32m0.66223\u001b[0m\u001b[0m | time: 0.248s\n\u001b[2K\r| Adam | epoch: 002 | loss: 0.66223 - acc: 0.6167 -- iter: 01344/21310\n"
     ]
    },
    {
     "name": "stdout",
     "output_type": "stream",
     "text": [
      "Training Step: 355  | total loss: \u001b[1m\u001b[32m0.66398\u001b[0m\u001b[0m | time: 0.268s\n\u001b[2K\r| Adam | epoch: 002 | loss: 0.66398 - acc: 0.6160 -- iter: 01408/21310\n"
     ]
    },
    {
     "name": "stdout",
     "output_type": "stream",
     "text": [
      "Training Step: 356  | total loss: \u001b[1m\u001b[32m0.66086\u001b[0m\u001b[0m | time: 0.284s\n\u001b[2K\r| Adam | epoch: 002 | loss: 0.66086 - acc: 0.6232 -- iter: 01472/21310\n"
     ]
    },
    {
     "name": "stdout",
     "output_type": "stream",
     "text": [
      "Training Step: 357  | total loss: \u001b[1m\u001b[32m0.66188\u001b[0m\u001b[0m | time: 0.296s\n\u001b[2K\r| Adam | epoch: 002 | loss: 0.66188 - acc: 0.6249 -- iter: 01536/21310\n"
     ]
    },
    {
     "name": "stdout",
     "output_type": "stream",
     "text": [
      "Training Step: 358  | total loss: \u001b[1m\u001b[32m0.66469\u001b[0m\u001b[0m | time: 0.310s\n\u001b[2K\r| Adam | epoch: 002 | loss: 0.66469 - acc: 0.6187 -- iter: 01600/21310\n"
     ]
    },
    {
     "name": "stdout",
     "output_type": "stream",
     "text": [
      "Training Step: 359  | total loss: \u001b[1m\u001b[32m0.65860\u001b[0m\u001b[0m | time: 0.320s\n\u001b[2K\r| Adam | epoch: 002 | loss: 0.65860 - acc: 0.6255 -- iter: 01664/21310\n"
     ]
    },
    {
     "name": "stdout",
     "output_type": "stream",
     "text": [
      "Training Step: 360  | total loss: \u001b[1m\u001b[32m0.65660\u001b[0m\u001b[0m | time: 0.331s\n\u001b[2K\r| Adam | epoch: 002 | loss: 0.65660 - acc: 0.6302 -- iter: 01728/21310\n"
     ]
    },
    {
     "name": "stdout",
     "output_type": "stream",
     "text": [
      "Training Step: 361  | total loss: \u001b[1m\u001b[32m0.65641\u001b[0m\u001b[0m | time: 0.340s\n\u001b[2K\r| Adam | epoch: 002 | loss: 0.65641 - acc: 0.6281 -- iter: 01792/21310\n"
     ]
    },
    {
     "name": "stdout",
     "output_type": "stream",
     "text": [
      "Training Step: 362  | total loss: \u001b[1m\u001b[32m0.65808\u001b[0m\u001b[0m | time: 0.352s\n\u001b[2K\r| Adam | epoch: 002 | loss: 0.65808 - acc: 0.6231 -- iter: 01856/21310\n"
     ]
    },
    {
     "name": "stdout",
     "output_type": "stream",
     "text": [
      "Training Step: 363  | total loss: \u001b[1m\u001b[32m0.65479\u001b[0m\u001b[0m | time: 0.367s\n\u001b[2K\r| Adam | epoch: 002 | loss: 0.65479 - acc: 0.6295 -- iter: 01920/21310\n"
     ]
    },
    {
     "name": "stdout",
     "output_type": "stream",
     "text": [
      "Training Step: 364  | total loss: \u001b[1m\u001b[32m0.66197\u001b[0m\u001b[0m | time: 0.381s\n\u001b[2K\r| Adam | epoch: 002 | loss: 0.66197 - acc: 0.6197 -- iter: 01984/21310\n"
     ]
    },
    {
     "name": "stdout",
     "output_type": "stream",
     "text": [
      "Training Step: 365  | total loss: \u001b[1m\u001b[32m0.65938\u001b[0m\u001b[0m | time: 0.399s\n\u001b[2K\r| Adam | epoch: 002 | loss: 0.65938 - acc: 0.6234 -- iter: 02048/21310\n"
     ]
    },
    {
     "name": "stdout",
     "output_type": "stream",
     "text": [
      "Training Step: 366  | total loss: \u001b[1m\u001b[32m0.66032\u001b[0m\u001b[0m | time: 0.417s\n\u001b[2K\r| Adam | epoch: 002 | loss: 0.66032 - acc: 0.6220 -- iter: 02112/21310\n"
     ]
    },
    {
     "name": "stdout",
     "output_type": "stream",
     "text": [
      "Training Step: 367  | total loss: \u001b[1m\u001b[32m0.65972\u001b[0m\u001b[0m | time: 0.430s\n\u001b[2K\r| Adam | epoch: 002 | loss: 0.65972 - acc: 0.6238 -- iter: 02176/21310\n"
     ]
    },
    {
     "name": "stdout",
     "output_type": "stream",
     "text": [
      "Training Step: 368  | total loss: \u001b[1m\u001b[32m0.65925\u001b[0m\u001b[0m | time: 0.441s\n\u001b[2K\r| Adam | epoch: 002 | loss: 0.65925 - acc: 0.6208 -- iter: 02240/21310\n"
     ]
    },
    {
     "name": "stdout",
     "output_type": "stream",
     "text": [
      "Training Step: 369  | total loss: \u001b[1m\u001b[32m0.65773\u001b[0m\u001b[0m | time: 0.460s\n\u001b[2K\r| Adam | epoch: 002 | loss: 0.65773 - acc: 0.6197 -- iter: 02304/21310\n"
     ]
    },
    {
     "name": "stdout",
     "output_type": "stream",
     "text": [
      "Training Step: 370  | total loss: \u001b[1m\u001b[32m0.65532\u001b[0m\u001b[0m | time: 0.475s\n\u001b[2K\r| Adam | epoch: 002 | loss: 0.65532 - acc: 0.6249 -- iter: 02368/21310\n"
     ]
    },
    {
     "name": "stdout",
     "output_type": "stream",
     "text": [
      "Training Step: 371  | total loss: \u001b[1m\u001b[32m0.65401\u001b[0m\u001b[0m | time: 0.485s\n\u001b[2K\r| Adam | epoch: 002 | loss: 0.65401 - acc: 0.6233 -- iter: 02432/21310\n"
     ]
    },
    {
     "name": "stdout",
     "output_type": "stream",
     "text": [
      "Training Step: 372  | total loss: \u001b[1m\u001b[32m0.65444\u001b[0m\u001b[0m | time: 0.494s\n\u001b[2K\r| Adam | epoch: 002 | loss: 0.65444 - acc: 0.6266 -- iter: 02496/21310\n"
     ]
    },
    {
     "name": "stdout",
     "output_type": "stream",
     "text": [
      "Training Step: 373  | total loss: \u001b[1m\u001b[32m0.65655\u001b[0m\u001b[0m | time: 0.506s\n\u001b[2K\r| Adam | epoch: 002 | loss: 0.65655 - acc: 0.6249 -- iter: 02560/21310\n"
     ]
    },
    {
     "name": "stdout",
     "output_type": "stream",
     "text": [
      "Training Step: 374  | total loss: \u001b[1m\u001b[32m0.65697\u001b[0m\u001b[0m | time: 0.519s\n\u001b[2K\r| Adam | epoch: 002 | loss: 0.65697 - acc: 0.6249 -- iter: 02624/21310\n"
     ]
    },
    {
     "name": "stdout",
     "output_type": "stream",
     "text": [
      "Training Step: 375  | total loss: \u001b[1m\u001b[32m0.65591\u001b[0m\u001b[0m | time: 0.530s\n\u001b[2K\r| Adam | epoch: 002 | loss: 0.65591 - acc: 0.6281 -- iter: 02688/21310\n"
     ]
    },
    {
     "name": "stdout",
     "output_type": "stream",
     "text": [
      "Training Step: 376  | total loss: \u001b[1m\u001b[32m0.65248\u001b[0m\u001b[0m | time: 0.547s\n\u001b[2K\r| Adam | epoch: 002 | loss: 0.65248 - acc: 0.6356 -- iter: 02752/21310\n"
     ]
    },
    {
     "name": "stdout",
     "output_type": "stream",
     "text": [
      "Training Step: 377  | total loss: \u001b[1m\u001b[32m0.65344\u001b[0m\u001b[0m | time: 0.558s\n\u001b[2K\r| Adam | epoch: 002 | loss: 0.65344 - acc: 0.6345 -- iter: 02816/21310\n"
     ]
    },
    {
     "name": "stdout",
     "output_type": "stream",
     "text": [
      "Training Step: 378  | total loss: \u001b[1m\u001b[32m0.65281\u001b[0m\u001b[0m | time: 0.570s\n\u001b[2K\r| Adam | epoch: 002 | loss: 0.65281 - acc: 0.6382 -- iter: 02880/21310\n"
     ]
    },
    {
     "name": "stdout",
     "output_type": "stream",
     "text": [
      "Training Step: 379  | total loss: \u001b[1m\u001b[32m0.65984\u001b[0m\u001b[0m | time: 0.582s\n\u001b[2K\r| Adam | epoch: 002 | loss: 0.65984 - acc: 0.6275 -- iter: 02944/21310\n"
     ]
    },
    {
     "name": "stdout",
     "output_type": "stream",
     "text": [
      "Training Step: 380  | total loss: \u001b[1m\u001b[32m0.66151\u001b[0m\u001b[0m | time: 0.598s\n\u001b[2K\r| Adam | epoch: 002 | loss: 0.66151 - acc: 0.6226 -- iter: 03008/21310\n"
     ]
    },
    {
     "name": "stdout",
     "output_type": "stream",
     "text": [
      "Training Step: 381  | total loss: \u001b[1m\u001b[32m0.65792\u001b[0m\u001b[0m | time: 0.611s\n\u001b[2K\r| Adam | epoch: 002 | loss: 0.65792 - acc: 0.6275 -- iter: 03072/21310\n"
     ]
    },
    {
     "name": "stdout",
     "output_type": "stream",
     "text": [
      "Training Step: 382  | total loss: \u001b[1m\u001b[32m0.66012\u001b[0m\u001b[0m | time: 0.632s\n\u001b[2K\r| Adam | epoch: 002 | loss: 0.66012 - acc: 0.6241 -- iter: 03136/21310\n"
     ]
    },
    {
     "name": "stdout",
     "output_type": "stream",
     "text": [
      "Training Step: 383  | total loss: \u001b[1m\u001b[32m0.65560\u001b[0m\u001b[0m | time: 0.647s\n\u001b[2K\r| Adam | epoch: 002 | loss: 0.65560 - acc: 0.6336 -- iter: 03200/21310\n"
     ]
    },
    {
     "name": "stdout",
     "output_type": "stream",
     "text": [
      "Training Step: 384  | total loss: \u001b[1m\u001b[32m0.65118\u001b[0m\u001b[0m | time: 0.661s\n\u001b[2K\r| Adam | epoch: 002 | loss: 0.65118 - acc: 0.6359 -- iter: 03264/21310\n"
     ]
    },
    {
     "name": "stdout",
     "output_type": "stream",
     "text": [
      "Training Step: 385  | total loss: \u001b[1m\u001b[32m0.64908\u001b[0m\u001b[0m | time: 0.673s\n\u001b[2K\r| Adam | epoch: 002 | loss: 0.64908 - acc: 0.6332 -- iter: 03328/21310\n"
     ]
    },
    {
     "name": "stdout",
     "output_type": "stream",
     "text": [
      "Training Step: 386  | total loss: \u001b[1m\u001b[32m0.65533\u001b[0m\u001b[0m | time: 0.686s\n\u001b[2K\r| Adam | epoch: 002 | loss: 0.65533 - acc: 0.6230 -- iter: 03392/21310\n"
     ]
    },
    {
     "name": "stdout",
     "output_type": "stream",
     "text": [
      "Training Step: 387  | total loss: \u001b[1m\u001b[32m0.65621\u001b[0m\u001b[0m | time: 0.703s\n\u001b[2K\r| Adam | epoch: 002 | loss: 0.65621 - acc: 0.6217 -- iter: 03456/21310\n"
     ]
    },
    {
     "name": "stdout",
     "output_type": "stream",
     "text": [
      "Training Step: 388  | total loss: \u001b[1m\u001b[32m0.65456\u001b[0m\u001b[0m | time: 0.722s\n\u001b[2K\r| Adam | epoch: 002 | loss: 0.65456 - acc: 0.6251 -- iter: 03520/21310\n"
     ]
    },
    {
     "name": "stdout",
     "output_type": "stream",
     "text": [
      "Training Step: 389  | total loss: \u001b[1m\u001b[32m0.66157\u001b[0m\u001b[0m | time: 0.740s\n\u001b[2K\r| Adam | epoch: 002 | loss: 0.66157 - acc: 0.6204 -- iter: 03584/21310\n"
     ]
    },
    {
     "name": "stdout",
     "output_type": "stream",
     "text": [
      "Training Step: 390  | total loss: \u001b[1m\u001b[32m0.66702\u001b[0m\u001b[0m | time: 0.751s\n\u001b[2K\r| Adam | epoch: 002 | loss: 0.66702 - acc: 0.6099 -- iter: 03648/21310\n"
     ]
    },
    {
     "name": "stdout",
     "output_type": "stream",
     "text": [
      "Training Step: 391  | total loss: \u001b[1m\u001b[32m0.66484\u001b[0m\u001b[0m | time: 0.762s\n\u001b[2K\r| Adam | epoch: 002 | loss: 0.66484 - acc: 0.6083 -- iter: 03712/21310\n"
     ]
    },
    {
     "name": "stdout",
     "output_type": "stream",
     "text": [
      "Training Step: 392  | total loss: \u001b[1m\u001b[32m0.66821\u001b[0m\u001b[0m | time: 0.780s\n\u001b[2K\r| Adam | epoch: 002 | loss: 0.66821 - acc: 0.6022 -- iter: 03776/21310\n"
     ]
    },
    {
     "name": "stdout",
     "output_type": "stream",
     "text": [
      "Training Step: 393  | total loss: \u001b[1m\u001b[32m0.66837\u001b[0m\u001b[0m | time: 0.788s\n\u001b[2K\r| Adam | epoch: 002 | loss: 0.66837 - acc: 0.5998 -- iter: 03840/21310\n"
     ]
    },
    {
     "name": "stdout",
     "output_type": "stream",
     "text": [
      "Training Step: 394  | total loss: \u001b[1m\u001b[32m0.66562\u001b[0m\u001b[0m | time: 0.799s\n\u001b[2K\r| Adam | epoch: 002 | loss: 0.66562 - acc: 0.6039 -- iter: 03904/21310\n"
     ]
    },
    {
     "name": "stdout",
     "output_type": "stream",
     "text": [
      "Training Step: 395  | total loss: \u001b[1m\u001b[32m0.66859\u001b[0m\u001b[0m | time: 0.809s\n\u001b[2K\r| Adam | epoch: 002 | loss: 0.66859 - acc: 0.5997 -- iter: 03968/21310\n"
     ]
    },
    {
     "name": "stdout",
     "output_type": "stream",
     "text": [
      "Training Step: 396  | total loss: \u001b[1m\u001b[32m0.66944\u001b[0m\u001b[0m | time: 0.827s\n\u001b[2K\r| Adam | epoch: 002 | loss: 0.66944 - acc: 0.5976 -- iter: 04032/21310\n"
     ]
    },
    {
     "name": "stdout",
     "output_type": "stream",
     "text": [
      "Training Step: 397  | total loss: \u001b[1m\u001b[32m0.66584\u001b[0m\u001b[0m | time: 0.835s\n\u001b[2K\r| Adam | epoch: 002 | loss: 0.66584 - acc: 0.6050 -- iter: 04096/21310\n"
     ]
    },
    {
     "name": "stdout",
     "output_type": "stream",
     "text": [
      "Training Step: 398  | total loss: \u001b[1m\u001b[32m0.66674\u001b[0m\u001b[0m | time: 0.844s\n\u001b[2K\r| Adam | epoch: 002 | loss: 0.66674 - acc: 0.5992 -- iter: 04160/21310\n"
     ]
    },
    {
     "name": "stdout",
     "output_type": "stream",
     "text": [
      "Training Step: 399  | total loss: \u001b[1m\u001b[32m0.66634\u001b[0m\u001b[0m | time: 0.854s\n\u001b[2K\r| Adam | epoch: 002 | loss: 0.66634 - acc: 0.5986 -- iter: 04224/21310\n"
     ]
    },
    {
     "name": "stdout",
     "output_type": "stream",
     "text": [
      "Training Step: 400  | total loss: \u001b[1m\u001b[32m0.66712\u001b[0m\u001b[0m | time: 0.870s\n\u001b[2K\r| Adam | epoch: 002 | loss: 0.66712 - acc: 0.5997 -- iter: 04288/21310\n--\n"
     ]
    },
    {
     "name": "stdout",
     "output_type": "stream",
     "text": [
      "Training Step: 401  | total loss: \u001b[1m\u001b[32m0.66825\u001b[0m\u001b[0m | time: 0.879s\n\u001b[2K\r| Adam | epoch: 002 | loss: 0.66825 - acc: 0.5976 -- iter: 04352/21310\n"
     ]
    },
    {
     "name": "stdout",
     "output_type": "stream",
     "text": [
      "Training Step: 402  | total loss: \u001b[1m\u001b[32m0.66838\u001b[0m\u001b[0m | time: 0.887s\n\u001b[2K\r| Adam | epoch: 002 | loss: 0.66838 - acc: 0.5972 -- iter: 04416/21310\n"
     ]
    },
    {
     "name": "stdout",
     "output_type": "stream",
     "text": [
      "Training Step: 403  | total loss: \u001b[1m\u001b[32m0.67066\u001b[0m\u001b[0m | time: 0.896s\n\u001b[2K\r| Adam | epoch: 002 | loss: 0.67066 - acc: 0.5875 -- iter: 04480/21310\n"
     ]
    },
    {
     "name": "stdout",
     "output_type": "stream",
     "text": [
      "Training Step: 404  | total loss: \u001b[1m\u001b[32m0.67108\u001b[0m\u001b[0m | time: 0.905s\n\u001b[2K\r| Adam | epoch: 002 | loss: 0.67108 - acc: 0.5928 -- iter: 04544/21310\n"
     ]
    },
    {
     "name": "stdout",
     "output_type": "stream",
     "text": [
      "Training Step: 405  | total loss: \u001b[1m\u001b[32m0.66819\u001b[0m\u001b[0m | time: 0.922s\n\u001b[2K\r| Adam | epoch: 002 | loss: 0.66819 - acc: 0.6007 -- iter: 04608/21310\n"
     ]
    },
    {
     "name": "stdout",
     "output_type": "stream",
     "text": [
      "Training Step: 406  | total loss: \u001b[1m\u001b[32m0.66955\u001b[0m\u001b[0m | time: 0.930s\n\u001b[2K\r| Adam | epoch: 002 | loss: 0.66955 - acc: 0.6000 -- iter: 04672/21310\n"
     ]
    },
    {
     "name": "stdout",
     "output_type": "stream",
     "text": [
      "Training Step: 407  | total loss: \u001b[1m\u001b[32m0.66878\u001b[0m\u001b[0m | time: 0.938s\n\u001b[2K\r| Adam | epoch: 002 | loss: 0.66878 - acc: 0.5994 -- iter: 04736/21310\n"
     ]
    },
    {
     "name": "stdout",
     "output_type": "stream",
     "text": [
      "Training Step: 408  | total loss: \u001b[1m\u001b[32m0.66672\u001b[0m\u001b[0m | time: 0.948s\n\u001b[2K\r| Adam | epoch: 002 | loss: 0.66672 - acc: 0.5957 -- iter: 04800/21310\n"
     ]
    },
    {
     "name": "stdout",
     "output_type": "stream",
     "text": [
      "Training Step: 409  | total loss: \u001b[1m\u001b[32m0.66701\u001b[0m\u001b[0m | time: 0.965s\n\u001b[2K\r| Adam | epoch: 002 | loss: 0.66701 - acc: 0.5939 -- iter: 04864/21310\n"
     ]
    },
    {
     "name": "stdout",
     "output_type": "stream",
     "text": [
      "Training Step: 410  | total loss: \u001b[1m\u001b[32m0.66809\u001b[0m\u001b[0m | time: 0.974s\n\u001b[2K\r| Adam | epoch: 002 | loss: 0.66809 - acc: 0.5908 -- iter: 04928/21310\n"
     ]
    },
    {
     "name": "stdout",
     "output_type": "stream",
     "text": [
      "Training Step: 411  | total loss: \u001b[1m\u001b[32m0.66912\u001b[0m\u001b[0m | time: 0.985s\n\u001b[2K\r| Adam | epoch: 002 | loss: 0.66912 - acc: 0.5880 -- iter: 04992/21310\n"
     ]
    },
    {
     "name": "stdout",
     "output_type": "stream",
     "text": [
      "Training Step: 412  | total loss: \u001b[1m\u001b[32m0.66917\u001b[0m\u001b[0m | time: 1.003s\n\u001b[2K\r| Adam | epoch: 002 | loss: 0.66917 - acc: 0.5885 -- iter: 05056/21310\n"
     ]
    },
    {
     "name": "stdout",
     "output_type": "stream",
     "text": [
      "Training Step: 413  | total loss: \u001b[1m\u001b[32m0.67354\u001b[0m\u001b[0m | time: 1.012s\n\u001b[2K\r| Adam | epoch: 002 | loss: 0.67354 - acc: 0.5812 -- iter: 05120/21310\n"
     ]
    },
    {
     "name": "stdout",
     "output_type": "stream",
     "text": [
      "Training Step: 414  | total loss: \u001b[1m\u001b[32m0.67001\u001b[0m\u001b[0m | time: 1.028s\n\u001b[2K\r| Adam | epoch: 002 | loss: 0.67001 - acc: 0.5825 -- iter: 05184/21310\n"
     ]
    },
    {
     "name": "stdout",
     "output_type": "stream",
     "text": [
      "Training Step: 415  | total loss: \u001b[1m\u001b[32m0.67091\u001b[0m\u001b[0m | time: 1.042s\n\u001b[2K\r| Adam | epoch: 002 | loss: 0.67091 - acc: 0.5821 -- iter: 05248/21310\n"
     ]
    },
    {
     "name": "stdout",
     "output_type": "stream",
     "text": [
      "Training Step: 416  | total loss: \u001b[1m\u001b[32m0.67106\u001b[0m\u001b[0m | time: 1.055s\n\u001b[2K\r| Adam | epoch: 002 | loss: 0.67106 - acc: 0.5879 -- iter: 05312/21310\n"
     ]
    },
    {
     "name": "stdout",
     "output_type": "stream",
     "text": [
      "Training Step: 417  | total loss: \u001b[1m\u001b[32m0.66889\u001b[0m\u001b[0m | time: 1.066s\n\u001b[2K\r| Adam | epoch: 002 | loss: 0.66889 - acc: 0.5932 -- iter: 05376/21310\n"
     ]
    },
    {
     "name": "stdout",
     "output_type": "stream",
     "text": [
      "Training Step: 418  | total loss: \u001b[1m\u001b[32m0.67087\u001b[0m\u001b[0m | time: 1.078s\n\u001b[2K\r| Adam | epoch: 002 | loss: 0.67087 - acc: 0.5870 -- iter: 05440/21310\n"
     ]
    },
    {
     "name": "stdout",
     "output_type": "stream",
     "text": [
      "Training Step: 419  | total loss: \u001b[1m\u001b[32m0.66921\u001b[0m\u001b[0m | time: 1.098s\n\u001b[2K\r| Adam | epoch: 002 | loss: 0.66921 - acc: 0.5877 -- iter: 05504/21310\n"
     ]
    },
    {
     "name": "stdout",
     "output_type": "stream",
     "text": [
      "Training Step: 420  | total loss: \u001b[1m\u001b[32m0.67088\u001b[0m\u001b[0m | time: 1.108s\n\u001b[2K\r| Adam | epoch: 002 | loss: 0.67088 - acc: 0.5883 -- iter: 05568/21310\n"
     ]
    },
    {
     "name": "stdout",
     "output_type": "stream",
     "text": [
      "Training Step: 421  | total loss: \u001b[1m\u001b[32m0.66936\u001b[0m\u001b[0m | time: 1.117s\n\u001b[2K\r| Adam | epoch: 002 | loss: 0.66936 - acc: 0.5935 -- iter: 05632/21310\n"
     ]
    },
    {
     "name": "stdout",
     "output_type": "stream",
     "text": [
      "Training Step: 422  | total loss: \u001b[1m\u001b[32m0.67203\u001b[0m\u001b[0m | time: 1.130s\n\u001b[2K\r| Adam | epoch: 002 | loss: 0.67203 - acc: 0.5904 -- iter: 05696/21310\n"
     ]
    },
    {
     "name": "stdout",
     "output_type": "stream",
     "text": [
      "Training Step: 423  | total loss: \u001b[1m\u001b[32m0.66895\u001b[0m\u001b[0m | time: 1.143s\n\u001b[2K\r| Adam | epoch: 002 | loss: 0.66895 - acc: 0.5939 -- iter: 05760/21310\n"
     ]
    },
    {
     "name": "stdout",
     "output_type": "stream",
     "text": [
      "Training Step: 424  | total loss: \u001b[1m\u001b[32m0.67289\u001b[0m\u001b[0m | time: 1.155s\n\u001b[2K\r| Adam | epoch: 002 | loss: 0.67289 - acc: 0.5907 -- iter: 05824/21310\n"
     ]
    },
    {
     "name": "stdout",
     "output_type": "stream",
     "text": [
      "Training Step: 425  | total loss: \u001b[1m\u001b[32m0.67122\u001b[0m\u001b[0m | time: 1.165s\n\u001b[2K\r| Adam | epoch: 002 | loss: 0.67122 - acc: 0.5957 -- iter: 05888/21310\n"
     ]
    },
    {
     "name": "stdout",
     "output_type": "stream",
     "text": [
      "Training Step: 426  | total loss: \u001b[1m\u001b[32m0.67169\u001b[0m\u001b[0m | time: 1.180s\n\u001b[2K\r| Adam | epoch: 002 | loss: 0.67169 - acc: 0.5908 -- iter: 05952/21310\n"
     ]
    },
    {
     "name": "stdout",
     "output_type": "stream",
     "text": [
      "Training Step: 427  | total loss: \u001b[1m\u001b[32m0.66898\u001b[0m\u001b[0m | time: 1.192s\n\u001b[2K\r| Adam | epoch: 002 | loss: 0.66898 - acc: 0.5958 -- iter: 06016/21310\n"
     ]
    },
    {
     "name": "stdout",
     "output_type": "stream",
     "text": [
      "Training Step: 428  | total loss: \u001b[1m\u001b[32m0.66369\u001b[0m\u001b[0m | time: 1.203s\n\u001b[2K\r| Adam | epoch: 002 | loss: 0.66369 - acc: 0.6081 -- iter: 06080/21310\n"
     ]
    },
    {
     "name": "stdout",
     "output_type": "stream",
     "text": [
      "Training Step: 429  | total loss: \u001b[1m\u001b[32m0.66061\u001b[0m\u001b[0m | time: 1.212s\n\u001b[2K\r| Adam | epoch: 002 | loss: 0.66061 - acc: 0.6129 -- iter: 06144/21310\n"
     ]
    },
    {
     "name": "stdout",
     "output_type": "stream",
     "text": [
      "Training Step: 430  | total loss: \u001b[1m\u001b[32m0.65976\u001b[0m\u001b[0m | time: 1.221s\n\u001b[2K\r| Adam | epoch: 002 | loss: 0.65976 - acc: 0.6173 -- iter: 06208/21310\n"
     ]
    },
    {
     "name": "stdout",
     "output_type": "stream",
     "text": [
      "Training Step: 431  | total loss: \u001b[1m\u001b[32m0.65659\u001b[0m\u001b[0m | time: 1.229s\n\u001b[2K\r| Adam | epoch: 002 | loss: 0.65659 - acc: 0.6305 -- iter: 06272/21310\n"
     ]
    },
    {
     "name": "stdout",
     "output_type": "stream",
     "text": [
      "Training Step: 432  | total loss: \u001b[1m\u001b[32m0.66009\u001b[0m\u001b[0m | time: 1.242s\n\u001b[2K\r| Adam | epoch: 002 | loss: 0.66009 - acc: 0.6128 -- iter: 06336/21310\n"
     ]
    },
    {
     "name": "stdout",
     "output_type": "stream",
     "text": [
      "Training Step: 433  | total loss: \u001b[1m\u001b[32m0.66325\u001b[0m\u001b[0m | time: 1.252s\n\u001b[2K\r| Adam | epoch: 002 | loss: 0.66325 - acc: 0.6015 -- iter: 06400/21310\n"
     ]
    },
    {
     "name": "stdout",
     "output_type": "stream",
     "text": [
      "Training Step: 434  | total loss: \u001b[1m\u001b[32m0.66592\u001b[0m\u001b[0m | time: 1.264s\n\u001b[2K\r| Adam | epoch: 002 | loss: 0.66592 - acc: 0.5945 -- iter: 06464/21310\n"
     ]
    },
    {
     "name": "stdout",
     "output_type": "stream",
     "text": [
      "Training Step: 435  | total loss: \u001b[1m\u001b[32m0.66361\u001b[0m\u001b[0m | time: 1.277s\n\u001b[2K\r| Adam | epoch: 002 | loss: 0.66361 - acc: 0.6022 -- iter: 06528/21310\n"
     ]
    },
    {
     "name": "stdout",
     "output_type": "stream",
     "text": [
      "Training Step: 436  | total loss: \u001b[1m\u001b[32m0.66650\u001b[0m\u001b[0m | time: 1.293s\n\u001b[2K\r| Adam | epoch: 002 | loss: 0.66650 - acc: 0.5983 -- iter: 06592/21310\n"
     ]
    },
    {
     "name": "stdout",
     "output_type": "stream",
     "text": [
      "Training Step: 437  | total loss: \u001b[1m\u001b[32m0.67144\u001b[0m\u001b[0m | time: 1.303s\n\u001b[2K\r| Adam | epoch: 002 | loss: 0.67144 - acc: 0.5853 -- iter: 06656/21310\n"
     ]
    },
    {
     "name": "stdout",
     "output_type": "stream",
     "text": [
      "Training Step: 438  | total loss: \u001b[1m\u001b[32m0.67183\u001b[0m\u001b[0m | time: 1.314s\n\u001b[2K\r| Adam | epoch: 002 | loss: 0.67183 - acc: 0.5940 -- iter: 06720/21310\n"
     ]
    },
    {
     "name": "stdout",
     "output_type": "stream",
     "text": [
      "Training Step: 439  | total loss: \u001b[1m\u001b[32m0.66873\u001b[0m\u001b[0m | time: 1.325s\n\u001b[2K\r| Adam | epoch: 002 | loss: 0.66873 - acc: 0.6002 -- iter: 06784/21310\n"
     ]
    },
    {
     "name": "stdout",
     "output_type": "stream",
     "text": [
      "Training Step: 440  | total loss: \u001b[1m\u001b[32m0.66631\u001b[0m\u001b[0m | time: 1.333s\n\u001b[2K\r| Adam | epoch: 002 | loss: 0.66631 - acc: 0.6027 -- iter: 06848/21310\n"
     ]
    },
    {
     "name": "stdout",
     "output_type": "stream",
     "text": [
      "Training Step: 441  | total loss: \u001b[1m\u001b[32m0.66561\u001b[0m\u001b[0m | time: 1.347s\n\u001b[2K\r| Adam | epoch: 002 | loss: 0.66561 - acc: 0.6049 -- iter: 06912/21310\n"
     ]
    },
    {
     "name": "stdout",
     "output_type": "stream",
     "text": [
      "Training Step: 442  | total loss: \u001b[1m\u001b[32m0.65895\u001b[0m\u001b[0m | time: 1.356s\n\u001b[2K\r| Adam | epoch: 002 | loss: 0.65895 - acc: 0.6163 -- iter: 06976/21310\n"
     ]
    },
    {
     "name": "stdout",
     "output_type": "stream",
     "text": [
      "Training Step: 443  | total loss: \u001b[1m\u001b[32m0.66023\u001b[0m\u001b[0m | time: 1.373s\n\u001b[2K\r| Adam | epoch: 002 | loss: 0.66023 - acc: 0.6109 -- iter: 07040/21310\n"
     ]
    },
    {
     "name": "stdout",
     "output_type": "stream",
     "text": [
      "Training Step: 444  | total loss: \u001b[1m\u001b[32m0.66021\u001b[0m\u001b[0m | time: 1.386s\n\u001b[2K\r| Adam | epoch: 002 | loss: 0.66021 - acc: 0.6092 -- iter: 07104/21310\n"
     ]
    },
    {
     "name": "stdout",
     "output_type": "stream",
     "text": [
      "Training Step: 445  | total loss: \u001b[1m\u001b[32m0.66013\u001b[0m\u001b[0m | time: 1.397s\n\u001b[2K\r| Adam | epoch: 002 | loss: 0.66013 - acc: 0.6092 -- iter: 07168/21310\n"
     ]
    },
    {
     "name": "stdout",
     "output_type": "stream",
     "text": [
      "Training Step: 446  | total loss: \u001b[1m\u001b[32m0.66141\u001b[0m\u001b[0m | time: 1.414s\n\u001b[2K\r| Adam | epoch: 002 | loss: 0.66141 - acc: 0.6045 -- iter: 07232/21310\n"
     ]
    },
    {
     "name": "stdout",
     "output_type": "stream",
     "text": [
      "Training Step: 447  | total loss: \u001b[1m\u001b[32m0.66466\u001b[0m\u001b[0m | time: 1.423s\n\u001b[2K\r| Adam | epoch: 002 | loss: 0.66466 - acc: 0.6050 -- iter: 07296/21310\n"
     ]
    },
    {
     "name": "stdout",
     "output_type": "stream",
     "text": [
      "Training Step: 448  | total loss: \u001b[1m\u001b[32m0.66380\u001b[0m\u001b[0m | time: 1.432s\n\u001b[2K\r| Adam | epoch: 002 | loss: 0.66380 - acc: 0.6039 -- iter: 07360/21310\n"
     ]
    },
    {
     "name": "stdout",
     "output_type": "stream",
     "text": [
      "Training Step: 449  | total loss: \u001b[1m\u001b[32m0.66887\u001b[0m\u001b[0m | time: 1.441s\n\u001b[2K\r| Adam | epoch: 002 | loss: 0.66887 - acc: 0.5904 -- iter: 07424/21310\n"
     ]
    },
    {
     "name": "stdout",
     "output_type": "stream",
     "text": [
      "Training Step: 450  | total loss: \u001b[1m\u001b[32m0.66743\u001b[0m\u001b[0m | time: 1.462s\n\u001b[2K\r| Adam | epoch: 002 | loss: 0.66743 - acc: 0.5907 -- iter: 07488/21310\n--\n"
     ]
    },
    {
     "name": "stdout",
     "output_type": "stream",
     "text": [
      "Training Step: 451  | total loss: \u001b[1m\u001b[32m0.66903\u001b[0m\u001b[0m | time: 1.475s\n\u001b[2K\r| Adam | epoch: 002 | loss: 0.66903 - acc: 0.5879 -- iter: 07552/21310\n"
     ]
    },
    {
     "name": "stdout",
     "output_type": "stream",
     "text": [
      "Training Step: 452  | total loss: \u001b[1m\u001b[32m0.67295\u001b[0m\u001b[0m | time: 1.484s\n\u001b[2K\r| Adam | epoch: 002 | loss: 0.67295 - acc: 0.5775 -- iter: 07616/21310\n"
     ]
    },
    {
     "name": "stdout",
     "output_type": "stream",
     "text": [
      "Training Step: 453  | total loss: \u001b[1m\u001b[32m0.67122\u001b[0m\u001b[0m | time: 1.498s\n\u001b[2K\r| Adam | epoch: 002 | loss: 0.67122 - acc: 0.5839 -- iter: 07680/21310\n"
     ]
    },
    {
     "name": "stdout",
     "output_type": "stream",
     "text": [
      "Training Step: 454  | total loss: \u001b[1m\u001b[32m0.67128\u001b[0m\u001b[0m | time: 1.508s\n\u001b[2K\r| Adam | epoch: 002 | loss: 0.67128 - acc: 0.5864 -- iter: 07744/21310\n"
     ]
    },
    {
     "name": "stdout",
     "output_type": "stream",
     "text": [
      "Training Step: 455  | total loss: \u001b[1m\u001b[32m0.67318\u001b[0m\u001b[0m | time: 1.521s\n\u001b[2K\r| Adam | epoch: 002 | loss: 0.67318 - acc: 0.5871 -- iter: 07808/21310\n"
     ]
    },
    {
     "name": "stdout",
     "output_type": "stream",
     "text": [
      "Training Step: 456  | total loss: \u001b[1m\u001b[32m0.67109\u001b[0m\u001b[0m | time: 1.530s\n\u001b[2K\r| Adam | epoch: 002 | loss: 0.67109 - acc: 0.5878 -- iter: 07872/21310\n"
     ]
    },
    {
     "name": "stdout",
     "output_type": "stream",
     "text": [
      "Training Step: 457  | total loss: \u001b[1m\u001b[32m0.67121\u001b[0m\u001b[0m | time: 1.545s\n\u001b[2K\r| Adam | epoch: 002 | loss: 0.67121 - acc: 0.5868 -- iter: 07936/21310\n"
     ]
    },
    {
     "name": "stdout",
     "output_type": "stream",
     "text": [
      "Training Step: 458  | total loss: \u001b[1m\u001b[32m0.67338\u001b[0m\u001b[0m | time: 1.573s\n\u001b[2K\r| Adam | epoch: 002 | loss: 0.67338 - acc: 0.5781 -- iter: 08000/21310\n"
     ]
    },
    {
     "name": "stdout",
     "output_type": "stream",
     "text": [
      "Training Step: 459  | total loss: \u001b[1m\u001b[32m0.67034\u001b[0m\u001b[0m | time: 1.582s\n\u001b[2K\r| Adam | epoch: 002 | loss: 0.67034 - acc: 0.5891 -- iter: 08064/21310\n"
     ]
    },
    {
     "name": "stdout",
     "output_type": "stream",
     "text": [
      "Training Step: 460  | total loss: \u001b[1m\u001b[32m0.67295\u001b[0m\u001b[0m | time: 1.593s\n\u001b[2K\r| Adam | epoch: 002 | loss: 0.67295 - acc: 0.5880 -- iter: 08128/21310\n"
     ]
    },
    {
     "name": "stdout",
     "output_type": "stream",
     "text": [
      "Training Step: 461  | total loss: \u001b[1m\u001b[32m0.67349\u001b[0m\u001b[0m | time: 1.603s\n\u001b[2K\r| Adam | epoch: 002 | loss: 0.67349 - acc: 0.5870 -- iter: 08192/21310\n"
     ]
    },
    {
     "name": "stdout",
     "output_type": "stream",
     "text": [
      "Training Step: 462  | total loss: \u001b[1m\u001b[32m0.67196\u001b[0m\u001b[0m | time: 1.620s\n\u001b[2K\r| Adam | epoch: 002 | loss: 0.67196 - acc: 0.5924 -- iter: 08256/21310\n"
     ]
    },
    {
     "name": "stdout",
     "output_type": "stream",
     "text": [
      "Training Step: 463  | total loss: \u001b[1m\u001b[32m0.67045\u001b[0m\u001b[0m | time: 1.632s\n\u001b[2K\r| Adam | epoch: 002 | loss: 0.67045 - acc: 0.5972 -- iter: 08320/21310\n"
     ]
    },
    {
     "name": "stdout",
     "output_type": "stream",
     "text": [
      "Training Step: 464  | total loss: \u001b[1m\u001b[32m0.66988\u001b[0m\u001b[0m | time: 1.644s\n\u001b[2K\r| Adam | epoch: 002 | loss: 0.66988 - acc: 0.5953 -- iter: 08384/21310\n"
     ]
    },
    {
     "name": "stdout",
     "output_type": "stream",
     "text": [
      "Training Step: 465  | total loss: \u001b[1m\u001b[32m0.67104\u001b[0m\u001b[0m | time: 1.652s\n\u001b[2K\r| Adam | epoch: 002 | loss: 0.67104 - acc: 0.5936 -- iter: 08448/21310\n"
     ]
    },
    {
     "name": "stdout",
     "output_type": "stream",
     "text": [
      "Training Step: 466  | total loss: \u001b[1m\u001b[32m0.67477\u001b[0m\u001b[0m | time: 1.678s\n\u001b[2K\r| Adam | epoch: 002 | loss: 0.67477 - acc: 0.5826 -- iter: 08512/21310\n"
     ]
    },
    {
     "name": "stdout",
     "output_type": "stream",
     "text": [
      "Training Step: 467  | total loss: \u001b[1m\u001b[32m0.66940\u001b[0m\u001b[0m | time: 1.689s\n\u001b[2K\r| Adam | epoch: 002 | loss: 0.66940 - acc: 0.5947 -- iter: 08576/21310\n"
     ]
    },
    {
     "name": "stdout",
     "output_type": "stream",
     "text": [
      "Training Step: 468  | total loss: \u001b[1m\u001b[32m0.66864\u001b[0m\u001b[0m | time: 1.700s\n\u001b[2K\r| Adam | epoch: 002 | loss: 0.66864 - acc: 0.5993 -- iter: 08640/21310\n"
     ]
    },
    {
     "name": "stdout",
     "output_type": "stream",
     "text": [
      "Training Step: 469  | total loss: \u001b[1m\u001b[32m0.66923\u001b[0m\u001b[0m | time: 1.719s\n\u001b[2K\r| Adam | epoch: 002 | loss: 0.66923 - acc: 0.5956 -- iter: 08704/21310\n"
     ]
    },
    {
     "name": "stdout",
     "output_type": "stream",
     "text": [
      "Training Step: 470  | total loss: \u001b[1m\u001b[32m0.67097\u001b[0m\u001b[0m | time: 1.729s\n\u001b[2K\r| Adam | epoch: 002 | loss: 0.67097 - acc: 0.5845 -- iter: 08768/21310\n"
     ]
    },
    {
     "name": "stdout",
     "output_type": "stream",
     "text": [
      "Training Step: 471  | total loss: \u001b[1m\u001b[32m0.67232\u001b[0m\u001b[0m | time: 1.738s\n\u001b[2K\r| Adam | epoch: 002 | loss: 0.67232 - acc: 0.5807 -- iter: 08832/21310\n"
     ]
    },
    {
     "name": "stdout",
     "output_type": "stream",
     "text": [
      "Training Step: 472  | total loss: \u001b[1m\u001b[32m0.67291\u001b[0m\u001b[0m | time: 1.747s\n\u001b[2K\r| Adam | epoch: 002 | loss: 0.67291 - acc: 0.5805 -- iter: 08896/21310\n"
     ]
    },
    {
     "name": "stdout",
     "output_type": "stream",
     "text": [
      "Training Step: 473  | total loss: \u001b[1m\u001b[32m0.66968\u001b[0m\u001b[0m | time: 1.764s\n\u001b[2K\r| Adam | epoch: 002 | loss: 0.66968 - acc: 0.5943 -- iter: 08960/21310\n"
     ]
    },
    {
     "name": "stdout",
     "output_type": "stream",
     "text": [
      "Training Step: 474  | total loss: \u001b[1m\u001b[32m0.67247\u001b[0m\u001b[0m | time: 1.778s\n\u001b[2K\r| Adam | epoch: 002 | loss: 0.67247 - acc: 0.5833 -- iter: 09024/21310\n"
     ]
    },
    {
     "name": "stdout",
     "output_type": "stream",
     "text": [
      "Training Step: 475  | total loss: \u001b[1m\u001b[32m0.67314\u001b[0m\u001b[0m | time: 1.788s\n\u001b[2K\r| Adam | epoch: 002 | loss: 0.67314 - acc: 0.5843 -- iter: 09088/21310\n"
     ]
    },
    {
     "name": "stdout",
     "output_type": "stream",
     "text": [
      "Training Step: 476  | total loss: \u001b[1m\u001b[32m0.67417\u001b[0m\u001b[0m | time: 1.798s\n\u001b[2K\r| Adam | epoch: 002 | loss: 0.67417 - acc: 0.5790 -- iter: 09152/21310\n"
     ]
    },
    {
     "name": "stdout",
     "output_type": "stream",
     "text": [
      "Training Step: 477  | total loss: \u001b[1m\u001b[32m0.67478\u001b[0m\u001b[0m | time: 1.811s\n\u001b[2K\r| Adam | epoch: 002 | loss: 0.67478 - acc: 0.5789 -- iter: 09216/21310\n"
     ]
    },
    {
     "name": "stdout",
     "output_type": "stream",
     "text": [
      "Training Step: 478  | total loss: \u001b[1m\u001b[32m0.67122\u001b[0m\u001b[0m | time: 1.826s\n\u001b[2K\r| Adam | epoch: 002 | loss: 0.67122 - acc: 0.5867 -- iter: 09280/21310\n"
     ]
    },
    {
     "name": "stdout",
     "output_type": "stream",
     "text": [
      "Training Step: 479  | total loss: \u001b[1m\u001b[32m0.67399\u001b[0m\u001b[0m | time: 1.837s\n\u001b[2K\r| Adam | epoch: 002 | loss: 0.67399 - acc: 0.5811 -- iter: 09344/21310\n"
     ]
    },
    {
     "name": "stdout",
     "output_type": "stream",
     "text": [
      "Training Step: 480  | total loss: \u001b[1m\u001b[32m0.67644\u001b[0m\u001b[0m | time: 1.850s\n\u001b[2K\r| Adam | epoch: 002 | loss: 0.67644 - acc: 0.5761 -- iter: 09408/21310\n"
     ]
    },
    {
     "name": "stdout",
     "output_type": "stream",
     "text": [
      "Training Step: 481  | total loss: \u001b[1m\u001b[32m0.67613\u001b[0m\u001b[0m | time: 1.864s\n\u001b[2K\r| Adam | epoch: 002 | loss: 0.67613 - acc: 0.5795 -- iter: 09472/21310\n"
     ]
    },
    {
     "name": "stdout",
     "output_type": "stream",
     "text": [
      "Training Step: 482  | total loss: \u001b[1m\u001b[32m0.67259\u001b[0m\u001b[0m | time: 1.877s\n\u001b[2K\r| Adam | epoch: 002 | loss: 0.67259 - acc: 0.5856 -- iter: 09536/21310\n"
     ]
    },
    {
     "name": "stdout",
     "output_type": "stream",
     "text": [
      "Training Step: 483  | total loss: \u001b[1m\u001b[32m0.67528\u001b[0m\u001b[0m | time: 1.891s\n\u001b[2K\r| Adam | epoch: 002 | loss: 0.67528 - acc: 0.5786 -- iter: 09600/21310\n"
     ]
    },
    {
     "name": "stdout",
     "output_type": "stream",
     "text": [
      "Training Step: 484  | total loss: \u001b[1m\u001b[32m0.67572\u001b[0m\u001b[0m | time: 1.899s\n\u001b[2K\r| Adam | epoch: 002 | loss: 0.67572 - acc: 0.5801 -- iter: 09664/21310\n"
     ]
    },
    {
     "name": "stdout",
     "output_type": "stream",
     "text": [
      "Training Step: 485  | total loss: \u001b[1m\u001b[32m0.67666\u001b[0m\u001b[0m | time: 1.914s\n\u001b[2K\r| Adam | epoch: 002 | loss: 0.67666 - acc: 0.5846 -- iter: 09728/21310\n"
     ]
    },
    {
     "name": "stdout",
     "output_type": "stream",
     "text": [
      "Training Step: 486  | total loss: \u001b[1m\u001b[32m0.67611\u001b[0m\u001b[0m | time: 1.932s\n\u001b[2K\r| Adam | epoch: 002 | loss: 0.67611 - acc: 0.5824 -- iter: 09792/21310\n"
     ]
    },
    {
     "name": "stdout",
     "output_type": "stream",
     "text": [
      "Training Step: 487  | total loss: \u001b[1m\u001b[32m0.67747\u001b[0m\u001b[0m | time: 1.941s\n\u001b[2K\r| Adam | epoch: 002 | loss: 0.67747 - acc: 0.5804 -- iter: 09856/21310\n"
     ]
    },
    {
     "name": "stdout",
     "output_type": "stream",
     "text": [
      "Training Step: 488  | total loss: \u001b[1m\u001b[32m0.67566\u001b[0m\u001b[0m | time: 1.950s\n\u001b[2K\r| Adam | epoch: 002 | loss: 0.67566 - acc: 0.5849 -- iter: 09920/21310\n"
     ]
    },
    {
     "name": "stdout",
     "output_type": "stream",
     "text": [
      "Training Step: 489  | total loss: \u001b[1m\u001b[32m0.67314\u001b[0m\u001b[0m | time: 1.962s\n\u001b[2K\r| Adam | epoch: 002 | loss: 0.67314 - acc: 0.5904 -- iter: 09984/21310\n"
     ]
    },
    {
     "name": "stdout",
     "output_type": "stream",
     "text": [
      "Training Step: 490  | total loss: \u001b[1m\u001b[32m0.67392\u001b[0m\u001b[0m | time: 1.980s\n\u001b[2K\r| Adam | epoch: 002 | loss: 0.67392 - acc: 0.5876 -- iter: 10048/21310\n"
     ]
    },
    {
     "name": "stdout",
     "output_type": "stream",
     "text": [
      "Training Step: 491  | total loss: \u001b[1m\u001b[32m0.66846\u001b[0m\u001b[0m | time: 1.994s\n\u001b[2K\r| Adam | epoch: 002 | loss: 0.66846 - acc: 0.5961 -- iter: 10112/21310\n"
     ]
    },
    {
     "name": "stdout",
     "output_type": "stream",
     "text": [
      "Training Step: 492  | total loss: \u001b[1m\u001b[32m0.66669\u001b[0m\u001b[0m | time: 2.008s\n\u001b[2K\r| Adam | epoch: 002 | loss: 0.66669 - acc: 0.5990 -- iter: 10176/21310\n"
     ]
    },
    {
     "name": "stdout",
     "output_type": "stream",
     "text": [
      "Training Step: 493  | total loss: \u001b[1m\u001b[32m0.66197\u001b[0m\u001b[0m | time: 2.028s\n\u001b[2K\r| Adam | epoch: 002 | loss: 0.66197 - acc: 0.6125 -- iter: 10240/21310\n"
     ]
    },
    {
     "name": "stdout",
     "output_type": "stream",
     "text": [
      "Training Step: 494  | total loss: \u001b[1m\u001b[32m0.66010\u001b[0m\u001b[0m | time: 2.045s\n\u001b[2K\r| Adam | epoch: 002 | loss: 0.66010 - acc: 0.6216 -- iter: 10304/21310\n"
     ]
    },
    {
     "name": "stdout",
     "output_type": "stream",
     "text": [
      "Training Step: 495  | total loss: \u001b[1m\u001b[32m0.66409\u001b[0m\u001b[0m | time: 2.064s\n\u001b[2K\r| Adam | epoch: 002 | loss: 0.66409 - acc: 0.6094 -- iter: 10368/21310\n"
     ]
    },
    {
     "name": "stdout",
     "output_type": "stream",
     "text": [
      "Training Step: 496  | total loss: \u001b[1m\u001b[32m0.66621\u001b[0m\u001b[0m | time: 2.082s\n\u001b[2K\r| Adam | epoch: 002 | loss: 0.66621 - acc: 0.6078 -- iter: 10432/21310\n"
     ]
    },
    {
     "name": "stdout",
     "output_type": "stream",
     "text": [
      "Training Step: 497  | total loss: \u001b[1m\u001b[32m0.66678\u001b[0m\u001b[0m | time: 2.093s\n\u001b[2K\r| Adam | epoch: 002 | loss: 0.66678 - acc: 0.6002 -- iter: 10496/21310\n"
     ]
    },
    {
     "name": "stdout",
     "output_type": "stream",
     "text": [
      "Training Step: 498  | total loss: \u001b[1m\u001b[32m0.66110\u001b[0m\u001b[0m | time: 2.103s\n\u001b[2K\r| Adam | epoch: 002 | loss: 0.66110 - acc: 0.6120 -- iter: 10560/21310\n"
     ]
    },
    {
     "name": "stdout",
     "output_type": "stream",
     "text": [
      "Training Step: 499  | total loss: \u001b[1m\u001b[32m0.65759\u001b[0m\u001b[0m | time: 2.124s\n\u001b[2K\r| Adam | epoch: 002 | loss: 0.65759 - acc: 0.6133 -- iter: 10624/21310\n"
     ]
    },
    {
     "name": "stdout",
     "output_type": "stream",
     "text": [
      "Training Step: 500  | total loss: \u001b[1m\u001b[32m0.66352\u001b[0m\u001b[0m | time: 2.138s\n\u001b[2K\r| Adam | epoch: 002 | loss: 0.66352 - acc: 0.6020 -- iter: 10688/21310\n--\n"
     ]
    },
    {
     "name": "stdout",
     "output_type": "stream",
     "text": [
      "Training Step: 501  | total loss: \u001b[1m\u001b[32m0.66107\u001b[0m\u001b[0m | time: 2.148s\n\u001b[2K\r| Adam | epoch: 002 | loss: 0.66107 - acc: 0.6074 -- iter: 10752/21310\n"
     ]
    },
    {
     "name": "stdout",
     "output_type": "stream",
     "text": [
      "Training Step: 502  | total loss: \u001b[1m\u001b[32m0.66819\u001b[0m\u001b[0m | time: 2.160s\n\u001b[2K\r| Adam | epoch: 002 | loss: 0.66819 - acc: 0.5951 -- iter: 10816/21310\n"
     ]
    },
    {
     "name": "stdout",
     "output_type": "stream",
     "text": [
      "Training Step: 503  | total loss: \u001b[1m\u001b[32m0.67115\u001b[0m\u001b[0m | time: 2.180s\n\u001b[2K\r| Adam | epoch: 002 | loss: 0.67115 - acc: 0.5903 -- iter: 10880/21310\n"
     ]
    },
    {
     "name": "stdout",
     "output_type": "stream",
     "text": [
      "Training Step: 504  | total loss: \u001b[1m\u001b[32m0.67089\u001b[0m\u001b[0m | time: 2.199s\n\u001b[2K\r| Adam | epoch: 002 | loss: 0.67089 - acc: 0.5922 -- iter: 10944/21310\n"
     ]
    },
    {
     "name": "stdout",
     "output_type": "stream",
     "text": [
      "Training Step: 505  | total loss: \u001b[1m\u001b[32m0.67041\u001b[0m\u001b[0m | time: 2.214s\n\u001b[2K\r| Adam | epoch: 002 | loss: 0.67041 - acc: 0.5939 -- iter: 11008/21310\n"
     ]
    },
    {
     "name": "stdout",
     "output_type": "stream",
     "text": [
      "Training Step: 506  | total loss: \u001b[1m\u001b[32m0.66940\u001b[0m\u001b[0m | time: 2.229s\n\u001b[2K\r| Adam | epoch: 002 | loss: 0.66940 - acc: 0.5970 -- iter: 11072/21310\n"
     ]
    },
    {
     "name": "stdout",
     "output_type": "stream",
     "text": [
      "Training Step: 507  | total loss: \u001b[1m\u001b[32m0.66983\u001b[0m\u001b[0m | time: 2.243s\n\u001b[2K\r| Adam | epoch: 002 | loss: 0.66983 - acc: 0.5951 -- iter: 11136/21310\n"
     ]
    },
    {
     "name": "stdout",
     "output_type": "stream",
     "text": [
      "Training Step: 508  | total loss: \u001b[1m\u001b[32m0.67120\u001b[0m\u001b[0m | time: 2.257s\n\u001b[2K\r| Adam | epoch: 002 | loss: 0.67120 - acc: 0.5981 -- iter: 11200/21310\n"
     ]
    },
    {
     "name": "stdout",
     "output_type": "stream",
     "text": [
      "Training Step: 509  | total loss: \u001b[1m\u001b[32m0.67393\u001b[0m\u001b[0m | time: 2.269s\n\u001b[2K\r| Adam | epoch: 002 | loss: 0.67393 - acc: 0.5930 -- iter: 11264/21310\n"
     ]
    },
    {
     "name": "stdout",
     "output_type": "stream",
     "text": [
      "Training Step: 510  | total loss: \u001b[1m\u001b[32m0.67463\u001b[0m\u001b[0m | time: 2.280s\n\u001b[2K\r| Adam | epoch: 002 | loss: 0.67463 - acc: 0.5884 -- iter: 11328/21310\n"
     ]
    },
    {
     "name": "stdout",
     "output_type": "stream",
     "text": [
      "Training Step: 511  | total loss: \u001b[1m\u001b[32m0.67638\u001b[0m\u001b[0m | time: 2.303s\n\u001b[2K\r| Adam | epoch: 002 | loss: 0.67638 - acc: 0.5858 -- iter: 11392/21310\n"
     ]
    },
    {
     "name": "stdout",
     "output_type": "stream",
     "text": [
      "Training Step: 512  | total loss: \u001b[1m\u001b[32m0.67181\u001b[0m\u001b[0m | time: 2.319s\n\u001b[2K\r| Adam | epoch: 002 | loss: 0.67181 - acc: 0.5882 -- iter: 11456/21310\n"
     ]
    },
    {
     "name": "stdout",
     "output_type": "stream",
     "text": [
      "Training Step: 513  | total loss: \u001b[1m\u001b[32m0.66879\u001b[0m\u001b[0m | time: 2.329s\n\u001b[2K\r| Adam | epoch: 002 | loss: 0.66879 - acc: 0.5887 -- iter: 11520/21310\n"
     ]
    },
    {
     "name": "stdout",
     "output_type": "stream",
     "text": [
      "Training Step: 514  | total loss: \u001b[1m\u001b[32m0.66992\u001b[0m\u001b[0m | time: 2.339s\n\u001b[2K\r| Adam | epoch: 002 | loss: 0.66992 - acc: 0.5877 -- iter: 11584/21310\n"
     ]
    },
    {
     "name": "stdout",
     "output_type": "stream",
     "text": [
      "Training Step: 515  | total loss: \u001b[1m\u001b[32m0.66974\u001b[0m\u001b[0m | time: 2.357s\n\u001b[2K\r| Adam | epoch: 002 | loss: 0.66974 - acc: 0.5898 -- iter: 11648/21310\n"
     ]
    },
    {
     "name": "stdout",
     "output_type": "stream",
     "text": [
      "Training Step: 516  | total loss: \u001b[1m\u001b[32m0.66658\u001b[0m\u001b[0m | time: 2.380s\n\u001b[2K\r| Adam | epoch: 002 | loss: 0.66658 - acc: 0.5949 -- iter: 11712/21310\n"
     ]
    },
    {
     "name": "stdout",
     "output_type": "stream",
     "text": [
      "Training Step: 517  | total loss: \u001b[1m\u001b[32m0.66579\u001b[0m\u001b[0m | time: 2.395s\n\u001b[2K\r| Adam | epoch: 002 | loss: 0.66579 - acc: 0.5995 -- iter: 11776/21310\n"
     ]
    },
    {
     "name": "stdout",
     "output_type": "stream",
     "text": [
      "Training Step: 518  | total loss: \u001b[1m\u001b[32m0.66465\u001b[0m\u001b[0m | time: 2.416s\n\u001b[2K\r| Adam | epoch: 002 | loss: 0.66465 - acc: 0.6036 -- iter: 11840/21310\n"
     ]
    },
    {
     "name": "stdout",
     "output_type": "stream",
     "text": [
      "Training Step: 519  | total loss: \u001b[1m\u001b[32m0.66260\u001b[0m\u001b[0m | time: 2.426s\n\u001b[2K\r| Adam | epoch: 002 | loss: 0.66260 - acc: 0.6057 -- iter: 11904/21310\n"
     ]
    },
    {
     "name": "stdout",
     "output_type": "stream",
     "text": [
      "Training Step: 520  | total loss: \u001b[1m\u001b[32m0.66530\u001b[0m\u001b[0m | time: 2.437s\n\u001b[2K\r| Adam | epoch: 002 | loss: 0.66530 - acc: 0.5967 -- iter: 11968/21310\n"
     ]
    },
    {
     "name": "stdout",
     "output_type": "stream",
     "text": [
      "Training Step: 521  | total loss: \u001b[1m\u001b[32m0.66402\u001b[0m\u001b[0m | time: 2.460s\n\u001b[2K\r| Adam | epoch: 002 | loss: 0.66402 - acc: 0.5980 -- iter: 12032/21310\n"
     ]
    },
    {
     "name": "stdout",
     "output_type": "stream",
     "text": [
      "Training Step: 522  | total loss: \u001b[1m\u001b[32m0.66620\u001b[0m\u001b[0m | time: 2.472s\n\u001b[2K\r| Adam | epoch: 002 | loss: 0.66620 - acc: 0.5991 -- iter: 12096/21310\n"
     ]
    },
    {
     "name": "stdout",
     "output_type": "stream",
     "text": [
      "Training Step: 523  | total loss: \u001b[1m\u001b[32m0.66350\u001b[0m\u001b[0m | time: 2.486s\n\u001b[2K\r| Adam | epoch: 002 | loss: 0.66350 - acc: 0.6033 -- iter: 12160/21310\n"
     ]
    },
    {
     "name": "stdout",
     "output_type": "stream",
     "text": [
      "Training Step: 524  | total loss: \u001b[1m\u001b[32m0.66230\u001b[0m\u001b[0m | time: 2.501s\n\u001b[2K\r| Adam | epoch: 002 | loss: 0.66230 - acc: 0.6023 -- iter: 12224/21310\n"
     ]
    },
    {
     "name": "stdout",
     "output_type": "stream",
     "text": [
      "Training Step: 525  | total loss: \u001b[1m\u001b[32m0.66473\u001b[0m\u001b[0m | time: 2.510s\n\u001b[2K\r| Adam | epoch: 002 | loss: 0.66473 - acc: 0.6046 -- iter: 12288/21310\n"
     ]
    },
    {
     "name": "stdout",
     "output_type": "stream",
     "text": [
      "Training Step: 526  | total loss: \u001b[1m\u001b[32m0.67294\u001b[0m\u001b[0m | time: 2.520s\n\u001b[2K\r| Adam | epoch: 002 | loss: 0.67294 - acc: 0.5957 -- iter: 12352/21310\n"
     ]
    },
    {
     "name": "stdout",
     "output_type": "stream",
     "text": [
      "Training Step: 527  | total loss: \u001b[1m\u001b[32m0.66767\u001b[0m\u001b[0m | time: 2.533s\n\u001b[2K\r| Adam | epoch: 002 | loss: 0.66767 - acc: 0.6096 -- iter: 12416/21310\n"
     ]
    },
    {
     "name": "stdout",
     "output_type": "stream",
     "text": [
      "Training Step: 528  | total loss: \u001b[1m\u001b[32m0.66859\u001b[0m\u001b[0m | time: 2.543s\n\u001b[2K\r| Adam | epoch: 002 | loss: 0.66859 - acc: 0.6080 -- iter: 12480/21310\n"
     ]
    },
    {
     "name": "stdout",
     "output_type": "stream",
     "text": [
      "Training Step: 529  | total loss: \u001b[1m\u001b[32m0.66679\u001b[0m\u001b[0m | time: 2.560s\n\u001b[2K\r| Adam | epoch: 002 | loss: 0.66679 - acc: 0.6112 -- iter: 12544/21310\n"
     ]
    },
    {
     "name": "stdout",
     "output_type": "stream",
     "text": [
      "Training Step: 530  | total loss: \u001b[1m\u001b[32m0.66822\u001b[0m\u001b[0m | time: 2.575s\n\u001b[2K\r| Adam | epoch: 002 | loss: 0.66822 - acc: 0.6064 -- iter: 12608/21310\n"
     ]
    },
    {
     "name": "stdout",
     "output_type": "stream",
     "text": [
      "Training Step: 531  | total loss: \u001b[1m\u001b[32m0.67074\u001b[0m\u001b[0m | time: 2.586s\n\u001b[2K\r| Adam | epoch: 002 | loss: 0.67074 - acc: 0.6020 -- iter: 12672/21310\n"
     ]
    },
    {
     "name": "stdout",
     "output_type": "stream",
     "text": [
      "Training Step: 532  | total loss: \u001b[1m\u001b[32m0.67313\u001b[0m\u001b[0m | time: 2.596s\n\u001b[2K\r| Adam | epoch: 002 | loss: 0.67313 - acc: 0.5933 -- iter: 12736/21310\n"
     ]
    },
    {
     "name": "stdout",
     "output_type": "stream",
     "text": [
      "Training Step: 533  | total loss: \u001b[1m\u001b[32m0.67017\u001b[0m\u001b[0m | time: 2.612s\n\u001b[2K\r| Adam | epoch: 002 | loss: 0.67017 - acc: 0.5950 -- iter: 12800/21310\n"
     ]
    },
    {
     "name": "stdout",
     "output_type": "stream",
     "text": [
      "Training Step: 534  | total loss: \u001b[1m\u001b[32m0.67059\u001b[0m\u001b[0m | time: 2.624s\n\u001b[2K\r| Adam | epoch: 002 | loss: 0.67059 - acc: 0.5933 -- iter: 12864/21310\n"
     ]
    },
    {
     "name": "stdout",
     "output_type": "stream",
     "text": [
      "Training Step: 535  | total loss: \u001b[1m\u001b[32m0.66916\u001b[0m\u001b[0m | time: 2.636s\n\u001b[2K\r| Adam | epoch: 002 | loss: 0.66916 - acc: 0.5949 -- iter: 12928/21310\n"
     ]
    },
    {
     "name": "stdout",
     "output_type": "stream",
     "text": [
      "Training Step: 536  | total loss: \u001b[1m\u001b[32m0.66821\u001b[0m\u001b[0m | time: 2.652s\n\u001b[2K\r| Adam | epoch: 002 | loss: 0.66821 - acc: 0.5932 -- iter: 12992/21310\n"
     ]
    },
    {
     "name": "stdout",
     "output_type": "stream",
     "text": [
      "Training Step: 537  | total loss: \u001b[1m\u001b[32m0.66947\u001b[0m\u001b[0m | time: 2.661s\n\u001b[2K\r| Adam | epoch: 002 | loss: 0.66947 - acc: 0.5964 -- iter: 13056/21310\n"
     ]
    },
    {
     "name": "stdout",
     "output_type": "stream",
     "text": [
      "Training Step: 538  | total loss: \u001b[1m\u001b[32m0.66927\u001b[0m\u001b[0m | time: 2.671s\n\u001b[2K\r| Adam | epoch: 002 | loss: 0.66927 - acc: 0.6008 -- iter: 13120/21310\n"
     ]
    },
    {
     "name": "stdout",
     "output_type": "stream",
     "text": [
      "Training Step: 539  | total loss: \u001b[1m\u001b[32m0.67018\u001b[0m\u001b[0m | time: 2.681s\n\u001b[2K\r| Adam | epoch: 002 | loss: 0.67018 - acc: 0.5970 -- iter: 13184/21310\n"
     ]
    },
    {
     "name": "stdout",
     "output_type": "stream",
     "text": [
      "Training Step: 540  | total loss: \u001b[1m\u001b[32m0.67138\u001b[0m\u001b[0m | time: 2.696s\n\u001b[2K\r| Adam | epoch: 002 | loss: 0.67138 - acc: 0.5935 -- iter: 13248/21310\n"
     ]
    },
    {
     "name": "stdout",
     "output_type": "stream",
     "text": [
      "Training Step: 541  | total loss: \u001b[1m\u001b[32m0.67331\u001b[0m\u001b[0m | time: 2.706s\n\u001b[2K\r| Adam | epoch: 002 | loss: 0.67331 - acc: 0.5857 -- iter: 13312/21310\n"
     ]
    },
    {
     "name": "stdout",
     "output_type": "stream",
     "text": [
      "Training Step: 542  | total loss: \u001b[1m\u001b[32m0.67552\u001b[0m\u001b[0m | time: 2.718s\n\u001b[2K\r| Adam | epoch: 002 | loss: 0.67552 - acc: 0.5756 -- iter: 13376/21310\n"
     ]
    },
    {
     "name": "stdout",
     "output_type": "stream",
     "text": [
      "Training Step: 543  | total loss: \u001b[1m\u001b[32m0.67714\u001b[0m\u001b[0m | time: 2.731s\n\u001b[2K\r| Adam | epoch: 002 | loss: 0.67714 - acc: 0.5727 -- iter: 13440/21310\n"
     ]
    },
    {
     "name": "stdout",
     "output_type": "stream",
     "text": [
      "Training Step: 544  | total loss: \u001b[1m\u001b[32m0.67835\u001b[0m\u001b[0m | time: 2.740s\n\u001b[2K\r| Adam | epoch: 002 | loss: 0.67835 - acc: 0.5670 -- iter: 13504/21310\n"
     ]
    },
    {
     "name": "stdout",
     "output_type": "stream",
     "text": [
      "Training Step: 545  | total loss: \u001b[1m\u001b[32m0.67414\u001b[0m\u001b[0m | time: 2.749s\n\u001b[2K\r| Adam | epoch: 002 | loss: 0.67414 - acc: 0.5806 -- iter: 13568/21310\n"
     ]
    },
    {
     "name": "stdout",
     "output_type": "stream",
     "text": [
      "Training Step: 546  | total loss: \u001b[1m\u001b[32m0.67288\u001b[0m\u001b[0m | time: 2.758s\n\u001b[2K\r| Adam | epoch: 002 | loss: 0.67288 - acc: 0.5757 -- iter: 13632/21310\n"
     ]
    },
    {
     "name": "stdout",
     "output_type": "stream",
     "text": [
      "Training Step: 547  | total loss: \u001b[1m\u001b[32m0.67374\u001b[0m\u001b[0m | time: 2.771s\n\u001b[2K\r| Adam | epoch: 002 | loss: 0.67374 - acc: 0.5697 -- iter: 13696/21310\n"
     ]
    },
    {
     "name": "stdout",
     "output_type": "stream",
     "text": [
      "Training Step: 548  | total loss: \u001b[1m\u001b[32m0.67462\u001b[0m\u001b[0m | time: 2.780s\n\u001b[2K\r| Adam | epoch: 002 | loss: 0.67462 - acc: 0.5658 -- iter: 13760/21310\n"
     ]
    },
    {
     "name": "stdout",
     "output_type": "stream",
     "text": [
      "Training Step: 549  | total loss: \u001b[1m\u001b[32m0.67428\u001b[0m\u001b[0m | time: 2.791s\n\u001b[2K\r| Adam | epoch: 002 | loss: 0.67428 - acc: 0.5655 -- iter: 13824/21310\n"
     ]
    },
    {
     "name": "stdout",
     "output_type": "stream",
     "text": [
      "Training Step: 550  | total loss: \u001b[1m\u001b[32m0.67289\u001b[0m\u001b[0m | time: 2.800s\n\u001b[2K\r| Adam | epoch: 002 | loss: 0.67289 - acc: 0.5683 -- iter: 13888/21310\n--\n"
     ]
    },
    {
     "name": "stdout",
     "output_type": "stream",
     "text": [
      "Training Step: 551  | total loss: \u001b[1m\u001b[32m0.67402\u001b[0m\u001b[0m | time: 2.808s\n\u001b[2K\r| Adam | epoch: 002 | loss: 0.67402 - acc: 0.5740 -- iter: 13952/21310\n"
     ]
    },
    {
     "name": "stdout",
     "output_type": "stream",
     "text": [
      "Training Step: 552  | total loss: \u001b[1m\u001b[32m0.67020\u001b[0m\u001b[0m | time: 2.817s\n\u001b[2K\r| Adam | epoch: 002 | loss: 0.67020 - acc: 0.5869 -- iter: 14016/21310\n"
     ]
    },
    {
     "name": "stdout",
     "output_type": "stream",
     "text": [
      "Training Step: 553  | total loss: \u001b[1m\u001b[32m0.66993\u001b[0m\u001b[0m | time: 2.832s\n\u001b[2K\r| Adam | epoch: 002 | loss: 0.66993 - acc: 0.5923 -- iter: 14080/21310\n"
     ]
    },
    {
     "name": "stdout",
     "output_type": "stream",
     "text": [
      "Training Step: 554  | total loss: \u001b[1m\u001b[32m0.66782\u001b[0m\u001b[0m | time: 2.842s\n\u001b[2K\r| Adam | epoch: 002 | loss: 0.66782 - acc: 0.5940 -- iter: 14144/21310\n"
     ]
    },
    {
     "name": "stdout",
     "output_type": "stream",
     "text": [
      "Training Step: 555  | total loss: \u001b[1m\u001b[32m0.67122\u001b[0m\u001b[0m | time: 2.852s\n\u001b[2K\r| Adam | epoch: 002 | loss: 0.67122 - acc: 0.5893 -- iter: 14208/21310\n"
     ]
    },
    {
     "name": "stdout",
     "output_type": "stream",
     "text": [
      "Training Step: 556  | total loss: \u001b[1m\u001b[32m0.67185\u001b[0m\u001b[0m | time: 2.861s\n\u001b[2K\r| Adam | epoch: 002 | loss: 0.67185 - acc: 0.5897 -- iter: 14272/21310\n"
     ]
    },
    {
     "name": "stdout",
     "output_type": "stream",
     "text": [
      "Training Step: 557  | total loss: \u001b[1m\u001b[32m0.67233\u001b[0m\u001b[0m | time: 2.874s\n\u001b[2K\r| Adam | epoch: 002 | loss: 0.67233 - acc: 0.5901 -- iter: 14336/21310\n"
     ]
    },
    {
     "name": "stdout",
     "output_type": "stream",
     "text": [
      "Training Step: 558  | total loss: \u001b[1m\u001b[32m0.67095\u001b[0m\u001b[0m | time: 2.883s\n\u001b[2K\r| Adam | epoch: 002 | loss: 0.67095 - acc: 0.5889 -- iter: 14400/21310\n"
     ]
    },
    {
     "name": "stdout",
     "output_type": "stream",
     "text": [
      "Training Step: 559  | total loss: \u001b[1m\u001b[32m0.67152\u001b[0m\u001b[0m | time: 2.892s\n\u001b[2K\r| Adam | epoch: 002 | loss: 0.67152 - acc: 0.5894 -- iter: 14464/21310\n"
     ]
    },
    {
     "name": "stdout",
     "output_type": "stream",
     "text": [
      "Training Step: 560  | total loss: \u001b[1m\u001b[32m0.66714\u001b[0m\u001b[0m | time: 2.908s\n\u001b[2K\r| Adam | epoch: 002 | loss: 0.66714 - acc: 0.5961 -- iter: 14528/21310\n"
     ]
    },
    {
     "name": "stdout",
     "output_type": "stream",
     "text": [
      "Training Step: 561  | total loss: \u001b[1m\u001b[32m0.66756\u001b[0m\u001b[0m | time: 2.918s\n\u001b[2K\r| Adam | epoch: 002 | loss: 0.66756 - acc: 0.5927 -- iter: 14592/21310\n"
     ]
    },
    {
     "name": "stdout",
     "output_type": "stream",
     "text": [
      "Training Step: 562  | total loss: \u001b[1m\u001b[32m0.66705\u001b[0m\u001b[0m | time: 2.927s\n\u001b[2K\r| Adam | epoch: 002 | loss: 0.66705 - acc: 0.5960 -- iter: 14656/21310\n"
     ]
    },
    {
     "name": "stdout",
     "output_type": "stream",
     "text": [
      "Training Step: 563  | total loss: \u001b[1m\u001b[32m0.66442\u001b[0m\u001b[0m | time: 2.936s\n\u001b[2K\r| Adam | epoch: 002 | loss: 0.66442 - acc: 0.5989 -- iter: 14720/21310\n"
     ]
    },
    {
     "name": "stdout",
     "output_type": "stream",
     "text": [
      "Training Step: 564  | total loss: \u001b[1m\u001b[32m0.66778\u001b[0m\u001b[0m | time: 2.950s\n\u001b[2K\r| Adam | epoch: 002 | loss: 0.66778 - acc: 0.5937 -- iter: 14784/21310\n"
     ]
    },
    {
     "name": "stdout",
     "output_type": "stream",
     "text": [
      "Training Step: 565  | total loss: \u001b[1m\u001b[32m0.66708\u001b[0m\u001b[0m | time: 2.960s\n\u001b[2K\r| Adam | epoch: 002 | loss: 0.66708 - acc: 0.5937 -- iter: 14848/21310\n"
     ]
    },
    {
     "name": "stdout",
     "output_type": "stream",
     "text": [
      "Training Step: 566  | total loss: \u001b[1m\u001b[32m0.66569\u001b[0m\u001b[0m | time: 2.971s\n\u001b[2K\r| Adam | epoch: 002 | loss: 0.66569 - acc: 0.5999 -- iter: 14912/21310\n"
     ]
    },
    {
     "name": "stdout",
     "output_type": "stream",
     "text": [
      "Training Step: 567  | total loss: \u001b[1m\u001b[32m0.67158\u001b[0m\u001b[0m | time: 2.988s\n\u001b[2K\r| Adam | epoch: 002 | loss: 0.67158 - acc: 0.5978 -- iter: 14976/21310\n"
     ]
    },
    {
     "name": "stdout",
     "output_type": "stream",
     "text": [
      "Training Step: 568  | total loss: \u001b[1m\u001b[32m0.66906\u001b[0m\u001b[0m | time: 2.998s\n\u001b[2K\r| Adam | epoch: 002 | loss: 0.66906 - acc: 0.6052 -- iter: 15040/21310\n"
     ]
    },
    {
     "name": "stdout",
     "output_type": "stream",
     "text": [
      "Training Step: 569  | total loss: \u001b[1m\u001b[32m0.66516\u001b[0m\u001b[0m | time: 3.008s\n\u001b[2K\r| Adam | epoch: 002 | loss: 0.66516 - acc: 0.6087 -- iter: 15104/21310\n"
     ]
    },
    {
     "name": "stdout",
     "output_type": "stream",
     "text": [
      "Training Step: 570  | total loss: \u001b[1m\u001b[32m0.66274\u001b[0m\u001b[0m | time: 3.018s\n\u001b[2K\r| Adam | epoch: 002 | loss: 0.66274 - acc: 0.6119 -- iter: 15168/21310\n"
     ]
    },
    {
     "name": "stdout",
     "output_type": "stream",
     "text": [
      "Training Step: 571  | total loss: \u001b[1m\u001b[32m0.65886\u001b[0m\u001b[0m | time: 3.031s\n\u001b[2K\r| Adam | epoch: 002 | loss: 0.65886 - acc: 0.6163 -- iter: 15232/21310\n"
     ]
    },
    {
     "name": "stdout",
     "output_type": "stream",
     "text": [
      "Training Step: 572  | total loss: \u001b[1m\u001b[32m0.66125\u001b[0m\u001b[0m | time: 3.044s\n\u001b[2K\r| Adam | epoch: 002 | loss: 0.66125 - acc: 0.6110 -- iter: 15296/21310\n"
     ]
    },
    {
     "name": "stdout",
     "output_type": "stream",
     "text": [
      "Training Step: 573  | total loss: \u001b[1m\u001b[32m0.65748\u001b[0m\u001b[0m | time: 3.058s\n\u001b[2K\r| Adam | epoch: 002 | loss: 0.65748 - acc: 0.6186 -- iter: 15360/21310\n"
     ]
    },
    {
     "name": "stdout",
     "output_type": "stream",
     "text": [
      "Training Step: 574  | total loss: \u001b[1m\u001b[32m0.65417\u001b[0m\u001b[0m | time: 3.072s\n\u001b[2K\r| Adam | epoch: 002 | loss: 0.65417 - acc: 0.6271 -- iter: 15424/21310\n"
     ]
    },
    {
     "name": "stdout",
     "output_type": "stream",
     "text": [
      "Training Step: 575  | total loss: \u001b[1m\u001b[32m0.65633\u001b[0m\u001b[0m | time: 3.084s\n\u001b[2K\r| Adam | epoch: 002 | loss: 0.65633 - acc: 0.6222 -- iter: 15488/21310\n"
     ]
    },
    {
     "name": "stdout",
     "output_type": "stream",
     "text": [
      "Training Step: 576  | total loss: \u001b[1m\u001b[32m0.65294\u001b[0m\u001b[0m | time: 3.094s\n\u001b[2K\r| Adam | epoch: 002 | loss: 0.65294 - acc: 0.6303 -- iter: 15552/21310\n"
     ]
    },
    {
     "name": "stdout",
     "output_type": "stream",
     "text": [
      "Training Step: 577  | total loss: \u001b[1m\u001b[32m0.65457\u001b[0m\u001b[0m | time: 3.103s\n\u001b[2K\r| Adam | epoch: 002 | loss: 0.65457 - acc: 0.6250 -- iter: 15616/21310\n"
     ]
    },
    {
     "name": "stdout",
     "output_type": "stream",
     "text": [
      "Training Step: 578  | total loss: \u001b[1m\u001b[32m0.65548\u001b[0m\u001b[0m | time: 3.115s\n\u001b[2K\r| Adam | epoch: 002 | loss: 0.65548 - acc: 0.6250 -- iter: 15680/21310\n"
     ]
    },
    {
     "name": "stdout",
     "output_type": "stream",
     "text": [
      "Training Step: 579  | total loss: \u001b[1m\u001b[32m0.65915\u001b[0m\u001b[0m | time: 3.127s\n\u001b[2K\r| Adam | epoch: 002 | loss: 0.65915 - acc: 0.6219 -- iter: 15744/21310\n"
     ]
    },
    {
     "name": "stdout",
     "output_type": "stream",
     "text": [
      "Training Step: 580  | total loss: \u001b[1m\u001b[32m0.65931\u001b[0m\u001b[0m | time: 3.140s\n\u001b[2K\r| Adam | epoch: 002 | loss: 0.65931 - acc: 0.6191 -- iter: 15808/21310\n"
     ]
    },
    {
     "name": "stdout",
     "output_type": "stream",
     "text": [
      "Training Step: 581  | total loss: \u001b[1m\u001b[32m0.66385\u001b[0m\u001b[0m | time: 3.152s\n\u001b[2K\r| Adam | epoch: 002 | loss: 0.66385 - acc: 0.6056 -- iter: 15872/21310\n"
     ]
    },
    {
     "name": "stdout",
     "output_type": "stream",
     "text": [
      "Training Step: 582  | total loss: \u001b[1m\u001b[32m0.66315\u001b[0m\u001b[0m | time: 3.166s\n\u001b[2K\r| Adam | epoch: 002 | loss: 0.66315 - acc: 0.6123 -- iter: 15936/21310\n"
     ]
    },
    {
     "name": "stdout",
     "output_type": "stream",
     "text": [
      "Training Step: 583  | total loss: \u001b[1m\u001b[32m0.67105\u001b[0m\u001b[0m | time: 3.185s\n\u001b[2K\r| Adam | epoch: 002 | loss: 0.67105 - acc: 0.5979 -- iter: 16000/21310\n"
     ]
    },
    {
     "name": "stdout",
     "output_type": "stream",
     "text": [
      "Training Step: 584  | total loss: \u001b[1m\u001b[32m0.66712\u001b[0m\u001b[0m | time: 3.194s\n\u001b[2K\r| Adam | epoch: 002 | loss: 0.66712 - acc: 0.5975 -- iter: 16064/21310\n"
     ]
    },
    {
     "name": "stdout",
     "output_type": "stream",
     "text": [
      "Training Step: 585  | total loss: \u001b[1m\u001b[32m0.66437\u001b[0m\u001b[0m | time: 3.204s\n\u001b[2K\r| Adam | epoch: 002 | loss: 0.66437 - acc: 0.6049 -- iter: 16128/21310\n"
     ]
    },
    {
     "name": "stdout",
     "output_type": "stream",
     "text": [
      "Training Step: 586  | total loss: \u001b[1m\u001b[32m0.66028\u001b[0m\u001b[0m | time: 3.216s\n\u001b[2K\r| Adam | epoch: 002 | loss: 0.66028 - acc: 0.6147 -- iter: 16192/21310\n"
     ]
    },
    {
     "name": "stdout",
     "output_type": "stream",
     "text": [
      "Training Step: 587  | total loss: \u001b[1m\u001b[32m0.66349\u001b[0m\u001b[0m | time: 3.233s\n\u001b[2K\r| Adam | epoch: 002 | loss: 0.66349 - acc: 0.6111 -- iter: 16256/21310\n"
     ]
    },
    {
     "name": "stdout",
     "output_type": "stream",
     "text": [
      "Training Step: 588  | total loss: \u001b[1m\u001b[32m0.66621\u001b[0m\u001b[0m | time: 3.245s\n\u001b[2K\r| Adam | epoch: 002 | loss: 0.66621 - acc: 0.6062 -- iter: 16320/21310\n"
     ]
    },
    {
     "name": "stdout",
     "output_type": "stream",
     "text": [
      "Training Step: 589  | total loss: \u001b[1m\u001b[32m0.66811\u001b[0m\u001b[0m | time: 3.255s\n\u001b[2K\r| Adam | epoch: 002 | loss: 0.66811 - acc: 0.5972 -- iter: 16384/21310\n"
     ]
    },
    {
     "name": "stdout",
     "output_type": "stream",
     "text": [
      "Training Step: 590  | total loss: \u001b[1m\u001b[32m0.67094\u001b[0m\u001b[0m | time: 3.269s\n\u001b[2K\r| Adam | epoch: 002 | loss: 0.67094 - acc: 0.5906 -- iter: 16448/21310\n"
     ]
    },
    {
     "name": "stdout",
     "output_type": "stream",
     "text": [
      "Training Step: 591  | total loss: \u001b[1m\u001b[32m0.66749\u001b[0m\u001b[0m | time: 3.287s\n\u001b[2K\r| Adam | epoch: 002 | loss: 0.66749 - acc: 0.5940 -- iter: 16512/21310\n"
     ]
    },
    {
     "name": "stdout",
     "output_type": "stream",
     "text": [
      "Training Step: 592  | total loss: \u001b[1m\u001b[32m0.66772\u001b[0m\u001b[0m | time: 3.299s\n\u001b[2K\r| Adam | epoch: 002 | loss: 0.66772 - acc: 0.5846 -- iter: 16576/21310\n"
     ]
    },
    {
     "name": "stdout",
     "output_type": "stream",
     "text": [
      "Training Step: 593  | total loss: \u001b[1m\u001b[32m0.66708\u001b[0m\u001b[0m | time: 3.307s\n\u001b[2K\r| Adam | epoch: 002 | loss: 0.66708 - acc: 0.5887 -- iter: 16640/21310\n"
     ]
    },
    {
     "name": "stdout",
     "output_type": "stream",
     "text": [
      "Training Step: 594  | total loss: \u001b[1m\u001b[32m0.66651\u001b[0m\u001b[0m | time: 3.319s\n\u001b[2K\r| Adam | epoch: 002 | loss: 0.66651 - acc: 0.5876 -- iter: 16704/21310\n"
     ]
    },
    {
     "name": "stdout",
     "output_type": "stream",
     "text": [
      "Training Step: 595  | total loss: \u001b[1m\u001b[32m0.66776\u001b[0m\u001b[0m | time: 3.331s\n\u001b[2K\r| Adam | epoch: 002 | loss: 0.66776 - acc: 0.5929 -- iter: 16768/21310\n"
     ]
    },
    {
     "name": "stdout",
     "output_type": "stream",
     "text": [
      "Training Step: 596  | total loss: \u001b[1m\u001b[32m0.66888\u001b[0m\u001b[0m | time: 3.343s\n\u001b[2K\r| Adam | epoch: 002 | loss: 0.66888 - acc: 0.5836 -- iter: 16832/21310\n"
     ]
    },
    {
     "name": "stdout",
     "output_type": "stream",
     "text": [
      "Training Step: 597  | total loss: \u001b[1m\u001b[32m0.67267\u001b[0m\u001b[0m | time: 3.354s\n\u001b[2K\r| Adam | epoch: 002 | loss: 0.67267 - acc: 0.5768 -- iter: 16896/21310\n"
     ]
    },
    {
     "name": "stdout",
     "output_type": "stream",
     "text": [
      "Training Step: 598  | total loss: \u001b[1m\u001b[32m0.67636\u001b[0m\u001b[0m | time: 3.365s\n\u001b[2K\r| Adam | epoch: 002 | loss: 0.67636 - acc: 0.5754 -- iter: 16960/21310\n"
     ]
    },
    {
     "name": "stdout",
     "output_type": "stream",
     "text": [
      "Training Step: 599  | total loss: \u001b[1m\u001b[32m0.67526\u001b[0m\u001b[0m | time: 3.378s\n\u001b[2K\r| Adam | epoch: 002 | loss: 0.67526 - acc: 0.5803 -- iter: 17024/21310\n"
     ]
    },
    {
     "name": "stdout",
     "output_type": "stream",
     "text": [
      "Training Step: 600  | total loss: \u001b[1m\u001b[32m0.67195\u001b[0m\u001b[0m | time: 3.389s\n\u001b[2K\r| Adam | epoch: 002 | loss: 0.67195 - acc: 0.5895 -- iter: 17088/21310\n--\n"
     ]
    },
    {
     "name": "stdout",
     "output_type": "stream",
     "text": [
      "Training Step: 601  | total loss: \u001b[1m\u001b[32m0.67396\u001b[0m\u001b[0m | time: 3.399s\n\u001b[2K\r| Adam | epoch: 002 | loss: 0.67396 - acc: 0.5915 -- iter: 17152/21310\n"
     ]
    },
    {
     "name": "stdout",
     "output_type": "stream",
     "text": [
      "Training Step: 602  | total loss: \u001b[1m\u001b[32m0.67141\u001b[0m\u001b[0m | time: 3.409s\n\u001b[2K\r| Adam | epoch: 002 | loss: 0.67141 - acc: 0.5995 -- iter: 17216/21310\n"
     ]
    },
    {
     "name": "stdout",
     "output_type": "stream",
     "text": [
      "Training Step: 603  | total loss: \u001b[1m\u001b[32m0.67177\u001b[0m\u001b[0m | time: 3.419s\n\u001b[2K\r| Adam | epoch: 002 | loss: 0.67177 - acc: 0.5927 -- iter: 17280/21310\n"
     ]
    },
    {
     "name": "stdout",
     "output_type": "stream",
     "text": [
      "Training Step: 604  | total loss: \u001b[1m\u001b[32m0.67141\u001b[0m\u001b[0m | time: 3.429s\n\u001b[2K\r| Adam | epoch: 002 | loss: 0.67141 - acc: 0.5912 -- iter: 17344/21310\n"
     ]
    },
    {
     "name": "stdout",
     "output_type": "stream",
     "text": [
      "Training Step: 605  | total loss: \u001b[1m\u001b[32m0.66815\u001b[0m\u001b[0m | time: 3.437s\n\u001b[2K\r| Adam | epoch: 002 | loss: 0.66815 - acc: 0.5993 -- iter: 17408/21310\n"
     ]
    },
    {
     "name": "stdout",
     "output_type": "stream",
     "text": [
      "Training Step: 606  | total loss: \u001b[1m\u001b[32m0.66759\u001b[0m\u001b[0m | time: 3.452s\n\u001b[2K\r| Adam | epoch: 002 | loss: 0.66759 - acc: 0.5972 -- iter: 17472/21310\n"
     ]
    },
    {
     "name": "stdout",
     "output_type": "stream",
     "text": [
      "Training Step: 607  | total loss: \u001b[1m\u001b[32m0.66902\u001b[0m\u001b[0m | time: 3.461s\n\u001b[2K\r| Adam | epoch: 002 | loss: 0.66902 - acc: 0.6000 -- iter: 17536/21310\n"
     ]
    },
    {
     "name": "stdout",
     "output_type": "stream",
     "text": [
      "Training Step: 608  | total loss: \u001b[1m\u001b[32m0.67066\u001b[0m\u001b[0m | time: 3.473s\n\u001b[2K\r| Adam | epoch: 002 | loss: 0.67066 - acc: 0.5993 -- iter: 17600/21310\n"
     ]
    },
    {
     "name": "stdout",
     "output_type": "stream",
     "text": [
      "Training Step: 609  | total loss: \u001b[1m\u001b[32m0.67241\u001b[0m\u001b[0m | time: 3.482s\n\u001b[2K\r| Adam | epoch: 002 | loss: 0.67241 - acc: 0.5941 -- iter: 17664/21310\n"
     ]
    },
    {
     "name": "stdout",
     "output_type": "stream",
     "text": [
      "Training Step: 610  | total loss: \u001b[1m\u001b[32m0.66639\u001b[0m\u001b[0m | time: 3.493s\n\u001b[2K\r| Adam | epoch: 002 | loss: 0.66639 - acc: 0.6050 -- iter: 17728/21310\n"
     ]
    },
    {
     "name": "stdout",
     "output_type": "stream",
     "text": [
      "Training Step: 611  | total loss: \u001b[1m\u001b[32m0.66262\u001b[0m\u001b[0m | time: 3.502s\n\u001b[2K\r| Adam | epoch: 002 | loss: 0.66262 - acc: 0.6054 -- iter: 17792/21310\n"
     ]
    },
    {
     "name": "stdout",
     "output_type": "stream",
     "text": [
      "Training Step: 612  | total loss: \u001b[1m\u001b[32m0.66370\u001b[0m\u001b[0m | time: 3.517s\n\u001b[2K\r| Adam | epoch: 002 | loss: 0.66370 - acc: 0.5965 -- iter: 17856/21310\n"
     ]
    },
    {
     "name": "stdout",
     "output_type": "stream",
     "text": [
      "Training Step: 613  | total loss: \u001b[1m\u001b[32m0.66358\u001b[0m\u001b[0m | time: 3.526s\n\u001b[2K\r| Adam | epoch: 002 | loss: 0.66358 - acc: 0.5899 -- iter: 17920/21310\n"
     ]
    },
    {
     "name": "stdout",
     "output_type": "stream",
     "text": [
      "Training Step: 614  | total loss: \u001b[1m\u001b[32m0.66165\u001b[0m\u001b[0m | time: 3.538s\n\u001b[2K\r| Adam | epoch: 002 | loss: 0.66165 - acc: 0.5934 -- iter: 17984/21310\n"
     ]
    },
    {
     "name": "stdout",
     "output_type": "stream",
     "text": [
      "Training Step: 615  | total loss: \u001b[1m\u001b[32m0.66031\u001b[0m\u001b[0m | time: 3.548s\n\u001b[2K\r| Adam | epoch: 002 | loss: 0.66031 - acc: 0.5903 -- iter: 18048/21310\n"
     ]
    },
    {
     "name": "stdout",
     "output_type": "stream",
     "text": [
      "Training Step: 616  | total loss: \u001b[1m\u001b[32m0.65771\u001b[0m\u001b[0m | time: 3.563s\n\u001b[2K\r| Adam | epoch: 002 | loss: 0.65771 - acc: 0.5969 -- iter: 18112/21310\n"
     ]
    },
    {
     "name": "stdout",
     "output_type": "stream",
     "text": [
      "Training Step: 617  | total loss: \u001b[1m\u001b[32m0.65911\u001b[0m\u001b[0m | time: 3.574s\n\u001b[2K\r| Adam | epoch: 002 | loss: 0.65911 - acc: 0.5997 -- iter: 18176/21310\n"
     ]
    },
    {
     "name": "stdout",
     "output_type": "stream",
     "text": [
      "Training Step: 618  | total loss: \u001b[1m\u001b[32m0.67050\u001b[0m\u001b[0m | time: 3.587s\n\u001b[2K\r| Adam | epoch: 002 | loss: 0.67050 - acc: 0.5882 -- iter: 18240/21310\n"
     ]
    },
    {
     "name": "stdout",
     "output_type": "stream",
     "text": [
      "Training Step: 619  | total loss: \u001b[1m\u001b[32m0.67343\u001b[0m\u001b[0m | time: 3.599s\n\u001b[2K\r| Adam | epoch: 002 | loss: 0.67343 - acc: 0.5841 -- iter: 18304/21310\n"
     ]
    },
    {
     "name": "stdout",
     "output_type": "stream",
     "text": [
      "Training Step: 620  | total loss: \u001b[1m\u001b[32m0.67393\u001b[0m\u001b[0m | time: 3.610s\n\u001b[2K\r| Adam | epoch: 002 | loss: 0.67393 - acc: 0.5929 -- iter: 18368/21310\n"
     ]
    },
    {
     "name": "stdout",
     "output_type": "stream",
     "text": [
      "Training Step: 621  | total loss: \u001b[1m\u001b[32m0.67153\u001b[0m\u001b[0m | time: 3.621s\n\u001b[2K\r| Adam | epoch: 002 | loss: 0.67153 - acc: 0.5914 -- iter: 18432/21310\n"
     ]
    },
    {
     "name": "stdout",
     "output_type": "stream",
     "text": [
      "Training Step: 622  | total loss: \u001b[1m\u001b[32m0.67066\u001b[0m\u001b[0m | time: 3.634s\n\u001b[2K\r| Adam | epoch: 002 | loss: 0.67066 - acc: 0.5932 -- iter: 18496/21310\n"
     ]
    },
    {
     "name": "stdout",
     "output_type": "stream",
     "text": [
      "Training Step: 623  | total loss: \u001b[1m\u001b[32m0.66954\u001b[0m\u001b[0m | time: 3.654s\n\u001b[2K\r| Adam | epoch: 002 | loss: 0.66954 - acc: 0.5870 -- iter: 18560/21310\n"
     ]
    },
    {
     "name": "stdout",
     "output_type": "stream",
     "text": [
      "Training Step: 624  | total loss: \u001b[1m\u001b[32m0.67306\u001b[0m\u001b[0m | time: 3.670s\n\u001b[2K\r| Adam | epoch: 002 | loss: 0.67306 - acc: 0.5783 -- iter: 18624/21310\n"
     ]
    },
    {
     "name": "stdout",
     "output_type": "stream",
     "text": [
      "Training Step: 625  | total loss: \u001b[1m\u001b[32m0.67526\u001b[0m\u001b[0m | time: 3.683s\n\u001b[2K\r| Adam | epoch: 002 | loss: 0.67526 - acc: 0.5783 -- iter: 18688/21310\n"
     ]
    },
    {
     "name": "stdout",
     "output_type": "stream",
     "text": [
      "Training Step: 626  | total loss: \u001b[1m\u001b[32m0.67364\u001b[0m\u001b[0m | time: 3.697s\n\u001b[2K\r| Adam | epoch: 002 | loss: 0.67364 - acc: 0.5861 -- iter: 18752/21310\n"
     ]
    },
    {
     "name": "stdout",
     "output_type": "stream",
     "text": [
      "Training Step: 627  | total loss: \u001b[1m\u001b[32m0.67104\u001b[0m\u001b[0m | time: 3.713s\n\u001b[2K\r| Adam | epoch: 002 | loss: 0.67104 - acc: 0.5915 -- iter: 18816/21310\n"
     ]
    },
    {
     "name": "stdout",
     "output_type": "stream",
     "text": [
      "Training Step: 628  | total loss: \u001b[1m\u001b[32m0.66493\u001b[0m\u001b[0m | time: 3.727s\n\u001b[2K\r| Adam | epoch: 002 | loss: 0.66493 - acc: 0.6027 -- iter: 18880/21310\n"
     ]
    },
    {
     "name": "stdout",
     "output_type": "stream",
     "text": [
      "Training Step: 629  | total loss: \u001b[1m\u001b[32m0.66694\u001b[0m\u001b[0m | time: 3.739s\n\u001b[2K\r| Adam | epoch: 002 | loss: 0.66694 - acc: 0.5940 -- iter: 18944/21310\n"
     ]
    },
    {
     "name": "stdout",
     "output_type": "stream",
     "text": [
      "Training Step: 630  | total loss: \u001b[1m\u001b[32m0.66494\u001b[0m\u001b[0m | time: 3.754s\n\u001b[2K\r| Adam | epoch: 002 | loss: 0.66494 - acc: 0.6002 -- iter: 19008/21310\n"
     ]
    },
    {
     "name": "stdout",
     "output_type": "stream",
     "text": [
      "Training Step: 631  | total loss: \u001b[1m\u001b[32m0.66150\u001b[0m\u001b[0m | time: 3.766s\n\u001b[2K\r| Adam | epoch: 002 | loss: 0.66150 - acc: 0.6058 -- iter: 19072/21310\n"
     ]
    },
    {
     "name": "stdout",
     "output_type": "stream",
     "text": [
      "Training Step: 632  | total loss: \u001b[1m\u001b[32m0.65921\u001b[0m\u001b[0m | time: 3.779s\n\u001b[2K\r| Adam | epoch: 002 | loss: 0.65921 - acc: 0.6077 -- iter: 19136/21310\n"
     ]
    },
    {
     "name": "stdout",
     "output_type": "stream",
     "text": [
      "Training Step: 633  | total loss: \u001b[1m\u001b[32m0.66221\u001b[0m\u001b[0m | time: 3.791s\n\u001b[2K\r| Adam | epoch: 002 | loss: 0.66221 - acc: 0.5985 -- iter: 19200/21310\n"
     ]
    },
    {
     "name": "stdout",
     "output_type": "stream",
     "text": [
      "Training Step: 634  | total loss: \u001b[1m\u001b[32m0.66236\u001b[0m\u001b[0m | time: 3.804s\n\u001b[2K\r| Adam | epoch: 002 | loss: 0.66236 - acc: 0.5996 -- iter: 19264/21310\n"
     ]
    },
    {
     "name": "stdout",
     "output_type": "stream",
     "text": [
      "Training Step: 635  | total loss: \u001b[1m\u001b[32m0.66318\u001b[0m\u001b[0m | time: 3.817s\n\u001b[2K\r| Adam | epoch: 002 | loss: 0.66318 - acc: 0.6037 -- iter: 19328/21310\n"
     ]
    },
    {
     "name": "stdout",
     "output_type": "stream",
     "text": [
      "Training Step: 636  | total loss: \u001b[1m\u001b[32m0.65962\u001b[0m\u001b[0m | time: 3.825s\n\u001b[2K\r| Adam | epoch: 002 | loss: 0.65962 - acc: 0.6136 -- iter: 19392/21310\n"
     ]
    },
    {
     "name": "stdout",
     "output_type": "stream",
     "text": [
      "Training Step: 637  | total loss: \u001b[1m\u001b[32m0.66163\u001b[0m\u001b[0m | time: 3.838s\n\u001b[2K\r| Adam | epoch: 002 | loss: 0.66163 - acc: 0.6085 -- iter: 19456/21310\n"
     ]
    },
    {
     "name": "stdout",
     "output_type": "stream",
     "text": [
      "Training Step: 638  | total loss: \u001b[1m\u001b[32m0.66156\u001b[0m\u001b[0m | time: 3.856s\n\u001b[2K\r| Adam | epoch: 002 | loss: 0.66156 - acc: 0.6086 -- iter: 19520/21310\n"
     ]
    },
    {
     "name": "stdout",
     "output_type": "stream",
     "text": [
      "Training Step: 639  | total loss: \u001b[1m\u001b[32m0.66132\u001b[0m\u001b[0m | time: 3.865s\n\u001b[2K\r| Adam | epoch: 002 | loss: 0.66132 - acc: 0.6087 -- iter: 19584/21310\n"
     ]
    },
    {
     "name": "stdout",
     "output_type": "stream",
     "text": [
      "Training Step: 640  | total loss: \u001b[1m\u001b[32m0.66041\u001b[0m\u001b[0m | time: 3.875s\n\u001b[2K\r| Adam | epoch: 002 | loss: 0.66041 - acc: 0.6134 -- iter: 19648/21310\n"
     ]
    },
    {
     "name": "stdout",
     "output_type": "stream",
     "text": [
      "Training Step: 641  | total loss: \u001b[1m\u001b[32m0.66091\u001b[0m\u001b[0m | time: 3.888s\n\u001b[2K\r| Adam | epoch: 002 | loss: 0.66091 - acc: 0.6177 -- iter: 19712/21310\n"
     ]
    },
    {
     "name": "stdout",
     "output_type": "stream",
     "text": [
      "Training Step: 642  | total loss: \u001b[1m\u001b[32m0.65713\u001b[0m\u001b[0m | time: 3.896s\n\u001b[2K\r| Adam | epoch: 002 | loss: 0.65713 - acc: 0.6185 -- iter: 19776/21310\n"
     ]
    },
    {
     "name": "stdout",
     "output_type": "stream",
     "text": [
      "Training Step: 643  | total loss: \u001b[1m\u001b[32m0.65793\u001b[0m\u001b[0m | time: 3.907s\n\u001b[2K\r| Adam | epoch: 002 | loss: 0.65793 - acc: 0.6129 -- iter: 19840/21310\n"
     ]
    },
    {
     "name": "stdout",
     "output_type": "stream",
     "text": [
      "Training Step: 644  | total loss: \u001b[1m\u001b[32m0.65937\u001b[0m\u001b[0m | time: 3.915s\n\u001b[2K\r| Adam | epoch: 002 | loss: 0.65937 - acc: 0.6094 -- iter: 19904/21310\n"
     ]
    },
    {
     "name": "stdout",
     "output_type": "stream",
     "text": [
      "Training Step: 645  | total loss: \u001b[1m\u001b[32m0.66062\u001b[0m\u001b[0m | time: 3.924s\n\u001b[2K\r| Adam | epoch: 002 | loss: 0.66062 - acc: 0.6063 -- iter: 19968/21310\n"
     ]
    },
    {
     "name": "stdout",
     "output_type": "stream",
     "text": [
      "Training Step: 646  | total loss: \u001b[1m\u001b[32m0.65899\u001b[0m\u001b[0m | time: 3.933s\n\u001b[2K\r| Adam | epoch: 002 | loss: 0.65899 - acc: 0.6144 -- iter: 20032/21310\n"
     ]
    },
    {
     "name": "stdout",
     "output_type": "stream",
     "text": [
      "Training Step: 647  | total loss: \u001b[1m\u001b[32m0.65755\u001b[0m\u001b[0m | time: 3.948s\n\u001b[2K\r| Adam | epoch: 002 | loss: 0.65755 - acc: 0.6170 -- iter: 20096/21310\n"
     ]
    },
    {
     "name": "stdout",
     "output_type": "stream",
     "text": [
      "Training Step: 648  | total loss: \u001b[1m\u001b[32m0.66474\u001b[0m\u001b[0m | time: 3.957s\n\u001b[2K\r| Adam | epoch: 002 | loss: 0.66474 - acc: 0.6037 -- iter: 20160/21310\n"
     ]
    },
    {
     "name": "stdout",
     "output_type": "stream",
     "text": [
      "Training Step: 649  | total loss: \u001b[1m\u001b[32m0.65889\u001b[0m\u001b[0m | time: 3.965s\n\u001b[2K\r| Adam | epoch: 002 | loss: 0.65889 - acc: 0.6106 -- iter: 20224/21310\n"
     ]
    },
    {
     "name": "stdout",
     "output_type": "stream",
     "text": [
      "Training Step: 650  | total loss: \u001b[1m\u001b[32m0.66219\u001b[0m\u001b[0m | time: 3.974s\n\u001b[2K\r| Adam | epoch: 002 | loss: 0.66219 - acc: 0.6058 -- iter: 20288/21310\n--\n"
     ]
    },
    {
     "name": "stdout",
     "output_type": "stream",
     "text": [
      "Training Step: 651  | total loss: \u001b[1m\u001b[32m0.66649\u001b[0m\u001b[0m | time: 3.982s\n\u001b[2K\r| Adam | epoch: 002 | loss: 0.66649 - acc: 0.6046 -- iter: 20352/21310\n"
     ]
    },
    {
     "name": "stdout",
     "output_type": "stream",
     "text": [
      "Training Step: 652  | total loss: \u001b[1m\u001b[32m0.66348\u001b[0m\u001b[0m | time: 3.992s\n\u001b[2K\r| Adam | epoch: 002 | loss: 0.66348 - acc: 0.6082 -- iter: 20416/21310\n"
     ]
    },
    {
     "name": "stdout",
     "output_type": "stream",
     "text": [
      "Training Step: 653  | total loss: \u001b[1m\u001b[32m0.66114\u001b[0m\u001b[0m | time: 4.000s\n\u001b[2K\r| Adam | epoch: 002 | loss: 0.66114 - acc: 0.6114 -- iter: 20480/21310\n"
     ]
    },
    {
     "name": "stdout",
     "output_type": "stream",
     "text": [
      "Training Step: 654  | total loss: \u001b[1m\u001b[32m0.65717\u001b[0m\u001b[0m | time: 4.014s\n\u001b[2K\r| Adam | epoch: 002 | loss: 0.65717 - acc: 0.6190 -- iter: 20544/21310\n"
     ]
    },
    {
     "name": "stdout",
     "output_type": "stream",
     "text": [
      "Training Step: 655  | total loss: \u001b[1m\u001b[32m0.66112\u001b[0m\u001b[0m | time: 4.028s\n\u001b[2K\r| Adam | epoch: 002 | loss: 0.66112 - acc: 0.6149 -- iter: 20608/21310\n"
     ]
    },
    {
     "name": "stdout",
     "output_type": "stream",
     "text": [
      "Training Step: 656  | total loss: \u001b[1m\u001b[32m0.65670\u001b[0m\u001b[0m | time: 4.037s\n\u001b[2K\r| Adam | epoch: 002 | loss: 0.65670 - acc: 0.6237 -- iter: 20672/21310\n"
     ]
    },
    {
     "name": "stdout",
     "output_type": "stream",
     "text": [
      "Training Step: 657  | total loss: \u001b[1m\u001b[32m0.65445\u001b[0m\u001b[0m | time: 4.052s\n\u001b[2K\r| Adam | epoch: 002 | loss: 0.65445 - acc: 0.6286 -- iter: 20736/21310\n"
     ]
    },
    {
     "name": "stdout",
     "output_type": "stream",
     "text": [
      "Training Step: 658  | total loss: \u001b[1m\u001b[32m0.65648\u001b[0m\u001b[0m | time: 4.067s\n\u001b[2K\r| Adam | epoch: 002 | loss: 0.65648 - acc: 0.6220 -- iter: 20800/21310\n"
     ]
    },
    {
     "name": "stdout",
     "output_type": "stream",
     "text": [
      "Training Step: 659  | total loss: \u001b[1m\u001b[32m0.64871\u001b[0m\u001b[0m | time: 4.075s\n\u001b[2K\r| Adam | epoch: 002 | loss: 0.64871 - acc: 0.6332 -- iter: 20864/21310\n"
     ]
    },
    {
     "name": "stdout",
     "output_type": "stream",
     "text": [
      "Training Step: 660  | total loss: \u001b[1m\u001b[32m0.65296\u001b[0m\u001b[0m | time: 4.086s\n\u001b[2K\r| Adam | epoch: 002 | loss: 0.65296 - acc: 0.6261 -- iter: 20928/21310\n"
     ]
    },
    {
     "name": "stdout",
     "output_type": "stream",
     "text": [
      "Training Step: 661  | total loss: \u001b[1m\u001b[32m0.65671\u001b[0m\u001b[0m | time: 4.094s\n\u001b[2K\r| Adam | epoch: 002 | loss: 0.65671 - acc: 0.6198 -- iter: 20992/21310\n"
     ]
    },
    {
     "name": "stdout",
     "output_type": "stream",
     "text": [
      "Training Step: 662  | total loss: \u001b[1m\u001b[32m0.66136\u001b[0m\u001b[0m | time: 4.102s\n\u001b[2K\r| Adam | epoch: 002 | loss: 0.66136 - acc: 0.6172 -- iter: 21056/21310\n"
     ]
    },
    {
     "name": "stdout",
     "output_type": "stream",
     "text": [
      "Training Step: 663  | total loss: \u001b[1m\u001b[32m0.65752\u001b[0m\u001b[0m | time: 4.111s\n\u001b[2K\r| Adam | epoch: 002 | loss: 0.65752 - acc: 0.6226 -- iter: 21120/21310\n"
     ]
    },
    {
     "name": "stdout",
     "output_type": "stream",
     "text": [
      "Training Step: 664  | total loss: \u001b[1m\u001b[32m0.66244\u001b[0m\u001b[0m | time: 4.121s\n\u001b[2K\r| Adam | epoch: 002 | loss: 0.66244 - acc: 0.6166 -- iter: 21184/21310\n"
     ]
    },
    {
     "name": "stdout",
     "output_type": "stream",
     "text": [
      "Training Step: 665  | total loss: \u001b[1m\u001b[32m0.66449\u001b[0m\u001b[0m | time: 4.135s\n\u001b[2K\r| Adam | epoch: 002 | loss: 0.66449 - acc: 0.6112 -- iter: 21248/21310\n"
     ]
    },
    {
     "name": "stdout",
     "output_type": "stream",
     "text": [
      "Training Step: 666  | total loss: \u001b[1m\u001b[32m0.66542\u001b[0m\u001b[0m | time: 4.150s\n\u001b[2K\r| Adam | epoch: 002 | loss: 0.66542 - acc: 0.6079 -- iter: 21310/21310\n--\n"
     ]
    },
    {
     "name": "stdout",
     "output_type": "stream",
     "text": [
      "Training Step: 667  | total loss: \u001b[1m\u001b[32m0.66547\u001b[0m\u001b[0m | time: 0.008s\n\u001b[2K\r| Adam | epoch: 003 | loss: 0.66547 - acc: 0.6065 -- iter: 00064/21310\n"
     ]
    },
    {
     "name": "stdout",
     "output_type": "stream",
     "text": [
      "Training Step: 668  | total loss: \u001b[1m\u001b[32m0.66325\u001b[0m\u001b[0m | time: 0.017s\n\u001b[2K\r| Adam | epoch: 003 | loss: 0.66325 - acc: 0.6104 -- iter: 00128/21310\n"
     ]
    },
    {
     "name": "stdout",
     "output_type": "stream",
     "text": [
      "Training Step: 669  | total loss: \u001b[1m\u001b[32m0.65964\u001b[0m\u001b[0m | time: 0.025s\n\u001b[2K\r| Adam | epoch: 003 | loss: 0.65964 - acc: 0.6122 -- iter: 00192/21310\n"
     ]
    },
    {
     "name": "stdout",
     "output_type": "stream",
     "text": [
      "Training Step: 670  | total loss: \u001b[1m\u001b[32m0.66113\u001b[0m\u001b[0m | time: 0.037s\n\u001b[2K\r| Adam | epoch: 003 | loss: 0.66113 - acc: 0.6088 -- iter: 00256/21310\n"
     ]
    },
    {
     "name": "stdout",
     "output_type": "stream",
     "text": [
      "Training Step: 671  | total loss: \u001b[1m\u001b[32m0.66236\u001b[0m\u001b[0m | time: 0.049s\n\u001b[2K\r| Adam | epoch: 003 | loss: 0.66236 - acc: 0.6026 -- iter: 00320/21310\n"
     ]
    },
    {
     "name": "stdout",
     "output_type": "stream",
     "text": [
      "Training Step: 672  | total loss: \u001b[1m\u001b[32m0.66612\u001b[0m\u001b[0m | time: 0.062s\n\u001b[2K\r| Adam | epoch: 003 | loss: 0.66612 - acc: 0.5970 -- iter: 00384/21310\n"
     ]
    },
    {
     "name": "stdout",
     "output_type": "stream",
     "text": [
      "Training Step: 673  | total loss: \u001b[1m\u001b[32m0.66702\u001b[0m\u001b[0m | time: 0.070s\n\u001b[2K\r| Adam | epoch: 003 | loss: 0.66702 - acc: 0.5905 -- iter: 00448/21310\n"
     ]
    },
    {
     "name": "stdout",
     "output_type": "stream",
     "text": [
      "Training Step: 674  | total loss: \u001b[1m\u001b[32m0.66446\u001b[0m\u001b[0m | time: 0.079s\n\u001b[2K\r| Adam | epoch: 003 | loss: 0.66446 - acc: 0.6002 -- iter: 00512/21310\n"
     ]
    },
    {
     "name": "stdout",
     "output_type": "stream",
     "text": [
      "Training Step: 675  | total loss: \u001b[1m\u001b[32m0.66532\u001b[0m\u001b[0m | time: 0.095s\n\u001b[2K\r| Adam | epoch: 003 | loss: 0.66532 - acc: 0.6011 -- iter: 00576/21310\n"
     ]
    },
    {
     "name": "stdout",
     "output_type": "stream",
     "text": [
      "Training Step: 676  | total loss: \u001b[1m\u001b[32m0.65892\u001b[0m\u001b[0m | time: 0.103s\n\u001b[2K\r| Adam | epoch: 003 | loss: 0.65892 - acc: 0.6113 -- iter: 00640/21310\n"
     ]
    },
    {
     "name": "stdout",
     "output_type": "stream",
     "text": [
      "Training Step: 677  | total loss: \u001b[1m\u001b[32m0.65958\u001b[0m\u001b[0m | time: 0.116s\n\u001b[2K\r| Adam | epoch: 003 | loss: 0.65958 - acc: 0.6080 -- iter: 00704/21310\n"
     ]
    },
    {
     "name": "stdout",
     "output_type": "stream",
     "text": [
      "Training Step: 678  | total loss: \u001b[1m\u001b[32m0.65917\u001b[0m\u001b[0m | time: 0.129s\n\u001b[2K\r| Adam | epoch: 003 | loss: 0.65917 - acc: 0.6144 -- iter: 00768/21310\n"
     ]
    },
    {
     "name": "stdout",
     "output_type": "stream",
     "text": [
      "Training Step: 679  | total loss: \u001b[1m\u001b[32m0.66228\u001b[0m\u001b[0m | time: 0.138s\n\u001b[2K\r| Adam | epoch: 003 | loss: 0.66228 - acc: 0.6076 -- iter: 00832/21310\n"
     ]
    },
    {
     "name": "stdout",
     "output_type": "stream",
     "text": [
      "Training Step: 680  | total loss: \u001b[1m\u001b[32m0.66146\u001b[0m\u001b[0m | time: 0.147s\n\u001b[2K\r| Adam | epoch: 003 | loss: 0.66146 - acc: 0.6125 -- iter: 00896/21310\n"
     ]
    },
    {
     "name": "stdout",
     "output_type": "stream",
     "text": [
      "Training Step: 681  | total loss: \u001b[1m\u001b[32m0.66169\u001b[0m\u001b[0m | time: 0.161s\n\u001b[2K\r| Adam | epoch: 003 | loss: 0.66169 - acc: 0.6106 -- iter: 00960/21310\n"
     ]
    },
    {
     "name": "stdout",
     "output_type": "stream",
     "text": [
      "Training Step: 682  | total loss: \u001b[1m\u001b[32m0.65854\u001b[0m\u001b[0m | time: 0.173s\n\u001b[2K\r| Adam | epoch: 003 | loss: 0.65854 - acc: 0.6120 -- iter: 01024/21310\n"
     ]
    },
    {
     "name": "stdout",
     "output_type": "stream",
     "text": [
      "Training Step: 683  | total loss: \u001b[1m\u001b[32m0.66410\u001b[0m\u001b[0m | time: 0.182s\n\u001b[2K\r| Adam | epoch: 003 | loss: 0.66410 - acc: 0.6102 -- iter: 01088/21310\n"
     ]
    },
    {
     "name": "stdout",
     "output_type": "stream",
     "text": [
      "Training Step: 684  | total loss: \u001b[1m\u001b[32m0.66174\u001b[0m\u001b[0m | time: 0.197s\n\u001b[2K\r| Adam | epoch: 003 | loss: 0.66174 - acc: 0.6148 -- iter: 01152/21310\n"
     ]
    },
    {
     "name": "stdout",
     "output_type": "stream",
     "text": [
      "Training Step: 685  | total loss: \u001b[1m\u001b[32m0.66041\u001b[0m\u001b[0m | time: 0.213s\n\u001b[2K\r| Adam | epoch: 003 | loss: 0.66041 - acc: 0.6158 -- iter: 01216/21310\n"
     ]
    },
    {
     "name": "stdout",
     "output_type": "stream",
     "text": [
      "Training Step: 686  | total loss: \u001b[1m\u001b[32m0.65772\u001b[0m\u001b[0m | time: 0.223s\n\u001b[2K\r| Adam | epoch: 003 | loss: 0.65772 - acc: 0.6168 -- iter: 01280/21310\n"
     ]
    },
    {
     "name": "stdout",
     "output_type": "stream",
     "text": [
      "Training Step: 687  | total loss: \u001b[1m\u001b[32m0.65654\u001b[0m\u001b[0m | time: 0.235s\n\u001b[2K\r| Adam | epoch: 003 | loss: 0.65654 - acc: 0.6160 -- iter: 01344/21310\n"
     ]
    },
    {
     "name": "stdout",
     "output_type": "stream",
     "text": [
      "Training Step: 688  | total loss: \u001b[1m\u001b[32m0.65285\u001b[0m\u001b[0m | time: 0.245s\n\u001b[2K\r| Adam | epoch: 003 | loss: 0.65285 - acc: 0.6247 -- iter: 01408/21310\n"
     ]
    },
    {
     "name": "stdout",
     "output_type": "stream",
     "text": [
      "Training Step: 689  | total loss: \u001b[1m\u001b[32m0.65638\u001b[0m\u001b[0m | time: 0.255s\n\u001b[2K\r| Adam | epoch: 003 | loss: 0.65638 - acc: 0.6138 -- iter: 01472/21310\n"
     ]
    },
    {
     "name": "stdout",
     "output_type": "stream",
     "text": [
      "Training Step: 690  | total loss: \u001b[1m\u001b[32m0.66094\u001b[0m\u001b[0m | time: 0.265s\n\u001b[2K\r| Adam | epoch: 003 | loss: 0.66094 - acc: 0.6056 -- iter: 01536/21310\n"
     ]
    },
    {
     "name": "stdout",
     "output_type": "stream",
     "text": [
      "Training Step: 691  | total loss: \u001b[1m\u001b[32m0.66346\u001b[0m\u001b[0m | time: 0.278s\n\u001b[2K\r| Adam | epoch: 003 | loss: 0.66346 - acc: 0.5981 -- iter: 01600/21310\n"
     ]
    },
    {
     "name": "stdout",
     "output_type": "stream",
     "text": [
      "Training Step: 692  | total loss: \u001b[1m\u001b[32m0.67122\u001b[0m\u001b[0m | time: 0.294s\n\u001b[2K\r| Adam | epoch: 003 | loss: 0.67122 - acc: 0.5914 -- iter: 01664/21310\n"
     ]
    },
    {
     "name": "stdout",
     "output_type": "stream",
     "text": [
      "Training Step: 693  | total loss: \u001b[1m\u001b[32m0.66946\u001b[0m\u001b[0m | time: 0.304s\n\u001b[2K\r| Adam | epoch: 003 | loss: 0.66946 - acc: 0.5917 -- iter: 01728/21310\n"
     ]
    },
    {
     "name": "stdout",
     "output_type": "stream",
     "text": [
      "Training Step: 694  | total loss: \u001b[1m\u001b[32m0.67191\u001b[0m\u001b[0m | time: 0.313s\n\u001b[2K\r| Adam | epoch: 003 | loss: 0.67191 - acc: 0.5841 -- iter: 01792/21310\n"
     ]
    },
    {
     "name": "stdout",
     "output_type": "stream",
     "text": [
      "Training Step: 695  | total loss: \u001b[1m\u001b[32m0.67551\u001b[0m\u001b[0m | time: 0.322s\n\u001b[2K\r| Adam | epoch: 003 | loss: 0.67551 - acc: 0.5803 -- iter: 01856/21310\n"
     ]
    },
    {
     "name": "stdout",
     "output_type": "stream",
     "text": [
      "Training Step: 696  | total loss: \u001b[1m\u001b[32m0.67399\u001b[0m\u001b[0m | time: 0.336s\n\u001b[2K\r| Adam | epoch: 003 | loss: 0.67399 - acc: 0.5864 -- iter: 01920/21310\n"
     ]
    },
    {
     "name": "stdout",
     "output_type": "stream",
     "text": [
      "Training Step: 697  | total loss: \u001b[1m\u001b[32m0.67922\u001b[0m\u001b[0m | time: 0.344s\n\u001b[2K\r| Adam | epoch: 003 | loss: 0.67922 - acc: 0.5777 -- iter: 01984/21310\n"
     ]
    },
    {
     "name": "stdout",
     "output_type": "stream",
     "text": [
      "Training Step: 698  | total loss: \u001b[1m\u001b[32m0.67974\u001b[0m\u001b[0m | time: 0.357s\n\u001b[2K\r| Adam | epoch: 003 | loss: 0.67974 - acc: 0.5762 -- iter: 02048/21310\n"
     ]
    },
    {
     "name": "stdout",
     "output_type": "stream",
     "text": [
      "Training Step: 699  | total loss: \u001b[1m\u001b[32m0.67460\u001b[0m\u001b[0m | time: 0.368s\n\u001b[2K\r| Adam | epoch: 003 | loss: 0.67460 - acc: 0.5920 -- iter: 02112/21310\n"
     ]
    },
    {
     "name": "stdout",
     "output_type": "stream",
     "text": [
      "Training Step: 700  | total loss: \u001b[1m\u001b[32m0.67271\u001b[0m\u001b[0m | time: 0.379s\n\u001b[2K\r| Adam | epoch: 003 | loss: 0.67271 - acc: 0.5953 -- iter: 02176/21310\n--\n"
     ]
    },
    {
     "name": "stdout",
     "output_type": "stream",
     "text": [
      "Training Step: 701  | total loss: \u001b[1m\u001b[32m0.66888\u001b[0m\u001b[0m | time: 0.395s\n\u001b[2K\r| Adam | epoch: 003 | loss: 0.66888 - acc: 0.6014 -- iter: 02240/21310\n"
     ]
    },
    {
     "name": "stdout",
     "output_type": "stream",
     "text": [
      "Training Step: 702  | total loss: \u001b[1m\u001b[32m0.66679\u001b[0m\u001b[0m | time: 0.404s\n\u001b[2K\r| Adam | epoch: 003 | loss: 0.66679 - acc: 0.6069 -- iter: 02304/21310\n"
     ]
    },
    {
     "name": "stdout",
     "output_type": "stream",
     "text": [
      "Training Step: 703  | total loss: \u001b[1m\u001b[32m0.66850\u001b[0m\u001b[0m | time: 0.416s\n\u001b[2K\r| Adam | epoch: 003 | loss: 0.66850 - acc: 0.6040 -- iter: 02368/21310\n"
     ]
    },
    {
     "name": "stdout",
     "output_type": "stream",
     "text": [
      "Training Step: 704  | total loss: \u001b[1m\u001b[32m0.67065\u001b[0m\u001b[0m | time: 0.426s\n\u001b[2K\r| Adam | epoch: 003 | loss: 0.67065 - acc: 0.5983 -- iter: 02432/21310\n"
     ]
    },
    {
     "name": "stdout",
     "output_type": "stream",
     "text": [
      "Training Step: 705  | total loss: \u001b[1m\u001b[32m0.66800\u001b[0m\u001b[0m | time: 0.436s\n\u001b[2K\r| Adam | epoch: 003 | loss: 0.66800 - acc: 0.6025 -- iter: 02496/21310\n"
     ]
    },
    {
     "name": "stdout",
     "output_type": "stream",
     "text": [
      "Training Step: 706  | total loss: \u001b[1m\u001b[32m0.67043\u001b[0m\u001b[0m | time: 0.445s\n\u001b[2K\r| Adam | epoch: 003 | loss: 0.67043 - acc: 0.6001 -- iter: 02560/21310\n"
     ]
    },
    {
     "name": "stdout",
     "output_type": "stream",
     "text": [
      "Training Step: 707  | total loss: \u001b[1m\u001b[32m0.66993\u001b[0m\u001b[0m | time: 0.453s\n\u001b[2K\r| Adam | epoch: 003 | loss: 0.66993 - acc: 0.5979 -- iter: 02624/21310\n"
     ]
    },
    {
     "name": "stdout",
     "output_type": "stream",
     "text": [
      "Training Step: 708  | total loss: \u001b[1m\u001b[32m0.67206\u001b[0m\u001b[0m | time: 0.467s\n\u001b[2K\r| Adam | epoch: 003 | loss: 0.67206 - acc: 0.5912 -- iter: 02688/21310\n"
     ]
    },
    {
     "name": "stdout",
     "output_type": "stream",
     "text": [
      "Training Step: 709  | total loss: \u001b[1m\u001b[32m0.67463\u001b[0m\u001b[0m | time: 0.480s\n\u001b[2K\r| Adam | epoch: 003 | loss: 0.67463 - acc: 0.5884 -- iter: 02752/21310\n"
     ]
    },
    {
     "name": "stdout",
     "output_type": "stream",
     "text": [
      "Training Step: 710  | total loss: \u001b[1m\u001b[32m0.67361\u001b[0m\u001b[0m | time: 0.490s\n\u001b[2K\r| Adam | epoch: 003 | loss: 0.67361 - acc: 0.5858 -- iter: 02816/21310\n"
     ]
    },
    {
     "name": "stdout",
     "output_type": "stream",
     "text": [
      "Training Step: 711  | total loss: \u001b[1m\u001b[32m0.67199\u001b[0m\u001b[0m | time: 0.499s\n\u001b[2K\r| Adam | epoch: 003 | loss: 0.67199 - acc: 0.5897 -- iter: 02880/21310\n"
     ]
    },
    {
     "name": "stdout",
     "output_type": "stream",
     "text": [
      "Training Step: 712  | total loss: \u001b[1m\u001b[32m0.67113\u001b[0m\u001b[0m | time: 0.507s\n\u001b[2K\r| Adam | epoch: 003 | loss: 0.67113 - acc: 0.5885 -- iter: 02944/21310\n"
     ]
    },
    {
     "name": "stdout",
     "output_type": "stream",
     "text": [
      "Training Step: 713  | total loss: \u001b[1m\u001b[32m0.66643\u001b[0m\u001b[0m | time: 0.516s\n\u001b[2K\r| Adam | epoch: 003 | loss: 0.66643 - acc: 0.6031 -- iter: 03008/21310\n"
     ]
    },
    {
     "name": "stdout",
     "output_type": "stream",
     "text": [
      "Training Step: 714  | total loss: \u001b[1m\u001b[32m0.66866\u001b[0m\u001b[0m | time: 0.525s\n\u001b[2K\r| Adam | epoch: 003 | loss: 0.66866 - acc: 0.5944 -- iter: 03072/21310\n"
     ]
    },
    {
     "name": "stdout",
     "output_type": "stream",
     "text": [
      "Training Step: 715  | total loss: \u001b[1m\u001b[32m0.66792\u001b[0m\u001b[0m | time: 0.534s\n\u001b[2K\r| Adam | epoch: 003 | loss: 0.66792 - acc: 0.5959 -- iter: 03136/21310\n"
     ]
    },
    {
     "name": "stdout",
     "output_type": "stream",
     "text": [
      "Training Step: 716  | total loss: \u001b[1m\u001b[32m0.66994\u001b[0m\u001b[0m | time: 0.542s\n\u001b[2K\r| Adam | epoch: 003 | loss: 0.66994 - acc: 0.5925 -- iter: 03200/21310\n"
     ]
    },
    {
     "name": "stdout",
     "output_type": "stream",
     "text": [
      "Training Step: 717  | total loss: \u001b[1m\u001b[32m0.66635\u001b[0m\u001b[0m | time: 0.550s\n\u001b[2K\r| Adam | epoch: 003 | loss: 0.66635 - acc: 0.6005 -- iter: 03264/21310\n"
     ]
    },
    {
     "name": "stdout",
     "output_type": "stream",
     "text": [
      "Training Step: 718  | total loss: \u001b[1m\u001b[32m0.66606\u001b[0m\u001b[0m | time: 0.569s\n\u001b[2K\r| Adam | epoch: 003 | loss: 0.66606 - acc: 0.6092 -- iter: 03328/21310\n"
     ]
    },
    {
     "name": "stdout",
     "output_type": "stream",
     "text": [
      "Training Step: 719  | total loss: \u001b[1m\u001b[32m0.66553\u001b[0m\u001b[0m | time: 0.577s\n\u001b[2K\r| Adam | epoch: 003 | loss: 0.66553 - acc: 0.6123 -- iter: 03392/21310\n"
     ]
    },
    {
     "name": "stdout",
     "output_type": "stream",
     "text": [
      "Training Step: 720  | total loss: \u001b[1m\u001b[32m0.66233\u001b[0m\u001b[0m | time: 0.592s\n\u001b[2K\r| Adam | epoch: 003 | loss: 0.66233 - acc: 0.6167 -- iter: 03456/21310\n"
     ]
    },
    {
     "name": "stdout",
     "output_type": "stream",
     "text": [
      "Training Step: 721  | total loss: \u001b[1m\u001b[32m0.66412\u001b[0m\u001b[0m | time: 0.602s\n\u001b[2K\r| Adam | epoch: 003 | loss: 0.66412 - acc: 0.6144 -- iter: 03520/21310\n"
     ]
    },
    {
     "name": "stdout",
     "output_type": "stream",
     "text": [
      "Training Step: 722  | total loss: \u001b[1m\u001b[32m0.66080\u001b[0m\u001b[0m | time: 0.611s\n\u001b[2K\r| Adam | epoch: 003 | loss: 0.66080 - acc: 0.6217 -- iter: 03584/21310\n"
     ]
    },
    {
     "name": "stdout",
     "output_type": "stream",
     "text": [
      "Training Step: 723  | total loss: \u001b[1m\u001b[32m0.66160\u001b[0m\u001b[0m | time: 0.620s\n\u001b[2K\r| Adam | epoch: 003 | loss: 0.66160 - acc: 0.6205 -- iter: 03648/21310\n"
     ]
    },
    {
     "name": "stdout",
     "output_type": "stream",
     "text": [
      "Training Step: 724  | total loss: \u001b[1m\u001b[32m0.65411\u001b[0m\u001b[0m | time: 0.634s\n\u001b[2K\r| Adam | epoch: 003 | loss: 0.65411 - acc: 0.6319 -- iter: 03712/21310\n"
     ]
    },
    {
     "name": "stdout",
     "output_type": "stream",
     "text": [
      "Training Step: 725  | total loss: \u001b[1m\u001b[32m0.65746\u001b[0m\u001b[0m | time: 0.643s\n\u001b[2K\r| Adam | epoch: 003 | loss: 0.65746 - acc: 0.6218 -- iter: 03776/21310\n"
     ]
    },
    {
     "name": "stdout",
     "output_type": "stream",
     "text": [
      "Training Step: 726  | total loss: \u001b[1m\u001b[32m0.65938\u001b[0m\u001b[0m | time: 0.658s\n\u001b[2K\r| Adam | epoch: 003 | loss: 0.65938 - acc: 0.6159 -- iter: 03840/21310\n"
     ]
    },
    {
     "name": "stdout",
     "output_type": "stream",
     "text": [
      "Training Step: 727  | total loss: \u001b[1m\u001b[32m0.65999\u001b[0m\u001b[0m | time: 0.679s\n\u001b[2K\r| Adam | epoch: 003 | loss: 0.65999 - acc: 0.6199 -- iter: 03904/21310\n"
     ]
    },
    {
     "name": "stdout",
     "output_type": "stream",
     "text": [
      "Training Step: 728  | total loss: \u001b[1m\u001b[32m0.65387\u001b[0m\u001b[0m | time: 0.696s\n\u001b[2K\r| Adam | epoch: 003 | loss: 0.65387 - acc: 0.6343 -- iter: 03968/21310\n"
     ]
    },
    {
     "name": "stdout",
     "output_type": "stream",
     "text": [
      "Training Step: 729  | total loss: \u001b[1m\u001b[32m0.65021\u001b[0m\u001b[0m | time: 0.706s\n\u001b[2K\r| Adam | epoch: 003 | loss: 0.65021 - acc: 0.6343 -- iter: 04032/21310\n"
     ]
    },
    {
     "name": "stdout",
     "output_type": "stream",
     "text": [
      "Training Step: 730  | total loss: \u001b[1m\u001b[32m0.64896\u001b[0m\u001b[0m | time: 0.717s\n\u001b[2K\r| Adam | epoch: 003 | loss: 0.64896 - acc: 0.6396 -- iter: 04096/21310\n"
     ]
    },
    {
     "name": "stdout",
     "output_type": "stream",
     "text": [
      "Training Step: 731  | total loss: \u001b[1m\u001b[32m0.65320\u001b[0m\u001b[0m | time: 0.726s\n\u001b[2K\r| Adam | epoch: 003 | loss: 0.65320 - acc: 0.6335 -- iter: 04160/21310\n"
     ]
    },
    {
     "name": "stdout",
     "output_type": "stream",
     "text": [
      "Training Step: 732  | total loss: \u001b[1m\u001b[32m0.65184\u001b[0m\u001b[0m | time: 0.735s\n\u001b[2K\r| Adam | epoch: 003 | loss: 0.65184 - acc: 0.6264 -- iter: 04224/21310\n"
     ]
    },
    {
     "name": "stdout",
     "output_type": "stream",
     "text": [
      "Training Step: 733  | total loss: \u001b[1m\u001b[32m0.65266\u001b[0m\u001b[0m | time: 0.748s\n\u001b[2K\r| Adam | epoch: 003 | loss: 0.65266 - acc: 0.6263 -- iter: 04288/21310\n"
     ]
    },
    {
     "name": "stdout",
     "output_type": "stream",
     "text": [
      "Training Step: 734  | total loss: \u001b[1m\u001b[32m0.65599\u001b[0m\u001b[0m | time: 0.762s\n\u001b[2K\r| Adam | epoch: 003 | loss: 0.65599 - acc: 0.6183 -- iter: 04352/21310\n"
     ]
    },
    {
     "name": "stdout",
     "output_type": "stream",
     "text": [
      "Training Step: 735  | total loss: \u001b[1m\u001b[32m0.66364\u001b[0m\u001b[0m | time: 0.785s\n\u001b[2K\r| Adam | epoch: 003 | loss: 0.66364 - acc: 0.6143 -- iter: 04416/21310\n"
     ]
    },
    {
     "name": "stdout",
     "output_type": "stream",
     "text": [
      "Training Step: 736  | total loss: \u001b[1m\u001b[32m0.65974\u001b[0m\u001b[0m | time: 0.795s\n\u001b[2K\r| Adam | epoch: 003 | loss: 0.65974 - acc: 0.6201 -- iter: 04480/21310\n"
     ]
    },
    {
     "name": "stdout",
     "output_type": "stream",
     "text": [
      "Training Step: 737  | total loss: \u001b[1m\u001b[32m0.65875\u001b[0m\u001b[0m | time: 0.804s\n\u001b[2K\r| Adam | epoch: 003 | loss: 0.65875 - acc: 0.6237 -- iter: 04544/21310\n"
     ]
    },
    {
     "name": "stdout",
     "output_type": "stream",
     "text": [
      "Training Step: 738  | total loss: \u001b[1m\u001b[32m0.65798\u001b[0m\u001b[0m | time: 0.814s\n\u001b[2K\r| Adam | epoch: 003 | loss: 0.65798 - acc: 0.6254 -- iter: 04608/21310\n"
     ]
    },
    {
     "name": "stdout",
     "output_type": "stream",
     "text": [
      "Training Step: 739  | total loss: \u001b[1m\u001b[32m0.65894\u001b[0m\u001b[0m | time: 0.828s\n\u001b[2K\r| Adam | epoch: 003 | loss: 0.65894 - acc: 0.6269 -- iter: 04672/21310\n"
     ]
    },
    {
     "name": "stdout",
     "output_type": "stream",
     "text": [
      "Training Step: 740  | total loss: \u001b[1m\u001b[32m0.65989\u001b[0m\u001b[0m | time: 0.837s\n\u001b[2K\r| Adam | epoch: 003 | loss: 0.65989 - acc: 0.6126 -- iter: 04736/21310\n"
     ]
    },
    {
     "name": "stdout",
     "output_type": "stream",
     "text": [
      "Training Step: 741  | total loss: \u001b[1m\u001b[32m0.66171\u001b[0m\u001b[0m | time: 0.848s\n\u001b[2K\r| Adam | epoch: 003 | loss: 0.66171 - acc: 0.6123 -- iter: 04800/21310\n"
     ]
    },
    {
     "name": "stdout",
     "output_type": "stream",
     "text": [
      "Training Step: 742  | total loss: \u001b[1m\u001b[32m0.66372\u001b[0m\u001b[0m | time: 0.858s\n\u001b[2K\r| Adam | epoch: 003 | loss: 0.66372 - acc: 0.6073 -- iter: 04864/21310\n"
     ]
    },
    {
     "name": "stdout",
     "output_type": "stream",
     "text": [
      "Training Step: 743  | total loss: \u001b[1m\u001b[32m0.66181\u001b[0m\u001b[0m | time: 0.867s\n\u001b[2K\r| Adam | epoch: 003 | loss: 0.66181 - acc: 0.6091 -- iter: 04928/21310\n"
     ]
    },
    {
     "name": "stdout",
     "output_type": "stream",
     "text": [
      "Training Step: 744  | total loss: \u001b[1m\u001b[32m0.66186\u001b[0m\u001b[0m | time: 0.879s\n\u001b[2K\r| Adam | epoch: 003 | loss: 0.66186 - acc: 0.6076 -- iter: 04992/21310\n"
     ]
    },
    {
     "name": "stdout",
     "output_type": "stream",
     "text": [
      "Training Step: 745  | total loss: \u001b[1m\u001b[32m0.65970\u001b[0m\u001b[0m | time: 0.894s\n\u001b[2K\r| Adam | epoch: 003 | loss: 0.65970 - acc: 0.6124 -- iter: 05056/21310\n"
     ]
    },
    {
     "name": "stdout",
     "output_type": "stream",
     "text": [
      "Training Step: 746  | total loss: \u001b[1m\u001b[32m0.65934\u001b[0m\u001b[0m | time: 0.903s\n\u001b[2K\r| Adam | epoch: 003 | loss: 0.65934 - acc: 0.6043 -- iter: 05120/21310\n"
     ]
    },
    {
     "name": "stdout",
     "output_type": "stream",
     "text": [
      "Training Step: 747  | total loss: \u001b[1m\u001b[32m0.66207\u001b[0m\u001b[0m | time: 0.914s\n\u001b[2K\r| Adam | epoch: 003 | loss: 0.66207 - acc: 0.5986 -- iter: 05184/21310\n"
     ]
    },
    {
     "name": "stdout",
     "output_type": "stream",
     "text": [
      "Training Step: 748  | total loss: \u001b[1m\u001b[32m0.66005\u001b[0m\u001b[0m | time: 0.924s\n\u001b[2K\r| Adam | epoch: 003 | loss: 0.66005 - acc: 0.6043 -- iter: 05248/21310\n"
     ]
    },
    {
     "name": "stdout",
     "output_type": "stream",
     "text": [
      "Training Step: 749  | total loss: \u001b[1m\u001b[32m0.66052\u001b[0m\u001b[0m | time: 0.934s\n\u001b[2K\r| Adam | epoch: 003 | loss: 0.66052 - acc: 0.6017 -- iter: 05312/21310\n"
     ]
    },
    {
     "name": "stdout",
     "output_type": "stream",
     "text": [
      "Training Step: 750  | total loss: \u001b[1m\u001b[32m0.65996\u001b[0m\u001b[0m | time: 0.943s\n\u001b[2K\r| Adam | epoch: 003 | loss: 0.65996 - acc: 0.6056 -- iter: 05376/21310\n--\n"
     ]
    },
    {
     "name": "stdout",
     "output_type": "stream",
     "text": [
      "Training Step: 751  | total loss: \u001b[1m\u001b[32m0.66109\u001b[0m\u001b[0m | time: 0.955s\n\u001b[2K\r| Adam | epoch: 003 | loss: 0.66109 - acc: 0.5997 -- iter: 05440/21310\n"
     ]
    },
    {
     "name": "stdout",
     "output_type": "stream",
     "text": [
      "Training Step: 752  | total loss: \u001b[1m\u001b[32m0.65966\u001b[0m\u001b[0m | time: 0.963s\n\u001b[2K\r| Adam | epoch: 003 | loss: 0.65966 - acc: 0.5991 -- iter: 05504/21310\n"
     ]
    },
    {
     "name": "stdout",
     "output_type": "stream",
     "text": [
      "Training Step: 753  | total loss: \u001b[1m\u001b[32m0.65812\u001b[0m\u001b[0m | time: 0.975s\n\u001b[2K\r| Adam | epoch: 003 | loss: 0.65812 - acc: 0.6017 -- iter: 05568/21310\n"
     ]
    },
    {
     "name": "stdout",
     "output_type": "stream",
     "text": [
      "Training Step: 754  | total loss: \u001b[1m\u001b[32m0.66252\u001b[0m\u001b[0m | time: 0.990s\n\u001b[2K\r| Adam | epoch: 003 | loss: 0.66252 - acc: 0.6009 -- iter: 05632/21310\n"
     ]
    },
    {
     "name": "stdout",
     "output_type": "stream",
     "text": [
      "Training Step: 755  | total loss: \u001b[1m\u001b[32m0.66296\u001b[0m\u001b[0m | time: 1.001s\n\u001b[2K\r| Adam | epoch: 003 | loss: 0.66296 - acc: 0.6049 -- iter: 05696/21310\n"
     ]
    },
    {
     "name": "stdout",
     "output_type": "stream",
     "text": [
      "Training Step: 756  | total loss: \u001b[1m\u001b[32m0.66785\u001b[0m\u001b[0m | time: 1.014s\n\u001b[2K\r| Adam | epoch: 003 | loss: 0.66785 - acc: 0.6007 -- iter: 05760/21310\n"
     ]
    },
    {
     "name": "stdout",
     "output_type": "stream",
     "text": [
      "Training Step: 757  | total loss: \u001b[1m\u001b[32m0.66713\u001b[0m\u001b[0m | time: 1.023s\n\u001b[2K\r| Adam | epoch: 003 | loss: 0.66713 - acc: 0.6000 -- iter: 05824/21310\n"
     ]
    },
    {
     "name": "stdout",
     "output_type": "stream",
     "text": [
      "Training Step: 758  | total loss: \u001b[1m\u001b[32m0.67174\u001b[0m\u001b[0m | time: 1.036s\n\u001b[2K\r| Adam | epoch: 003 | loss: 0.67174 - acc: 0.5884 -- iter: 05888/21310\n"
     ]
    },
    {
     "name": "stdout",
     "output_type": "stream",
     "text": [
      "Training Step: 759  | total loss: \u001b[1m\u001b[32m0.67059\u001b[0m\u001b[0m | time: 1.047s\n\u001b[2K\r| Adam | epoch: 003 | loss: 0.67059 - acc: 0.5843 -- iter: 05952/21310\n"
     ]
    },
    {
     "name": "stdout",
     "output_type": "stream",
     "text": [
      "Training Step: 760  | total loss: \u001b[1m\u001b[32m0.67022\u001b[0m\u001b[0m | time: 1.057s\n\u001b[2K\r| Adam | epoch: 003 | loss: 0.67022 - acc: 0.5868 -- iter: 06016/21310\n"
     ]
    },
    {
     "name": "stdout",
     "output_type": "stream",
     "text": [
      "Training Step: 761  | total loss: \u001b[1m\u001b[32m0.67066\u001b[0m\u001b[0m | time: 1.067s\n\u001b[2K\r| Adam | epoch: 003 | loss: 0.67066 - acc: 0.5984 -- iter: 06080/21310\n"
     ]
    },
    {
     "name": "stdout",
     "output_type": "stream",
     "text": [
      "Training Step: 762  | total loss: \u001b[1m\u001b[32m0.67133\u001b[0m\u001b[0m | time: 1.082s\n\u001b[2K\r| Adam | epoch: 003 | loss: 0.67133 - acc: 0.5979 -- iter: 06144/21310\n"
     ]
    },
    {
     "name": "stdout",
     "output_type": "stream",
     "text": [
      "Training Step: 763  | total loss: \u001b[1m\u001b[32m0.67181\u001b[0m\u001b[0m | time: 1.090s\n\u001b[2K\r| Adam | epoch: 003 | loss: 0.67181 - acc: 0.5991 -- iter: 06208/21310\n"
     ]
    },
    {
     "name": "stdout",
     "output_type": "stream",
     "text": [
      "Training Step: 764  | total loss: \u001b[1m\u001b[32m0.67490\u001b[0m\u001b[0m | time: 1.099s\n\u001b[2K\r| Adam | epoch: 003 | loss: 0.67490 - acc: 0.5923 -- iter: 06272/21310\n"
     ]
    },
    {
     "name": "stdout",
     "output_type": "stream",
     "text": [
      "Training Step: 765  | total loss: \u001b[1m\u001b[32m0.67413\u001b[0m\u001b[0m | time: 1.108s\n\u001b[2K\r| Adam | epoch: 003 | loss: 0.67413 - acc: 0.5924 -- iter: 06336/21310\n"
     ]
    },
    {
     "name": "stdout",
     "output_type": "stream",
     "text": [
      "Training Step: 766  | total loss: \u001b[1m\u001b[32m0.67352\u001b[0m\u001b[0m | time: 1.117s\n\u001b[2K\r| Adam | epoch: 003 | loss: 0.67352 - acc: 0.6004 -- iter: 06400/21310\n"
     ]
    },
    {
     "name": "stdout",
     "output_type": "stream",
     "text": [
      "Training Step: 767  | total loss: \u001b[1m\u001b[32m0.67137\u001b[0m\u001b[0m | time: 1.125s\n\u001b[2K\r| Adam | epoch: 003 | loss: 0.67137 - acc: 0.6091 -- iter: 06464/21310\n"
     ]
    },
    {
     "name": "stdout",
     "output_type": "stream",
     "text": [
      "Training Step: 768  | total loss: \u001b[1m\u001b[32m0.66952\u001b[0m\u001b[0m | time: 1.133s\n\u001b[2K\r| Adam | epoch: 003 | loss: 0.66952 - acc: 0.6107 -- iter: 06528/21310\n"
     ]
    },
    {
     "name": "stdout",
     "output_type": "stream",
     "text": [
      "Training Step: 769  | total loss: \u001b[1m\u001b[32m0.66689\u001b[0m\u001b[0m | time: 1.145s\n\u001b[2K\r| Adam | epoch: 003 | loss: 0.66689 - acc: 0.6137 -- iter: 06592/21310\n"
     ]
    },
    {
     "name": "stdout",
     "output_type": "stream",
     "text": [
      "Training Step: 770  | total loss: \u001b[1m\u001b[32m0.66410\u001b[0m\u001b[0m | time: 1.154s\n\u001b[2K\r| Adam | epoch: 003 | loss: 0.66410 - acc: 0.6273 -- iter: 06656/21310\n"
     ]
    },
    {
     "name": "stdout",
     "output_type": "stream",
     "text": [
      "Training Step: 771  | total loss: \u001b[1m\u001b[32m0.66667\u001b[0m\u001b[0m | time: 1.165s\n\u001b[2K\r| Adam | epoch: 003 | loss: 0.66667 - acc: 0.6193 -- iter: 06720/21310\n"
     ]
    },
    {
     "name": "stdout",
     "output_type": "stream",
     "text": [
      "Training Step: 772  | total loss: \u001b[1m\u001b[32m0.66932\u001b[0m\u001b[0m | time: 1.183s\n\u001b[2K\r| Adam | epoch: 003 | loss: 0.66932 - acc: 0.6073 -- iter: 06784/21310\n"
     ]
    },
    {
     "name": "stdout",
     "output_type": "stream",
     "text": [
      "Training Step: 773  | total loss: \u001b[1m\u001b[32m0.66566\u001b[0m\u001b[0m | time: 1.192s\n\u001b[2K\r| Adam | epoch: 003 | loss: 0.66566 - acc: 0.6107 -- iter: 06848/21310\n"
     ]
    },
    {
     "name": "stdout",
     "output_type": "stream",
     "text": [
      "Training Step: 774  | total loss: \u001b[1m\u001b[32m0.66559\u001b[0m\u001b[0m | time: 1.207s\n\u001b[2K\r| Adam | epoch: 003 | loss: 0.66559 - acc: 0.6090 -- iter: 06912/21310\n"
     ]
    },
    {
     "name": "stdout",
     "output_type": "stream",
     "text": [
      "Training Step: 775  | total loss: \u001b[1m\u001b[32m0.66704\u001b[0m\u001b[0m | time: 1.215s\n\u001b[2K\r| Adam | epoch: 003 | loss: 0.66704 - acc: 0.6090 -- iter: 06976/21310\n"
     ]
    },
    {
     "name": "stdout",
     "output_type": "stream",
     "text": [
      "Training Step: 776  | total loss: \u001b[1m\u001b[32m0.66782\u001b[0m\u001b[0m | time: 1.225s\n\u001b[2K\r| Adam | epoch: 003 | loss: 0.66782 - acc: 0.6044 -- iter: 07040/21310\n"
     ]
    },
    {
     "name": "stdout",
     "output_type": "stream",
     "text": [
      "Training Step: 777  | total loss: \u001b[1m\u001b[32m0.66834\u001b[0m\u001b[0m | time: 1.235s\n\u001b[2K\r| Adam | epoch: 003 | loss: 0.66834 - acc: 0.6033 -- iter: 07104/21310\n"
     ]
    },
    {
     "name": "stdout",
     "output_type": "stream",
     "text": [
      "Training Step: 778  | total loss: \u001b[1m\u001b[32m0.66939\u001b[0m\u001b[0m | time: 1.251s\n\u001b[2K\r| Adam | epoch: 003 | loss: 0.66939 - acc: 0.6055 -- iter: 07168/21310\n"
     ]
    },
    {
     "name": "stdout",
     "output_type": "stream",
     "text": [
      "Training Step: 779  | total loss: \u001b[1m\u001b[32m0.66733\u001b[0m\u001b[0m | time: 1.271s\n\u001b[2K\r| Adam | epoch: 003 | loss: 0.66733 - acc: 0.6059 -- iter: 07232/21310\n"
     ]
    },
    {
     "name": "stdout",
     "output_type": "stream",
     "text": [
      "Training Step: 780  | total loss: \u001b[1m\u001b[32m0.66593\u001b[0m\u001b[0m | time: 1.281s\n\u001b[2K\r| Adam | epoch: 003 | loss: 0.66593 - acc: 0.6062 -- iter: 07296/21310\n"
     ]
    },
    {
     "name": "stdout",
     "output_type": "stream",
     "text": [
      "Training Step: 781  | total loss: \u001b[1m\u001b[32m0.66408\u001b[0m\u001b[0m | time: 1.293s\n\u001b[2K\r| Adam | epoch: 003 | loss: 0.66408 - acc: 0.6097 -- iter: 07360/21310\n"
     ]
    },
    {
     "name": "stdout",
     "output_type": "stream",
     "text": [
      "Training Step: 782  | total loss: \u001b[1m\u001b[32m0.65802\u001b[0m\u001b[0m | time: 1.305s\n\u001b[2K\r| Adam | epoch: 003 | loss: 0.65802 - acc: 0.6206 -- iter: 07424/21310\n"
     ]
    },
    {
     "name": "stdout",
     "output_type": "stream",
     "text": [
      "Training Step: 783  | total loss: \u001b[1m\u001b[32m0.66021\u001b[0m\u001b[0m | time: 1.315s\n\u001b[2K\r| Adam | epoch: 003 | loss: 0.66021 - acc: 0.6163 -- iter: 07488/21310\n"
     ]
    },
    {
     "name": "stdout",
     "output_type": "stream",
     "text": [
      "Training Step: 784  | total loss: \u001b[1m\u001b[32m0.66329\u001b[0m\u001b[0m | time: 1.325s\n\u001b[2K\r| Adam | epoch: 003 | loss: 0.66329 - acc: 0.6141 -- iter: 07552/21310\n"
     ]
    },
    {
     "name": "stdout",
     "output_type": "stream",
     "text": [
      "Training Step: 785  | total loss: \u001b[1m\u001b[32m0.66600\u001b[0m\u001b[0m | time: 1.338s\n\u001b[2K\r| Adam | epoch: 003 | loss: 0.66600 - acc: 0.6120 -- iter: 07616/21310\n"
     ]
    },
    {
     "name": "stdout",
     "output_type": "stream",
     "text": [
      "Training Step: 786  | total loss: \u001b[1m\u001b[32m0.66504\u001b[0m\u001b[0m | time: 1.347s\n\u001b[2K\r| Adam | epoch: 003 | loss: 0.66504 - acc: 0.6118 -- iter: 07680/21310\n"
     ]
    },
    {
     "name": "stdout",
     "output_type": "stream",
     "text": [
      "Training Step: 787  | total loss: \u001b[1m\u001b[32m0.66937\u001b[0m\u001b[0m | time: 1.355s\n\u001b[2K\r| Adam | epoch: 003 | loss: 0.66937 - acc: 0.6037 -- iter: 07744/21310\n"
     ]
    },
    {
     "name": "stdout",
     "output_type": "stream",
     "text": [
      "Training Step: 788  | total loss: \u001b[1m\u001b[32m0.66730\u001b[0m\u001b[0m | time: 1.368s\n\u001b[2K\r| Adam | epoch: 003 | loss: 0.66730 - acc: 0.6074 -- iter: 07808/21310\n"
     ]
    },
    {
     "name": "stdout",
     "output_type": "stream",
     "text": [
      "Training Step: 789  | total loss: \u001b[1m\u001b[32m0.66011\u001b[0m\u001b[0m | time: 1.383s\n\u001b[2K\r| Adam | epoch: 003 | loss: 0.66011 - acc: 0.6139 -- iter: 07872/21310\n"
     ]
    },
    {
     "name": "stdout",
     "output_type": "stream",
     "text": [
      "Training Step: 790  | total loss: \u001b[1m\u001b[32m0.65905\u001b[0m\u001b[0m | time: 1.395s\n\u001b[2K\r| Adam | epoch: 003 | loss: 0.65905 - acc: 0.6150 -- iter: 07936/21310\n"
     ]
    },
    {
     "name": "stdout",
     "output_type": "stream",
     "text": [
      "Training Step: 791  | total loss: \u001b[1m\u001b[32m0.65659\u001b[0m\u001b[0m | time: 1.408s\n\u001b[2K\r| Adam | epoch: 003 | loss: 0.65659 - acc: 0.6191 -- iter: 08000/21310\n"
     ]
    },
    {
     "name": "stdout",
     "output_type": "stream",
     "text": [
      "Training Step: 792  | total loss: \u001b[1m\u001b[32m0.66027\u001b[0m\u001b[0m | time: 1.416s\n\u001b[2K\r| Adam | epoch: 003 | loss: 0.66027 - acc: 0.6072 -- iter: 08064/21310\n"
     ]
    },
    {
     "name": "stdout",
     "output_type": "stream",
     "text": [
      "Training Step: 793  | total loss: \u001b[1m\u001b[32m0.66237\u001b[0m\u001b[0m | time: 1.424s\n\u001b[2K\r| Adam | epoch: 003 | loss: 0.66237 - acc: 0.6012 -- iter: 08128/21310\n"
     ]
    },
    {
     "name": "stdout",
     "output_type": "stream",
     "text": [
      "Training Step: 794  | total loss: \u001b[1m\u001b[32m0.66408\u001b[0m\u001b[0m | time: 1.433s\n\u001b[2K\r| Adam | epoch: 003 | loss: 0.66408 - acc: 0.5942 -- iter: 08192/21310\n"
     ]
    },
    {
     "name": "stdout",
     "output_type": "stream",
     "text": [
      "Training Step: 795  | total loss: \u001b[1m\u001b[32m0.66320\u001b[0m\u001b[0m | time: 1.443s\n\u001b[2K\r| Adam | epoch: 003 | loss: 0.66320 - acc: 0.5972 -- iter: 08256/21310\n"
     ]
    },
    {
     "name": "stdout",
     "output_type": "stream",
     "text": [
      "Training Step: 796  | total loss: \u001b[1m\u001b[32m0.66254\u001b[0m\u001b[0m | time: 1.454s\n\u001b[2K\r| Adam | epoch: 003 | loss: 0.66254 - acc: 0.6000 -- iter: 08320/21310\n"
     ]
    },
    {
     "name": "stdout",
     "output_type": "stream",
     "text": [
      "Training Step: 797  | total loss: \u001b[1m\u001b[32m0.66447\u001b[0m\u001b[0m | time: 1.461s\n\u001b[2K\r| Adam | epoch: 003 | loss: 0.66447 - acc: 0.5963 -- iter: 08384/21310\n"
     ]
    },
    {
     "name": "stdout",
     "output_type": "stream",
     "text": [
      "Training Step: 798  | total loss: \u001b[1m\u001b[32m0.66384\u001b[0m\u001b[0m | time: 1.473s\n\u001b[2K\r| Adam | epoch: 003 | loss: 0.66384 - acc: 0.5960 -- iter: 08448/21310\n"
     ]
    },
    {
     "name": "stdout",
     "output_type": "stream",
     "text": [
      "Training Step: 799  | total loss: \u001b[1m\u001b[32m0.66174\u001b[0m\u001b[0m | time: 1.489s\n\u001b[2K\r| Adam | epoch: 003 | loss: 0.66174 - acc: 0.6005 -- iter: 08512/21310\n"
     ]
    },
    {
     "name": "stdout",
     "output_type": "stream",
     "text": [
      "Training Step: 800  | total loss: \u001b[1m\u001b[32m0.66111\u001b[0m\u001b[0m | time: 1.500s\n\u001b[2K\r| Adam | epoch: 003 | loss: 0.66111 - acc: 0.6014 -- iter: 08576/21310\n--\n"
     ]
    },
    {
     "name": "stdout",
     "output_type": "stream",
     "text": [
      "Training Step: 801  | total loss: \u001b[1m\u001b[32m0.66136\u001b[0m\u001b[0m | time: 1.512s\n\u001b[2K\r| Adam | epoch: 003 | loss: 0.66136 - acc: 0.6069 -- iter: 08640/21310\n"
     ]
    },
    {
     "name": "stdout",
     "output_type": "stream",
     "text": [
      "Training Step: 802  | total loss: \u001b[1m\u001b[32m0.66435\u001b[0m\u001b[0m | time: 1.521s\n\u001b[2K\r| Adam | epoch: 003 | loss: 0.66435 - acc: 0.6040 -- iter: 08704/21310\n"
     ]
    },
    {
     "name": "stdout",
     "output_type": "stream",
     "text": [
      "Training Step: 803  | total loss: \u001b[1m\u001b[32m0.66746\u001b[0m\u001b[0m | time: 1.531s\n\u001b[2K\r| Adam | epoch: 003 | loss: 0.66746 - acc: 0.5967 -- iter: 08768/21310\n"
     ]
    },
    {
     "name": "stdout",
     "output_type": "stream",
     "text": [
      "Training Step: 804  | total loss: \u001b[1m\u001b[32m0.66362\u001b[0m\u001b[0m | time: 1.543s\n\u001b[2K\r| Adam | epoch: 003 | loss: 0.66362 - acc: 0.6042 -- iter: 08832/21310\n"
     ]
    },
    {
     "name": "stdout",
     "output_type": "stream",
     "text": [
      "Training Step: 805  | total loss: \u001b[1m\u001b[32m0.67218\u001b[0m\u001b[0m | time: 1.554s\n\u001b[2K\r| Adam | epoch: 003 | loss: 0.67218 - acc: 0.5891 -- iter: 08896/21310\n"
     ]
    },
    {
     "name": "stdout",
     "output_type": "stream",
     "text": [
      "Training Step: 806  | total loss: \u001b[1m\u001b[32m0.67412\u001b[0m\u001b[0m | time: 1.563s\n\u001b[2K\r| Adam | epoch: 003 | loss: 0.67412 - acc: 0.5896 -- iter: 08960/21310\n"
     ]
    },
    {
     "name": "stdout",
     "output_type": "stream",
     "text": [
      "Training Step: 807  | total loss: \u001b[1m\u001b[32m0.67536\u001b[0m\u001b[0m | time: 1.571s\n\u001b[2K\r| Adam | epoch: 003 | loss: 0.67536 - acc: 0.5837 -- iter: 09024/21310\n"
     ]
    },
    {
     "name": "stdout",
     "output_type": "stream",
     "text": [
      "Training Step: 808  | total loss: \u001b[1m\u001b[32m0.67339\u001b[0m\u001b[0m | time: 1.579s\n\u001b[2K\r| Adam | epoch: 003 | loss: 0.67339 - acc: 0.5863 -- iter: 09088/21310\n"
     ]
    },
    {
     "name": "stdout",
     "output_type": "stream",
     "text": [
      "Training Step: 809  | total loss: \u001b[1m\u001b[32m0.67540\u001b[0m\u001b[0m | time: 1.590s\n\u001b[2K\r| Adam | epoch: 003 | loss: 0.67540 - acc: 0.5824 -- iter: 09152/21310\n"
     ]
    },
    {
     "name": "stdout",
     "output_type": "stream",
     "text": [
      "Training Step: 810  | total loss: \u001b[1m\u001b[32m0.67182\u001b[0m\u001b[0m | time: 1.599s\n\u001b[2K\r| Adam | epoch: 003 | loss: 0.67182 - acc: 0.5929 -- iter: 09216/21310\n"
     ]
    },
    {
     "name": "stdout",
     "output_type": "stream",
     "text": [
      "Training Step: 811  | total loss: \u001b[1m\u001b[32m0.67290\u001b[0m\u001b[0m | time: 1.611s\n\u001b[2K\r| Adam | epoch: 003 | loss: 0.67290 - acc: 0.5914 -- iter: 09280/21310\n"
     ]
    },
    {
     "name": "stdout",
     "output_type": "stream",
     "text": [
      "Training Step: 812  | total loss: \u001b[1m\u001b[32m0.66862\u001b[0m\u001b[0m | time: 1.622s\n\u001b[2K\r| Adam | epoch: 003 | loss: 0.66862 - acc: 0.5995 -- iter: 09344/21310\n"
     ]
    },
    {
     "name": "stdout",
     "output_type": "stream",
     "text": [
      "Training Step: 813  | total loss: \u001b[1m\u001b[32m0.67048\u001b[0m\u001b[0m | time: 1.636s\n\u001b[2K\r| Adam | epoch: 003 | loss: 0.67048 - acc: 0.5926 -- iter: 09408/21310\n"
     ]
    },
    {
     "name": "stdout",
     "output_type": "stream",
     "text": [
      "Training Step: 814  | total loss: \u001b[1m\u001b[32m0.67037\u001b[0m\u001b[0m | time: 1.647s\n\u001b[2K\r| Adam | epoch: 003 | loss: 0.67037 - acc: 0.5927 -- iter: 09472/21310\n"
     ]
    },
    {
     "name": "stdout",
     "output_type": "stream",
     "text": [
      "Training Step: 815  | total loss: \u001b[1m\u001b[32m0.67095\u001b[0m\u001b[0m | time: 1.661s\n\u001b[2K\r| Adam | epoch: 003 | loss: 0.67095 - acc: 0.5897 -- iter: 09536/21310\n"
     ]
    },
    {
     "name": "stdout",
     "output_type": "stream",
     "text": [
      "Training Step: 816  | total loss: \u001b[1m\u001b[32m0.66813\u001b[0m\u001b[0m | time: 1.671s\n\u001b[2K\r| Adam | epoch: 003 | loss: 0.66813 - acc: 0.5995 -- iter: 09600/21310\n"
     ]
    },
    {
     "name": "stdout",
     "output_type": "stream",
     "text": [
      "Training Step: 817  | total loss: \u001b[1m\u001b[32m0.67134\u001b[0m\u001b[0m | time: 1.680s\n\u001b[2K\r| Adam | epoch: 003 | loss: 0.67134 - acc: 0.5958 -- iter: 09664/21310\n"
     ]
    },
    {
     "name": "stdout",
     "output_type": "stream",
     "text": [
      "Training Step: 818  | total loss: \u001b[1m\u001b[32m0.67036\u001b[0m\u001b[0m | time: 1.689s\n\u001b[2K\r| Adam | epoch: 003 | loss: 0.67036 - acc: 0.6065 -- iter: 09728/21310\n"
     ]
    },
    {
     "name": "stdout",
     "output_type": "stream",
     "text": [
      "Training Step: 819  | total loss: \u001b[1m\u001b[32m0.67106\u001b[0m\u001b[0m | time: 1.702s\n\u001b[2K\r| Adam | epoch: 003 | loss: 0.67106 - acc: 0.6068 -- iter: 09792/21310\n"
     ]
    },
    {
     "name": "stdout",
     "output_type": "stream",
     "text": [
      "Training Step: 820  | total loss: \u001b[1m\u001b[32m0.66777\u001b[0m\u001b[0m | time: 1.711s\n\u001b[2K\r| Adam | epoch: 003 | loss: 0.66777 - acc: 0.6149 -- iter: 09856/21310\n"
     ]
    },
    {
     "name": "stdout",
     "output_type": "stream",
     "text": [
      "Training Step: 821  | total loss: \u001b[1m\u001b[32m0.66700\u001b[0m\u001b[0m | time: 1.721s\n\u001b[2K\r| Adam | epoch: 003 | loss: 0.66700 - acc: 0.6096 -- iter: 09920/21310\n"
     ]
    },
    {
     "name": "stdout",
     "output_type": "stream",
     "text": [
      "Training Step: 822  | total loss: \u001b[1m\u001b[32m0.66650\u001b[0m\u001b[0m | time: 1.731s\n\u001b[2K\r| Adam | epoch: 003 | loss: 0.66650 - acc: 0.6143 -- iter: 09984/21310\n"
     ]
    },
    {
     "name": "stdout",
     "output_type": "stream",
     "text": [
      "Training Step: 823  | total loss: \u001b[1m\u001b[32m0.66517\u001b[0m\u001b[0m | time: 1.740s\n\u001b[2K\r| Adam | epoch: 003 | loss: 0.66517 - acc: 0.6154 -- iter: 10048/21310\n"
     ]
    },
    {
     "name": "stdout",
     "output_type": "stream",
     "text": [
      "Training Step: 824  | total loss: \u001b[1m\u001b[32m0.66669\u001b[0m\u001b[0m | time: 1.749s\n\u001b[2K\r| Adam | epoch: 003 | loss: 0.66669 - acc: 0.6101 -- iter: 10112/21310\n"
     ]
    },
    {
     "name": "stdout",
     "output_type": "stream",
     "text": [
      "Training Step: 825  | total loss: \u001b[1m\u001b[32m0.66752\u001b[0m\u001b[0m | time: 1.763s\n\u001b[2K\r| Adam | epoch: 003 | loss: 0.66752 - acc: 0.6210 -- iter: 10176/21310\n"
     ]
    },
    {
     "name": "stdout",
     "output_type": "stream",
     "text": [
      "Training Step: 826  | total loss: \u001b[1m\u001b[32m0.66542\u001b[0m\u001b[0m | time: 1.770s\n\u001b[2K\r| Adam | epoch: 003 | loss: 0.66542 - acc: 0.6276 -- iter: 10240/21310\n"
     ]
    },
    {
     "name": "stdout",
     "output_type": "stream",
     "text": [
      "Training Step: 827  | total loss: \u001b[1m\u001b[32m0.66531\u001b[0m\u001b[0m | time: 1.783s\n\u001b[2K\r| Adam | epoch: 003 | loss: 0.66531 - acc: 0.6273 -- iter: 10304/21310\n"
     ]
    },
    {
     "name": "stdout",
     "output_type": "stream",
     "text": [
      "Training Step: 828  | total loss: \u001b[1m\u001b[32m0.66723\u001b[0m\u001b[0m | time: 1.793s\n\u001b[2K\r| Adam | epoch: 003 | loss: 0.66723 - acc: 0.6193 -- iter: 10368/21310\n"
     ]
    },
    {
     "name": "stdout",
     "output_type": "stream",
     "text": [
      "Training Step: 829  | total loss: \u001b[1m\u001b[32m0.66892\u001b[0m\u001b[0m | time: 1.808s\n\u001b[2K\r| Adam | epoch: 003 | loss: 0.66892 - acc: 0.6089 -- iter: 10432/21310\n"
     ]
    },
    {
     "name": "stdout",
     "output_type": "stream",
     "text": [
      "Training Step: 830  | total loss: \u001b[1m\u001b[32m0.67127\u001b[0m\u001b[0m | time: 1.825s\n\u001b[2K\r| Adam | epoch: 003 | loss: 0.67127 - acc: 0.5980 -- iter: 10496/21310\n"
     ]
    },
    {
     "name": "stdout",
     "output_type": "stream",
     "text": [
      "Training Step: 831  | total loss: \u001b[1m\u001b[32m0.67390\u001b[0m\u001b[0m | time: 1.835s\n\u001b[2K\r| Adam | epoch: 003 | loss: 0.67390 - acc: 0.5898 -- iter: 10560/21310\n"
     ]
    },
    {
     "name": "stdout",
     "output_type": "stream",
     "text": [
      "Training Step: 832  | total loss: \u001b[1m\u001b[32m0.66882\u001b[0m\u001b[0m | time: 1.843s\n\u001b[2K\r| Adam | epoch: 003 | loss: 0.66882 - acc: 0.5996 -- iter: 10624/21310\n"
     ]
    },
    {
     "name": "stdout",
     "output_type": "stream",
     "text": [
      "Training Step: 833  | total loss: \u001b[1m\u001b[32m0.66771\u001b[0m\u001b[0m | time: 1.857s\n\u001b[2K\r| Adam | epoch: 003 | loss: 0.66771 - acc: 0.6037 -- iter: 10688/21310\n"
     ]
    },
    {
     "name": "stdout",
     "output_type": "stream",
     "text": [
      "Training Step: 834  | total loss: \u001b[1m\u001b[32m0.66832\u001b[0m\u001b[0m | time: 1.866s\n\u001b[2K\r| Adam | epoch: 003 | loss: 0.66832 - acc: 0.6027 -- iter: 10752/21310\n"
     ]
    },
    {
     "name": "stdout",
     "output_type": "stream",
     "text": [
      "Training Step: 835  | total loss: \u001b[1m\u001b[32m0.66914\u001b[0m\u001b[0m | time: 1.875s\n\u001b[2K\r| Adam | epoch: 003 | loss: 0.66914 - acc: 0.6049 -- iter: 10816/21310\n"
     ]
    },
    {
     "name": "stdout",
     "output_type": "stream",
     "text": [
      "Training Step: 836  | total loss: \u001b[1m\u001b[32m0.67433\u001b[0m\u001b[0m | time: 1.884s\n\u001b[2K\r| Adam | epoch: 003 | loss: 0.67433 - acc: 0.5913 -- iter: 10880/21310\n"
     ]
    },
    {
     "name": "stdout",
     "output_type": "stream",
     "text": [
      "Training Step: 837  | total loss: \u001b[1m\u001b[32m0.67719\u001b[0m\u001b[0m | time: 1.902s\n\u001b[2K\r| Adam | epoch: 003 | loss: 0.67719 - acc: 0.5822 -- iter: 10944/21310\n"
     ]
    },
    {
     "name": "stdout",
     "output_type": "stream",
     "text": [
      "Training Step: 838  | total loss: \u001b[1m\u001b[32m0.67043\u001b[0m\u001b[0m | time: 1.913s\n\u001b[2K\r| Adam | epoch: 003 | loss: 0.67043 - acc: 0.5958 -- iter: 11008/21310\n"
     ]
    },
    {
     "name": "stdout",
     "output_type": "stream",
     "text": [
      "Training Step: 839  | total loss: \u001b[1m\u001b[32m0.67317\u001b[0m\u001b[0m | time: 1.927s\n\u001b[2K\r| Adam | epoch: 003 | loss: 0.67317 - acc: 0.5878 -- iter: 11072/21310\n"
     ]
    },
    {
     "name": "stdout",
     "output_type": "stream",
     "text": [
      "Training Step: 840  | total loss: \u001b[1m\u001b[32m0.67195\u001b[0m\u001b[0m | time: 1.939s\n\u001b[2K\r| Adam | epoch: 003 | loss: 0.67195 - acc: 0.5837 -- iter: 11136/21310\n"
     ]
    },
    {
     "name": "stdout",
     "output_type": "stream",
     "text": [
      "Training Step: 841  | total loss: \u001b[1m\u001b[32m0.67063\u001b[0m\u001b[0m | time: 1.948s\n\u001b[2K\r| Adam | epoch: 003 | loss: 0.67063 - acc: 0.5894 -- iter: 11200/21310\n"
     ]
    },
    {
     "name": "stdout",
     "output_type": "stream",
     "text": [
      "Training Step: 842  | total loss: \u001b[1m\u001b[32m0.67077\u001b[0m\u001b[0m | time: 1.956s\n\u001b[2K\r| Adam | epoch: 003 | loss: 0.67077 - acc: 0.5898 -- iter: 11264/21310\n"
     ]
    },
    {
     "name": "stdout",
     "output_type": "stream",
     "text": [
      "Training Step: 843  | total loss: \u001b[1m\u001b[32m0.66790\u001b[0m\u001b[0m | time: 1.968s\n\u001b[2K\r| Adam | epoch: 003 | loss: 0.66790 - acc: 0.5949 -- iter: 11328/21310\n"
     ]
    },
    {
     "name": "stdout",
     "output_type": "stream",
     "text": [
      "Training Step: 844  | total loss: \u001b[1m\u001b[32m0.66233\u001b[0m\u001b[0m | time: 1.977s\n\u001b[2K\r| Adam | epoch: 003 | loss: 0.66233 - acc: 0.6042 -- iter: 11392/21310\n"
     ]
    },
    {
     "name": "stdout",
     "output_type": "stream",
     "text": [
      "Training Step: 845  | total loss: \u001b[1m\u001b[32m0.66497\u001b[0m\u001b[0m | time: 1.989s\n\u001b[2K\r| Adam | epoch: 003 | loss: 0.66497 - acc: 0.6000 -- iter: 11456/21310\n"
     ]
    },
    {
     "name": "stdout",
     "output_type": "stream",
     "text": [
      "Training Step: 846  | total loss: \u001b[1m\u001b[32m0.66638\u001b[0m\u001b[0m | time: 1.998s\n\u001b[2K\r| Adam | epoch: 003 | loss: 0.66638 - acc: 0.5963 -- iter: 11520/21310\n"
     ]
    },
    {
     "name": "stdout",
     "output_type": "stream",
     "text": [
      "Training Step: 847  | total loss: \u001b[1m\u001b[32m0.66341\u001b[0m\u001b[0m | time: 2.010s\n\u001b[2K\r| Adam | epoch: 003 | loss: 0.66341 - acc: 0.6023 -- iter: 11584/21310\n"
     ]
    },
    {
     "name": "stdout",
     "output_type": "stream",
     "text": [
      "Training Step: 848  | total loss: \u001b[1m\u001b[32m0.66263\u001b[0m\u001b[0m | time: 2.020s\n\u001b[2K\r| Adam | epoch: 003 | loss: 0.66263 - acc: 0.6092 -- iter: 11648/21310\n"
     ]
    },
    {
     "name": "stdout",
     "output_type": "stream",
     "text": [
      "Training Step: 849  | total loss: \u001b[1m\u001b[32m0.65913\u001b[0m\u001b[0m | time: 2.032s\n\u001b[2K\r| Adam | epoch: 003 | loss: 0.65913 - acc: 0.6186 -- iter: 11712/21310\n"
     ]
    },
    {
     "name": "stdout",
     "output_type": "stream",
     "text": [
      "Training Step: 850  | total loss: \u001b[1m\u001b[32m0.66189\u001b[0m\u001b[0m | time: 2.042s\n\u001b[2K\r| Adam | epoch: 003 | loss: 0.66189 - acc: 0.6161 -- iter: 11776/21310\n--\n"
     ]
    },
    {
     "name": "stdout",
     "output_type": "stream",
     "text": [
      "Training Step: 851  | total loss: \u001b[1m\u001b[32m0.66383\u001b[0m\u001b[0m | time: 2.053s\n\u001b[2K\r| Adam | epoch: 003 | loss: 0.66383 - acc: 0.6108 -- iter: 11840/21310\n"
     ]
    },
    {
     "name": "stdout",
     "output_type": "stream",
     "text": [
      "Training Step: 852  | total loss: \u001b[1m\u001b[32m0.66360\u001b[0m\u001b[0m | time: 2.063s\n\u001b[2K\r| Adam | epoch: 003 | loss: 0.66360 - acc: 0.6137 -- iter: 11904/21310\n"
     ]
    },
    {
     "name": "stdout",
     "output_type": "stream",
     "text": [
      "Training Step: 853  | total loss: \u001b[1m\u001b[32m0.65874\u001b[0m\u001b[0m | time: 2.075s\n\u001b[2K\r| Adam | epoch: 003 | loss: 0.65874 - acc: 0.6211 -- iter: 11968/21310\n"
     ]
    },
    {
     "name": "stdout",
     "output_type": "stream",
     "text": [
      "Training Step: 854  | total loss: \u001b[1m\u001b[32m0.65277\u001b[0m\u001b[0m | time: 2.093s\n\u001b[2K\r| Adam | epoch: 003 | loss: 0.65277 - acc: 0.6278 -- iter: 12032/21310\n"
     ]
    },
    {
     "name": "stdout",
     "output_type": "stream",
     "text": [
      "Training Step: 855  | total loss: \u001b[1m\u001b[32m0.65593\u001b[0m\u001b[0m | time: 2.108s\n\u001b[2K\r| Adam | epoch: 003 | loss: 0.65593 - acc: 0.6228 -- iter: 12096/21310\n"
     ]
    },
    {
     "name": "stdout",
     "output_type": "stream",
     "text": [
      "Training Step: 856  | total loss: \u001b[1m\u001b[32m0.65861\u001b[0m\u001b[0m | time: 2.117s\n\u001b[2K\r| Adam | epoch: 003 | loss: 0.65861 - acc: 0.6168 -- iter: 12160/21310\n"
     ]
    },
    {
     "name": "stdout",
     "output_type": "stream",
     "text": [
      "Training Step: 857  | total loss: \u001b[1m\u001b[32m0.65498\u001b[0m\u001b[0m | time: 2.128s\n\u001b[2K\r| Adam | epoch: 003 | loss: 0.65498 - acc: 0.6223 -- iter: 12224/21310\n"
     ]
    },
    {
     "name": "stdout",
     "output_type": "stream",
     "text": [
      "Training Step: 858  | total loss: \u001b[1m\u001b[32m0.65242\u001b[0m\u001b[0m | time: 2.136s\n\u001b[2K\r| Adam | epoch: 003 | loss: 0.65242 - acc: 0.6226 -- iter: 12288/21310\n"
     ]
    },
    {
     "name": "stdout",
     "output_type": "stream",
     "text": [
      "Training Step: 859  | total loss: \u001b[1m\u001b[32m0.65076\u001b[0m\u001b[0m | time: 2.147s\n\u001b[2K\r| Adam | epoch: 003 | loss: 0.65076 - acc: 0.6244 -- iter: 12352/21310\n"
     ]
    },
    {
     "name": "stdout",
     "output_type": "stream",
     "text": [
      "Training Step: 860  | total loss: \u001b[1m\u001b[32m0.65063\u001b[0m\u001b[0m | time: 2.160s\n\u001b[2K\r| Adam | epoch: 003 | loss: 0.65063 - acc: 0.6260 -- iter: 12416/21310\n"
     ]
    },
    {
     "name": "stdout",
     "output_type": "stream",
     "text": [
      "Training Step: 861  | total loss: \u001b[1m\u001b[32m0.65112\u001b[0m\u001b[0m | time: 2.167s\n\u001b[2K\r| Adam | epoch: 003 | loss: 0.65112 - acc: 0.6259 -- iter: 12480/21310\n"
     ]
    },
    {
     "name": "stdout",
     "output_type": "stream",
     "text": [
      "Training Step: 862  | total loss: \u001b[1m\u001b[32m0.65473\u001b[0m\u001b[0m | time: 2.178s\n\u001b[2K\r| Adam | epoch: 003 | loss: 0.65473 - acc: 0.6227 -- iter: 12544/21310\n"
     ]
    },
    {
     "name": "stdout",
     "output_type": "stream",
     "text": [
      "Training Step: 863  | total loss: \u001b[1m\u001b[32m0.65337\u001b[0m\u001b[0m | time: 2.187s\n\u001b[2K\r| Adam | epoch: 003 | loss: 0.65337 - acc: 0.6229 -- iter: 12608/21310\n"
     ]
    },
    {
     "name": "stdout",
     "output_type": "stream",
     "text": [
      "Training Step: 864  | total loss: \u001b[1m\u001b[32m0.66150\u001b[0m\u001b[0m | time: 2.202s\n\u001b[2K\r| Adam | epoch: 003 | loss: 0.66150 - acc: 0.6075 -- iter: 12672/21310\n"
     ]
    },
    {
     "name": "stdout",
     "output_type": "stream",
     "text": [
      "Training Step: 865  | total loss: \u001b[1m\u001b[32m0.66273\u001b[0m\u001b[0m | time: 2.212s\n\u001b[2K\r| Adam | epoch: 003 | loss: 0.66273 - acc: 0.6061 -- iter: 12736/21310\n"
     ]
    },
    {
     "name": "stdout",
     "output_type": "stream",
     "text": [
      "Training Step: 866  | total loss: \u001b[1m\u001b[32m0.65888\u001b[0m\u001b[0m | time: 2.224s\n\u001b[2K\r| Adam | epoch: 003 | loss: 0.65888 - acc: 0.6111 -- iter: 12800/21310\n"
     ]
    },
    {
     "name": "stdout",
     "output_type": "stream",
     "text": [
      "Training Step: 867  | total loss: \u001b[1m\u001b[32m0.65657\u001b[0m\u001b[0m | time: 2.233s\n\u001b[2K\r| Adam | epoch: 003 | loss: 0.65657 - acc: 0.6141 -- iter: 12864/21310\n"
     ]
    },
    {
     "name": "stdout",
     "output_type": "stream",
     "text": [
      "Training Step: 868  | total loss: \u001b[1m\u001b[32m0.65892\u001b[0m\u001b[0m | time: 2.243s\n\u001b[2K\r| Adam | epoch: 003 | loss: 0.65892 - acc: 0.6120 -- iter: 12928/21310\n"
     ]
    },
    {
     "name": "stdout",
     "output_type": "stream",
     "text": [
      "Training Step: 869  | total loss: \u001b[1m\u001b[32m0.65641\u001b[0m\u001b[0m | time: 2.252s\n\u001b[2K\r| Adam | epoch: 003 | loss: 0.65641 - acc: 0.6149 -- iter: 12992/21310\n"
     ]
    },
    {
     "name": "stdout",
     "output_type": "stream",
     "text": [
      "Training Step: 870  | total loss: \u001b[1m\u001b[32m0.65695\u001b[0m\u001b[0m | time: 2.261s\n\u001b[2K\r| Adam | epoch: 003 | loss: 0.65695 - acc: 0.6190 -- iter: 13056/21310\n"
     ]
    },
    {
     "name": "stdout",
     "output_type": "stream",
     "text": [
      "Training Step: 871  | total loss: \u001b[1m\u001b[32m0.65739\u001b[0m\u001b[0m | time: 2.271s\n\u001b[2K\r| Adam | epoch: 003 | loss: 0.65739 - acc: 0.6181 -- iter: 13120/21310\n"
     ]
    },
    {
     "name": "stdout",
     "output_type": "stream",
     "text": [
      "Training Step: 872  | total loss: \u001b[1m\u001b[32m0.65320\u001b[0m\u001b[0m | time: 2.279s\n\u001b[2K\r| Adam | epoch: 003 | loss: 0.65320 - acc: 0.6203 -- iter: 13184/21310\n"
     ]
    },
    {
     "name": "stdout",
     "output_type": "stream",
     "text": [
      "Training Step: 873  | total loss: \u001b[1m\u001b[32m0.64486\u001b[0m\u001b[0m | time: 2.288s\n\u001b[2K\r| Adam | epoch: 003 | loss: 0.64486 - acc: 0.6317 -- iter: 13248/21310\n"
     ]
    },
    {
     "name": "stdout",
     "output_type": "stream",
     "text": [
      "Training Step: 874  | total loss: \u001b[1m\u001b[32m0.64390\u001b[0m\u001b[0m | time: 2.296s\n\u001b[2K\r| Adam | epoch: 003 | loss: 0.64390 - acc: 0.6357 -- iter: 13312/21310\n"
     ]
    },
    {
     "name": "stdout",
     "output_type": "stream",
     "text": [
      "Training Step: 875  | total loss: \u001b[1m\u001b[32m0.64889\u001b[0m\u001b[0m | time: 2.304s\n\u001b[2K\r| Adam | epoch: 003 | loss: 0.64889 - acc: 0.6237 -- iter: 13376/21310\n"
     ]
    },
    {
     "name": "stdout",
     "output_type": "stream",
     "text": [
      "Training Step: 876  | total loss: \u001b[1m\u001b[32m0.65209\u001b[0m\u001b[0m | time: 2.315s\n\u001b[2K\r| Adam | epoch: 003 | loss: 0.65209 - acc: 0.6176 -- iter: 13440/21310\n"
     ]
    },
    {
     "name": "stdout",
     "output_type": "stream",
     "text": [
      "Training Step: 877  | total loss: \u001b[1m\u001b[32m0.65376\u001b[0m\u001b[0m | time: 2.324s\n\u001b[2K\r| Adam | epoch: 003 | loss: 0.65376 - acc: 0.6137 -- iter: 13504/21310\n"
     ]
    },
    {
     "name": "stdout",
     "output_type": "stream",
     "text": [
      "Training Step: 878  | total loss: \u001b[1m\u001b[32m0.65915\u001b[0m\u001b[0m | time: 2.332s\n\u001b[2K\r| Adam | epoch: 003 | loss: 0.65915 - acc: 0.6054 -- iter: 13568/21310\n"
     ]
    },
    {
     "name": "stdout",
     "output_type": "stream",
     "text": [
      "Training Step: 879  | total loss: \u001b[1m\u001b[32m0.65822\u001b[0m\u001b[0m | time: 2.341s\n\u001b[2K\r| Adam | epoch: 003 | loss: 0.65822 - acc: 0.6074 -- iter: 13632/21310\n"
     ]
    },
    {
     "name": "stdout",
     "output_type": "stream",
     "text": [
      "Training Step: 880  | total loss: \u001b[1m\u001b[32m0.66113\u001b[0m\u001b[0m | time: 2.350s\n\u001b[2K\r| Adam | epoch: 003 | loss: 0.66113 - acc: 0.6045 -- iter: 13696/21310\n"
     ]
    },
    {
     "name": "stdout",
     "output_type": "stream",
     "text": [
      "Training Step: 881  | total loss: \u001b[1m\u001b[32m0.66213\u001b[0m\u001b[0m | time: 2.364s\n\u001b[2K\r| Adam | epoch: 003 | loss: 0.66213 - acc: 0.6049 -- iter: 13760/21310\n"
     ]
    },
    {
     "name": "stdout",
     "output_type": "stream",
     "text": [
      "Training Step: 882  | total loss: \u001b[1m\u001b[32m0.66082\u001b[0m\u001b[0m | time: 2.385s\n\u001b[2K\r| Adam | epoch: 003 | loss: 0.66082 - acc: 0.6085 -- iter: 13824/21310\n"
     ]
    },
    {
     "name": "stdout",
     "output_type": "stream",
     "text": [
      "Training Step: 883  | total loss: \u001b[1m\u001b[32m0.65680\u001b[0m\u001b[0m | time: 2.402s\n\u001b[2K\r| Adam | epoch: 003 | loss: 0.65680 - acc: 0.6117 -- iter: 13888/21310\n"
     ]
    },
    {
     "name": "stdout",
     "output_type": "stream",
     "text": [
      "Training Step: 884  | total loss: \u001b[1m\u001b[32m0.65575\u001b[0m\u001b[0m | time: 2.420s\n\u001b[2K\r| Adam | epoch: 003 | loss: 0.65575 - acc: 0.6131 -- iter: 13952/21310\n"
     ]
    },
    {
     "name": "stdout",
     "output_type": "stream",
     "text": [
      "Training Step: 885  | total loss: \u001b[1m\u001b[32m0.65294\u001b[0m\u001b[0m | time: 2.429s\n\u001b[2K\r| Adam | epoch: 003 | loss: 0.65294 - acc: 0.6142 -- iter: 14016/21310\n"
     ]
    },
    {
     "name": "stdout",
     "output_type": "stream",
     "text": [
      "Training Step: 886  | total loss: \u001b[1m\u001b[32m0.65709\u001b[0m\u001b[0m | time: 2.442s\n\u001b[2K\r| Adam | epoch: 003 | loss: 0.65709 - acc: 0.6059 -- iter: 14080/21310\n"
     ]
    },
    {
     "name": "stdout",
     "output_type": "stream",
     "text": [
      "Training Step: 887  | total loss: \u001b[1m\u001b[32m0.65938\u001b[0m\u001b[0m | time: 2.452s\n\u001b[2K\r| Adam | epoch: 003 | loss: 0.65938 - acc: 0.6047 -- iter: 14144/21310\n"
     ]
    },
    {
     "name": "stdout",
     "output_type": "stream",
     "text": [
      "Training Step: 888  | total loss: \u001b[1m\u001b[32m0.65925\u001b[0m\u001b[0m | time: 2.464s\n\u001b[2K\r| Adam | epoch: 003 | loss: 0.65925 - acc: 0.6052 -- iter: 14208/21310\n"
     ]
    },
    {
     "name": "stdout",
     "output_type": "stream",
     "text": [
      "Training Step: 889  | total loss: \u001b[1m\u001b[32m0.65574\u001b[0m\u001b[0m | time: 2.473s\n\u001b[2K\r| Adam | epoch: 003 | loss: 0.65574 - acc: 0.6181 -- iter: 14272/21310\n"
     ]
    },
    {
     "name": "stdout",
     "output_type": "stream",
     "text": [
      "Training Step: 890  | total loss: \u001b[1m\u001b[32m0.65331\u001b[0m\u001b[0m | time: 2.482s\n\u001b[2K\r| Adam | epoch: 003 | loss: 0.65331 - acc: 0.6172 -- iter: 14336/21310\n"
     ]
    },
    {
     "name": "stdout",
     "output_type": "stream",
     "text": [
      "Training Step: 891  | total loss: \u001b[1m\u001b[32m0.65296\u001b[0m\u001b[0m | time: 2.501s\n\u001b[2K\r| Adam | epoch: 003 | loss: 0.65296 - acc: 0.6149 -- iter: 14400/21310\n"
     ]
    },
    {
     "name": "stdout",
     "output_type": "stream",
     "text": [
      "Training Step: 892  | total loss: \u001b[1m\u001b[32m0.65009\u001b[0m\u001b[0m | time: 2.513s\n\u001b[2K\r| Adam | epoch: 003 | loss: 0.65009 - acc: 0.6175 -- iter: 14464/21310\n"
     ]
    },
    {
     "name": "stdout",
     "output_type": "stream",
     "text": [
      "Training Step: 893  | total loss: \u001b[1m\u001b[32m0.64944\u001b[0m\u001b[0m | time: 2.525s\n\u001b[2K\r| Adam | epoch: 003 | loss: 0.64944 - acc: 0.6229 -- iter: 14528/21310\n"
     ]
    },
    {
     "name": "stdout",
     "output_type": "stream",
     "text": [
      "Training Step: 894  | total loss: \u001b[1m\u001b[32m0.65317\u001b[0m\u001b[0m | time: 2.538s\n\u001b[2K\r| Adam | epoch: 003 | loss: 0.65317 - acc: 0.6153 -- iter: 14592/21310\n"
     ]
    },
    {
     "name": "stdout",
     "output_type": "stream",
     "text": [
      "Training Step: 895  | total loss: \u001b[1m\u001b[32m0.65925\u001b[0m\u001b[0m | time: 2.552s\n\u001b[2K\r| Adam | epoch: 003 | loss: 0.65925 - acc: 0.6038 -- iter: 14656/21310\n"
     ]
    },
    {
     "name": "stdout",
     "output_type": "stream",
     "text": [
      "Training Step: 896  | total loss: \u001b[1m\u001b[32m0.65825\u001b[0m\u001b[0m | time: 2.564s\n\u001b[2K\r| Adam | epoch: 003 | loss: 0.65825 - acc: 0.6090 -- iter: 14720/21310\n"
     ]
    },
    {
     "name": "stdout",
     "output_type": "stream",
     "text": [
      "Training Step: 897  | total loss: \u001b[1m\u001b[32m0.65534\u001b[0m\u001b[0m | time: 2.576s\n\u001b[2K\r| Adam | epoch: 003 | loss: 0.65534 - acc: 0.6122 -- iter: 14784/21310\n"
     ]
    },
    {
     "name": "stdout",
     "output_type": "stream",
     "text": [
      "Training Step: 898  | total loss: \u001b[1m\u001b[32m0.65608\u001b[0m\u001b[0m | time: 2.586s\n\u001b[2K\r| Adam | epoch: 003 | loss: 0.65608 - acc: 0.6072 -- iter: 14848/21310\n"
     ]
    },
    {
     "name": "stdout",
     "output_type": "stream",
     "text": [
      "Training Step: 899  | total loss: \u001b[1m\u001b[32m0.66304\u001b[0m\u001b[0m | time: 2.600s\n\u001b[2K\r| Adam | epoch: 003 | loss: 0.66304 - acc: 0.6027 -- iter: 14912/21310\n"
     ]
    },
    {
     "name": "stdout",
     "output_type": "stream",
     "text": [
      "Training Step: 900  | total loss: \u001b[1m\u001b[32m0.66453\u001b[0m\u001b[0m | time: 2.616s\n\u001b[2K\r| Adam | epoch: 003 | loss: 0.66453 - acc: 0.6034 -- iter: 14976/21310\n--\n"
     ]
    },
    {
     "name": "stdout",
     "output_type": "stream",
     "text": [
      "Training Step: 901  | total loss: \u001b[1m\u001b[32m0.66786\u001b[0m\u001b[0m | time: 2.629s\n\u001b[2K\r| Adam | epoch: 003 | loss: 0.66786 - acc: 0.6040 -- iter: 15040/21310\n"
     ]
    },
    {
     "name": "stdout",
     "output_type": "stream",
     "text": [
      "Training Step: 902  | total loss: \u001b[1m\u001b[32m0.66405\u001b[0m\u001b[0m | time: 2.638s\n\u001b[2K\r| Adam | epoch: 003 | loss: 0.66405 - acc: 0.6061 -- iter: 15104/21310\n"
     ]
    },
    {
     "name": "stdout",
     "output_type": "stream",
     "text": [
      "Training Step: 903  | total loss: \u001b[1m\u001b[32m0.66146\u001b[0m\u001b[0m | time: 2.648s\n\u001b[2K\r| Adam | epoch: 003 | loss: 0.66146 - acc: 0.6096 -- iter: 15168/21310\n"
     ]
    },
    {
     "name": "stdout",
     "output_type": "stream",
     "text": [
      "Training Step: 904  | total loss: \u001b[1m\u001b[32m0.66021\u001b[0m\u001b[0m | time: 2.660s\n\u001b[2K\r| Adam | epoch: 003 | loss: 0.66021 - acc: 0.6095 -- iter: 15232/21310\n"
     ]
    },
    {
     "name": "stdout",
     "output_type": "stream",
     "text": [
      "Training Step: 905  | total loss: \u001b[1m\u001b[32m0.65974\u001b[0m\u001b[0m | time: 2.669s\n\u001b[2K\r| Adam | epoch: 003 | loss: 0.65974 - acc: 0.6080 -- iter: 15296/21310\n"
     ]
    },
    {
     "name": "stdout",
     "output_type": "stream",
     "text": [
      "Training Step: 906  | total loss: \u001b[1m\u001b[32m0.66332\u001b[0m\u001b[0m | time: 2.685s\n\u001b[2K\r| Adam | epoch: 003 | loss: 0.66332 - acc: 0.6003 -- iter: 15360/21310\n"
     ]
    },
    {
     "name": "stdout",
     "output_type": "stream",
     "text": [
      "Training Step: 907  | total loss: \u001b[1m\u001b[32m0.66474\u001b[0m\u001b[0m | time: 2.693s\n\u001b[2K\r| Adam | epoch: 003 | loss: 0.66474 - acc: 0.5903 -- iter: 15424/21310\n"
     ]
    },
    {
     "name": "stdout",
     "output_type": "stream",
     "text": [
      "Training Step: 908  | total loss: \u001b[1m\u001b[32m0.66518\u001b[0m\u001b[0m | time: 2.702s\n\u001b[2K\r| Adam | epoch: 003 | loss: 0.66518 - acc: 0.5828 -- iter: 15488/21310\n"
     ]
    },
    {
     "name": "stdout",
     "output_type": "stream",
     "text": [
      "Training Step: 909  | total loss: \u001b[1m\u001b[32m0.66538\u001b[0m\u001b[0m | time: 2.713s\n\u001b[2K\r| Adam | epoch: 003 | loss: 0.66538 - acc: 0.5855 -- iter: 15552/21310\n"
     ]
    },
    {
     "name": "stdout",
     "output_type": "stream",
     "text": [
      "Training Step: 910  | total loss: \u001b[1m\u001b[32m0.67917\u001b[0m\u001b[0m | time: 2.726s\n\u001b[2K\r| Adam | epoch: 003 | loss: 0.67917 - acc: 0.5566 -- iter: 15616/21310\n"
     ]
    },
    {
     "name": "stdout",
     "output_type": "stream",
     "text": [
      "Training Step: 911  | total loss: \u001b[1m\u001b[32m0.67870\u001b[0m\u001b[0m | time: 2.734s\n\u001b[2K\r| Adam | epoch: 003 | loss: 0.67870 - acc: 0.5587 -- iter: 15680/21310\n"
     ]
    },
    {
     "name": "stdout",
     "output_type": "stream",
     "text": [
      "Training Step: 912  | total loss: \u001b[1m\u001b[32m0.68378\u001b[0m\u001b[0m | time: 2.741s\n\u001b[2K\r| Adam | epoch: 003 | loss: 0.68378 - acc: 0.5482 -- iter: 15744/21310\n"
     ]
    },
    {
     "name": "stdout",
     "output_type": "stream",
     "text": [
      "Training Step: 913  | total loss: \u001b[1m\u001b[32m0.68211\u001b[0m\u001b[0m | time: 2.753s\n\u001b[2K\r| Adam | epoch: 003 | loss: 0.68211 - acc: 0.5527 -- iter: 15808/21310\n"
     ]
    },
    {
     "name": "stdout",
     "output_type": "stream",
     "text": [
      "Training Step: 914  | total loss: \u001b[1m\u001b[32m0.67977\u001b[0m\u001b[0m | time: 2.762s\n\u001b[2K\r| Adam | epoch: 003 | loss: 0.67977 - acc: 0.5615 -- iter: 15872/21310\n"
     ]
    },
    {
     "name": "stdout",
     "output_type": "stream",
     "text": [
      "Training Step: 915  | total loss: \u001b[1m\u001b[32m0.68019\u001b[0m\u001b[0m | time: 2.771s\n\u001b[2K\r| Adam | epoch: 003 | loss: 0.68019 - acc: 0.5569 -- iter: 15936/21310\n"
     ]
    },
    {
     "name": "stdout",
     "output_type": "stream",
     "text": [
      "Training Step: 916  | total loss: \u001b[1m\u001b[32m0.67882\u001b[0m\u001b[0m | time: 2.780s\n\u001b[2K\r| Adam | epoch: 003 | loss: 0.67882 - acc: 0.5591 -- iter: 16000/21310\n"
     ]
    },
    {
     "name": "stdout",
     "output_type": "stream",
     "text": [
      "Training Step: 917  | total loss: \u001b[1m\u001b[32m0.67889\u001b[0m\u001b[0m | time: 2.791s\n\u001b[2K\r| Adam | epoch: 003 | loss: 0.67889 - acc: 0.5563 -- iter: 16064/21310\n"
     ]
    },
    {
     "name": "stdout",
     "output_type": "stream",
     "text": [
      "Training Step: 918  | total loss: \u001b[1m\u001b[32m0.67727\u001b[0m\u001b[0m | time: 2.803s\n\u001b[2K\r| Adam | epoch: 003 | loss: 0.67727 - acc: 0.5600 -- iter: 16128/21310\n"
     ]
    },
    {
     "name": "stdout",
     "output_type": "stream",
     "text": [
      "Training Step: 919  | total loss: \u001b[1m\u001b[32m0.67710\u001b[0m\u001b[0m | time: 2.813s\n\u001b[2K\r| Adam | epoch: 003 | loss: 0.67710 - acc: 0.5650 -- iter: 16192/21310\n"
     ]
    },
    {
     "name": "stdout",
     "output_type": "stream",
     "text": [
      "Training Step: 920  | total loss: \u001b[1m\u001b[32m0.67806\u001b[0m\u001b[0m | time: 2.823s\n\u001b[2K\r| Adam | epoch: 003 | loss: 0.67806 - acc: 0.5600 -- iter: 16256/21310\n"
     ]
    },
    {
     "name": "stdout",
     "output_type": "stream",
     "text": [
      "Training Step: 921  | total loss: \u001b[1m\u001b[32m0.67590\u001b[0m\u001b[0m | time: 2.832s\n\u001b[2K\r| Adam | epoch: 003 | loss: 0.67590 - acc: 0.5665 -- iter: 16320/21310\n"
     ]
    },
    {
     "name": "stdout",
     "output_type": "stream",
     "text": [
      "Training Step: 922  | total loss: \u001b[1m\u001b[32m0.67738\u001b[0m\u001b[0m | time: 2.841s\n\u001b[2K\r| Adam | epoch: 003 | loss: 0.67738 - acc: 0.5614 -- iter: 16384/21310\n"
     ]
    },
    {
     "name": "stdout",
     "output_type": "stream",
     "text": [
      "Training Step: 923  | total loss: \u001b[1m\u001b[32m0.67818\u001b[0m\u001b[0m | time: 2.849s\n\u001b[2K\r| Adam | epoch: 003 | loss: 0.67818 - acc: 0.5631 -- iter: 16448/21310\n"
     ]
    },
    {
     "name": "stdout",
     "output_type": "stream",
     "text": [
      "Training Step: 924  | total loss: \u001b[1m\u001b[32m0.67774\u001b[0m\u001b[0m | time: 2.859s\n\u001b[2K\r| Adam | epoch: 003 | loss: 0.67774 - acc: 0.5646 -- iter: 16512/21310\n"
     ]
    },
    {
     "name": "stdout",
     "output_type": "stream",
     "text": [
      "Training Step: 925  | total loss: \u001b[1m\u001b[32m0.67696\u001b[0m\u001b[0m | time: 2.869s\n\u001b[2K\r| Adam | epoch: 003 | loss: 0.67696 - acc: 0.5706 -- iter: 16576/21310\n"
     ]
    },
    {
     "name": "stdout",
     "output_type": "stream",
     "text": [
      "Training Step: 926  | total loss: \u001b[1m\u001b[32m0.67412\u001b[0m\u001b[0m | time: 2.881s\n\u001b[2K\r| Adam | epoch: 003 | loss: 0.67412 - acc: 0.5839 -- iter: 16640/21310\n"
     ]
    },
    {
     "name": "stdout",
     "output_type": "stream",
     "text": [
      "Training Step: 927  | total loss: \u001b[1m\u001b[32m0.67325\u001b[0m\u001b[0m | time: 2.899s\n\u001b[2K\r| Adam | epoch: 003 | loss: 0.67325 - acc: 0.5896 -- iter: 16704/21310\n"
     ]
    },
    {
     "name": "stdout",
     "output_type": "stream",
     "text": [
      "Training Step: 928  | total loss: \u001b[1m\u001b[32m0.67167\u001b[0m\u001b[0m | time: 2.912s\n\u001b[2K\r| Adam | epoch: 003 | loss: 0.67167 - acc: 0.5931 -- iter: 16768/21310\n"
     ]
    },
    {
     "name": "stdout",
     "output_type": "stream",
     "text": [
      "Training Step: 929  | total loss: \u001b[1m\u001b[32m0.67498\u001b[0m\u001b[0m | time: 2.921s\n\u001b[2K\r| Adam | epoch: 003 | loss: 0.67498 - acc: 0.5744 -- iter: 16832/21310\n"
     ]
    },
    {
     "name": "stdout",
     "output_type": "stream",
     "text": [
      "Training Step: 930  | total loss: \u001b[1m\u001b[32m0.67129\u001b[0m\u001b[0m | time: 2.930s\n\u001b[2K\r| Adam | epoch: 003 | loss: 0.67129 - acc: 0.5842 -- iter: 16896/21310\n"
     ]
    },
    {
     "name": "stdout",
     "output_type": "stream",
     "text": [
      "Training Step: 931  | total loss: \u001b[1m\u001b[32m0.67047\u001b[0m\u001b[0m | time: 2.938s\n\u001b[2K\r| Adam | epoch: 003 | loss: 0.67047 - acc: 0.5883 -- iter: 16960/21310\n"
     ]
    },
    {
     "name": "stdout",
     "output_type": "stream",
     "text": [
      "Training Step: 932  | total loss: \u001b[1m\u001b[32m0.67161\u001b[0m\u001b[0m | time: 2.951s\n\u001b[2K\r| Adam | epoch: 003 | loss: 0.67161 - acc: 0.5888 -- iter: 17024/21310\n"
     ]
    },
    {
     "name": "stdout",
     "output_type": "stream",
     "text": [
      "Training Step: 933  | total loss: \u001b[1m\u001b[32m0.67007\u001b[0m\u001b[0m | time: 2.961s\n\u001b[2K\r| Adam | epoch: 003 | loss: 0.67007 - acc: 0.5924 -- iter: 17088/21310\n"
     ]
    },
    {
     "name": "stdout",
     "output_type": "stream",
     "text": [
      "Training Step: 934  | total loss: \u001b[1m\u001b[32m0.66911\u001b[0m\u001b[0m | time: 2.972s\n\u001b[2K\r| Adam | epoch: 003 | loss: 0.66911 - acc: 0.5910 -- iter: 17152/21310\n"
     ]
    },
    {
     "name": "stdout",
     "output_type": "stream",
     "text": [
      "Training Step: 935  | total loss: \u001b[1m\u001b[32m0.66883\u001b[0m\u001b[0m | time: 2.983s\n\u001b[2K\r| Adam | epoch: 003 | loss: 0.66883 - acc: 0.5928 -- iter: 17216/21310\n"
     ]
    },
    {
     "name": "stdout",
     "output_type": "stream",
     "text": [
      "Training Step: 936  | total loss: \u001b[1m\u001b[32m0.66513\u001b[0m\u001b[0m | time: 3.007s\n\u001b[2K\r| Adam | epoch: 003 | loss: 0.66513 - acc: 0.6007 -- iter: 17280/21310\n"
     ]
    },
    {
     "name": "stdout",
     "output_type": "stream",
     "text": [
      "Training Step: 937  | total loss: \u001b[1m\u001b[32m0.66851\u001b[0m\u001b[0m | time: 3.015s\n\u001b[2K\r| Adam | epoch: 003 | loss: 0.66851 - acc: 0.6063 -- iter: 17344/21310\n"
     ]
    },
    {
     "name": "stdout",
     "output_type": "stream",
     "text": [
      "Training Step: 938  | total loss: \u001b[1m\u001b[32m0.67083\u001b[0m\u001b[0m | time: 3.031s\n\u001b[2K\r| Adam | epoch: 003 | loss: 0.67083 - acc: 0.6003 -- iter: 17408/21310\n"
     ]
    },
    {
     "name": "stdout",
     "output_type": "stream",
     "text": [
      "Training Step: 939  | total loss: \u001b[1m\u001b[32m0.67036\u001b[0m\u001b[0m | time: 3.044s\n\u001b[2K\r| Adam | epoch: 003 | loss: 0.67036 - acc: 0.5981 -- iter: 17472/21310\n"
     ]
    },
    {
     "name": "stdout",
     "output_type": "stream",
     "text": [
      "Training Step: 940  | total loss: \u001b[1m\u001b[32m0.66966\u001b[0m\u001b[0m | time: 3.055s\n\u001b[2K\r| Adam | epoch: 003 | loss: 0.66966 - acc: 0.5883 -- iter: 17536/21310\n"
     ]
    },
    {
     "name": "stdout",
     "output_type": "stream",
     "text": [
      "Training Step: 941  | total loss: \u001b[1m\u001b[32m0.67026\u001b[0m\u001b[0m | time: 3.067s\n\u001b[2K\r| Adam | epoch: 003 | loss: 0.67026 - acc: 0.5889 -- iter: 17600/21310\n"
     ]
    },
    {
     "name": "stdout",
     "output_type": "stream",
     "text": [
      "Training Step: 942  | total loss: \u001b[1m\u001b[32m0.66813\u001b[0m\u001b[0m | time: 3.086s\n\u001b[2K\r| Adam | epoch: 003 | loss: 0.66813 - acc: 0.5909 -- iter: 17664/21310\n"
     ]
    },
    {
     "name": "stdout",
     "output_type": "stream",
     "text": [
      "Training Step: 943  | total loss: \u001b[1m\u001b[32m0.67098\u001b[0m\u001b[0m | time: 3.104s\n\u001b[2K\r| Adam | epoch: 003 | loss: 0.67098 - acc: 0.5756 -- iter: 17728/21310\n"
     ]
    },
    {
     "name": "stdout",
     "output_type": "stream",
     "text": [
      "Training Step: 944  | total loss: \u001b[1m\u001b[32m0.66732\u001b[0m\u001b[0m | time: 3.120s\n\u001b[2K\r| Adam | epoch: 003 | loss: 0.66732 - acc: 0.5852 -- iter: 17792/21310\n"
     ]
    },
    {
     "name": "stdout",
     "output_type": "stream",
     "text": [
      "Training Step: 945  | total loss: \u001b[1m\u001b[32m0.66514\u001b[0m\u001b[0m | time: 3.136s\n\u001b[2K\r| Adam | epoch: 003 | loss: 0.66514 - acc: 0.5923 -- iter: 17856/21310\n"
     ]
    },
    {
     "name": "stdout",
     "output_type": "stream",
     "text": [
      "Training Step: 946  | total loss: \u001b[1m\u001b[32m0.66809\u001b[0m\u001b[0m | time: 3.148s\n\u001b[2K\r| Adam | epoch: 003 | loss: 0.66809 - acc: 0.5831 -- iter: 17920/21310\n"
     ]
    },
    {
     "name": "stdout",
     "output_type": "stream",
     "text": [
      "Training Step: 947  | total loss: \u001b[1m\u001b[32m0.67204\u001b[0m\u001b[0m | time: 3.165s\n\u001b[2K\r| Adam | epoch: 003 | loss: 0.67204 - acc: 0.5810 -- iter: 17984/21310\n"
     ]
    },
    {
     "name": "stdout",
     "output_type": "stream",
     "text": [
      "Training Step: 948  | total loss: \u001b[1m\u001b[32m0.67634\u001b[0m\u001b[0m | time: 3.176s\n\u001b[2K\r| Adam | epoch: 003 | loss: 0.67634 - acc: 0.5682 -- iter: 18048/21310\n"
     ]
    },
    {
     "name": "stdout",
     "output_type": "stream",
     "text": [
      "Training Step: 949  | total loss: \u001b[1m\u001b[32m0.67444\u001b[0m\u001b[0m | time: 3.186s\n\u001b[2K\r| Adam | epoch: 003 | loss: 0.67444 - acc: 0.5739 -- iter: 18112/21310\n"
     ]
    },
    {
     "name": "stdout",
     "output_type": "stream",
     "text": [
      "Training Step: 950  | total loss: \u001b[1m\u001b[32m0.67344\u001b[0m\u001b[0m | time: 3.207s\n\u001b[2K\r| Adam | epoch: 003 | loss: 0.67344 - acc: 0.5665 -- iter: 18176/21310\n--\n"
     ]
    },
    {
     "name": "stdout",
     "output_type": "stream",
     "text": [
      "Training Step: 951  | total loss: \u001b[1m\u001b[32m0.67163\u001b[0m\u001b[0m | time: 3.219s\n\u001b[2K\r| Adam | epoch: 003 | loss: 0.67163 - acc: 0.5708 -- iter: 18240/21310\n"
     ]
    },
    {
     "name": "stdout",
     "output_type": "stream",
     "text": [
      "Training Step: 952  | total loss: \u001b[1m\u001b[32m0.67209\u001b[0m\u001b[0m | time: 3.234s\n\u001b[2K\r| Adam | epoch: 003 | loss: 0.67209 - acc: 0.5715 -- iter: 18304/21310\n"
     ]
    },
    {
     "name": "stdout",
     "output_type": "stream",
     "text": [
      "Training Step: 953  | total loss: \u001b[1m\u001b[32m0.67122\u001b[0m\u001b[0m | time: 3.254s\n\u001b[2K\r| Adam | epoch: 003 | loss: 0.67122 - acc: 0.5722 -- iter: 18368/21310\n"
     ]
    },
    {
     "name": "stdout",
     "output_type": "stream",
     "text": [
      "Training Step: 954  | total loss: \u001b[1m\u001b[32m0.67076\u001b[0m\u001b[0m | time: 3.269s\n\u001b[2K\r| Adam | epoch: 003 | loss: 0.67076 - acc: 0.5759 -- iter: 18432/21310\n"
     ]
    },
    {
     "name": "stdout",
     "output_type": "stream",
     "text": [
      "Training Step: 955  | total loss: \u001b[1m\u001b[32m0.67157\u001b[0m\u001b[0m | time: 3.288s\n\u001b[2K\r| Adam | epoch: 003 | loss: 0.67157 - acc: 0.5730 -- iter: 18496/21310\n"
     ]
    },
    {
     "name": "stdout",
     "output_type": "stream",
     "text": [
      "Training Step: 956  | total loss: \u001b[1m\u001b[32m0.67343\u001b[0m\u001b[0m | time: 3.302s\n\u001b[2K\r| Adam | epoch: 003 | loss: 0.67343 - acc: 0.5704 -- iter: 18560/21310\n"
     ]
    },
    {
     "name": "stdout",
     "output_type": "stream",
     "text": [
      "Training Step: 957  | total loss: \u001b[1m\u001b[32m0.67186\u001b[0m\u001b[0m | time: 3.315s\n\u001b[2K\r| Adam | epoch: 003 | loss: 0.67186 - acc: 0.5774 -- iter: 18624/21310\n"
     ]
    },
    {
     "name": "stdout",
     "output_type": "stream",
     "text": [
      "Training Step: 958  | total loss: \u001b[1m\u001b[32m0.67231\u001b[0m\u001b[0m | time: 3.328s\n\u001b[2K\r| Adam | epoch: 003 | loss: 0.67231 - acc: 0.5665 -- iter: 18688/21310\n"
     ]
    },
    {
     "name": "stdout",
     "output_type": "stream",
     "text": [
      "Training Step: 959  | total loss: \u001b[1m\u001b[32m0.67119\u001b[0m\u001b[0m | time: 3.341s\n\u001b[2K\r| Adam | epoch: 003 | loss: 0.67119 - acc: 0.5708 -- iter: 18752/21310\n"
     ]
    },
    {
     "name": "stdout",
     "output_type": "stream",
     "text": [
      "Training Step: 960  | total loss: \u001b[1m\u001b[32m0.66902\u001b[0m\u001b[0m | time: 3.356s\n\u001b[2K\r| Adam | epoch: 003 | loss: 0.66902 - acc: 0.5778 -- iter: 18816/21310\n"
     ]
    },
    {
     "name": "stdout",
     "output_type": "stream",
     "text": [
      "Training Step: 961  | total loss: \u001b[1m\u001b[32m0.66760\u001b[0m\u001b[0m | time: 3.365s\n\u001b[2K\r| Adam | epoch: 003 | loss: 0.66760 - acc: 0.5857 -- iter: 18880/21310\n"
     ]
    },
    {
     "name": "stdout",
     "output_type": "stream",
     "text": [
      "Training Step: 962  | total loss: \u001b[1m\u001b[32m0.66654\u001b[0m\u001b[0m | time: 3.380s\n\u001b[2K\r| Adam | epoch: 003 | loss: 0.66654 - acc: 0.5927 -- iter: 18944/21310\n"
     ]
    },
    {
     "name": "stdout",
     "output_type": "stream",
     "text": [
      "Training Step: 963  | total loss: \u001b[1m\u001b[32m0.66763\u001b[0m\u001b[0m | time: 3.389s\n\u001b[2K\r| Adam | epoch: 003 | loss: 0.66763 - acc: 0.5991 -- iter: 19008/21310\n"
     ]
    },
    {
     "name": "stdout",
     "output_type": "stream",
     "text": [
      "Training Step: 964  | total loss: \u001b[1m\u001b[32m0.66721\u001b[0m\u001b[0m | time: 3.402s\n\u001b[2K\r| Adam | epoch: 003 | loss: 0.66721 - acc: 0.5970 -- iter: 19072/21310\n"
     ]
    },
    {
     "name": "stdout",
     "output_type": "stream",
     "text": [
      "Training Step: 965  | total loss: \u001b[1m\u001b[32m0.66666\u001b[0m\u001b[0m | time: 3.412s\n\u001b[2K\r| Adam | epoch: 003 | loss: 0.66666 - acc: 0.5951 -- iter: 19136/21310\n"
     ]
    },
    {
     "name": "stdout",
     "output_type": "stream",
     "text": [
      "Training Step: 966  | total loss: \u001b[1m\u001b[32m0.66429\u001b[0m\u001b[0m | time: 3.422s\n\u001b[2K\r| Adam | epoch: 003 | loss: 0.66429 - acc: 0.5934 -- iter: 19200/21310\n"
     ]
    },
    {
     "name": "stdout",
     "output_type": "stream",
     "text": [
      "Training Step: 967  | total loss: \u001b[1m\u001b[32m0.66790\u001b[0m\u001b[0m | time: 3.432s\n\u001b[2K\r| Adam | epoch: 003 | loss: 0.66790 - acc: 0.5856 -- iter: 19264/21310\n"
     ]
    },
    {
     "name": "stdout",
     "output_type": "stream",
     "text": [
      "Training Step: 968  | total loss: \u001b[1m\u001b[32m0.66856\u001b[0m\u001b[0m | time: 3.445s\n\u001b[2K\r| Adam | epoch: 003 | loss: 0.66856 - acc: 0.5833 -- iter: 19328/21310\n"
     ]
    },
    {
     "name": "stdout",
     "output_type": "stream",
     "text": [
      "Training Step: 969  | total loss: \u001b[1m\u001b[32m0.66070\u001b[0m\u001b[0m | time: 3.454s\n\u001b[2K\r| Adam | epoch: 003 | loss: 0.66070 - acc: 0.5984 -- iter: 19392/21310\n"
     ]
    },
    {
     "name": "stdout",
     "output_type": "stream",
     "text": [
      "Training Step: 970  | total loss: \u001b[1m\u001b[32m0.66201\u001b[0m\u001b[0m | time: 3.465s\n\u001b[2K\r| Adam | epoch: 003 | loss: 0.66201 - acc: 0.5964 -- iter: 19456/21310\n"
     ]
    },
    {
     "name": "stdout",
     "output_type": "stream",
     "text": [
      "Training Step: 971  | total loss: \u001b[1m\u001b[32m0.66227\u001b[0m\u001b[0m | time: 3.475s\n\u001b[2K\r| Adam | epoch: 003 | loss: 0.66227 - acc: 0.5946 -- iter: 19520/21310\n"
     ]
    },
    {
     "name": "stdout",
     "output_type": "stream",
     "text": [
      "Training Step: 972  | total loss: \u001b[1m\u001b[32m0.66607\u001b[0m\u001b[0m | time: 3.491s\n\u001b[2K\r| Adam | epoch: 003 | loss: 0.66607 - acc: 0.5898 -- iter: 19584/21310\n"
     ]
    },
    {
     "name": "stdout",
     "output_type": "stream",
     "text": [
      "Training Step: 973  | total loss: \u001b[1m\u001b[32m0.66867\u001b[0m\u001b[0m | time: 3.503s\n\u001b[2K\r| Adam | epoch: 003 | loss: 0.66867 - acc: 0.5871 -- iter: 19648/21310\n"
     ]
    },
    {
     "name": "stdout",
     "output_type": "stream",
     "text": [
      "Training Step: 974  | total loss: \u001b[1m\u001b[32m0.66795\u001b[0m\u001b[0m | time: 3.512s\n\u001b[2K\r| Adam | epoch: 003 | loss: 0.66795 - acc: 0.5893 -- iter: 19712/21310\n"
     ]
    },
    {
     "name": "stdout",
     "output_type": "stream",
     "text": [
      "Training Step: 975  | total loss: \u001b[1m\u001b[32m0.66475\u001b[0m\u001b[0m | time: 3.522s\n\u001b[2K\r| Adam | epoch: 003 | loss: 0.66475 - acc: 0.5991 -- iter: 19776/21310\n"
     ]
    },
    {
     "name": "stdout",
     "output_type": "stream",
     "text": [
      "Training Step: 976  | total loss: \u001b[1m\u001b[32m0.66389\u001b[0m\u001b[0m | time: 3.531s\n\u001b[2K\r| Adam | epoch: 003 | loss: 0.66389 - acc: 0.5955 -- iter: 19840/21310\n"
     ]
    },
    {
     "name": "stdout",
     "output_type": "stream",
     "text": [
      "Training Step: 977  | total loss: \u001b[1m\u001b[32m0.66722\u001b[0m\u001b[0m | time: 3.540s\n\u001b[2K\r| Adam | epoch: 003 | loss: 0.66722 - acc: 0.5875 -- iter: 19904/21310\n"
     ]
    },
    {
     "name": "stdout",
     "output_type": "stream",
     "text": [
      "Training Step: 978  | total loss: \u001b[1m\u001b[32m0.66818\u001b[0m\u001b[0m | time: 3.549s\n\u001b[2K\r| Adam | epoch: 003 | loss: 0.66818 - acc: 0.5865 -- iter: 19968/21310\n"
     ]
    },
    {
     "name": "stdout",
     "output_type": "stream",
     "text": [
      "Training Step: 979  | total loss: \u001b[1m\u001b[32m0.66835\u001b[0m\u001b[0m | time: 3.558s\n\u001b[2K\r| Adam | epoch: 003 | loss: 0.66835 - acc: 0.5857 -- iter: 20032/21310\n"
     ]
    },
    {
     "name": "stdout",
     "output_type": "stream",
     "text": [
      "Training Step: 980  | total loss: \u001b[1m\u001b[32m0.66760\u001b[0m\u001b[0m | time: 3.566s\n\u001b[2K\r| Adam | epoch: 003 | loss: 0.66760 - acc: 0.5881 -- iter: 20096/21310\n"
     ]
    },
    {
     "name": "stdout",
     "output_type": "stream",
     "text": [
      "Training Step: 981  | total loss: \u001b[1m\u001b[32m0.66451\u001b[0m\u001b[0m | time: 3.578s\n\u001b[2K\r| Adam | epoch: 003 | loss: 0.66451 - acc: 0.5918 -- iter: 20160/21310\n"
     ]
    },
    {
     "name": "stdout",
     "output_type": "stream",
     "text": [
      "Training Step: 982  | total loss: \u001b[1m\u001b[32m0.66124\u001b[0m\u001b[0m | time: 3.589s\n\u001b[2K\r| Adam | epoch: 003 | loss: 0.66124 - acc: 0.5998 -- iter: 20224/21310\n"
     ]
    },
    {
     "name": "stdout",
     "output_type": "stream",
     "text": [
      "Training Step: 983  | total loss: \u001b[1m\u001b[32m0.66065\u001b[0m\u001b[0m | time: 3.601s\n\u001b[2K\r| Adam | epoch: 003 | loss: 0.66065 - acc: 0.6054 -- iter: 20288/21310\n"
     ]
    },
    {
     "name": "stdout",
     "output_type": "stream",
     "text": [
      "Training Step: 984  | total loss: \u001b[1m\u001b[32m0.65780\u001b[0m\u001b[0m | time: 3.610s\n\u001b[2K\r| Adam | epoch: 003 | loss: 0.65780 - acc: 0.6042 -- iter: 20352/21310\n"
     ]
    },
    {
     "name": "stdout",
     "output_type": "stream",
     "text": [
      "Training Step: 985  | total loss: \u001b[1m\u001b[32m0.65772\u001b[0m\u001b[0m | time: 3.622s\n\u001b[2K\r| Adam | epoch: 003 | loss: 0.65772 - acc: 0.6063 -- iter: 20416/21310\n"
     ]
    },
    {
     "name": "stdout",
     "output_type": "stream",
     "text": [
      "Training Step: 986  | total loss: \u001b[1m\u001b[32m0.65365\u001b[0m\u001b[0m | time: 3.632s\n\u001b[2K\r| Adam | epoch: 003 | loss: 0.65365 - acc: 0.6051 -- iter: 20480/21310\n"
     ]
    },
    {
     "name": "stdout",
     "output_type": "stream",
     "text": [
      "Training Step: 987  | total loss: \u001b[1m\u001b[32m0.65856\u001b[0m\u001b[0m | time: 3.642s\n\u001b[2K\r| Adam | epoch: 003 | loss: 0.65856 - acc: 0.5930 -- iter: 20544/21310\n"
     ]
    },
    {
     "name": "stdout",
     "output_type": "stream",
     "text": [
      "Training Step: 988  | total loss: \u001b[1m\u001b[32m0.65665\u001b[0m\u001b[0m | time: 3.651s\n\u001b[2K\r| Adam | epoch: 003 | loss: 0.65665 - acc: 0.5946 -- iter: 20608/21310\n"
     ]
    },
    {
     "name": "stdout",
     "output_type": "stream",
     "text": [
      "Training Step: 989  | total loss: \u001b[1m\u001b[32m0.65791\u001b[0m\u001b[0m | time: 3.678s\n\u001b[2K\r| Adam | epoch: 003 | loss: 0.65791 - acc: 0.5977 -- iter: 20672/21310\n"
     ]
    },
    {
     "name": "stdout",
     "output_type": "stream",
     "text": [
      "Training Step: 990  | total loss: \u001b[1m\u001b[32m0.65787\u001b[0m\u001b[0m | time: 3.689s\n\u001b[2K\r| Adam | epoch: 003 | loss: 0.65787 - acc: 0.5988 -- iter: 20736/21310\n"
     ]
    },
    {
     "name": "stdout",
     "output_type": "stream",
     "text": [
      "Training Step: 991  | total loss: \u001b[1m\u001b[32m0.65749\u001b[0m\u001b[0m | time: 3.702s\n\u001b[2K\r| Adam | epoch: 003 | loss: 0.65749 - acc: 0.5952 -- iter: 20800/21310\n"
     ]
    },
    {
     "name": "stdout",
     "output_type": "stream",
     "text": [
      "Training Step: 992  | total loss: \u001b[1m\u001b[32m0.65456\u001b[0m\u001b[0m | time: 3.715s\n\u001b[2K\r| Adam | epoch: 003 | loss: 0.65456 - acc: 0.5982 -- iter: 20864/21310\n"
     ]
    },
    {
     "name": "stdout",
     "output_type": "stream",
     "text": [
      "Training Step: 993  | total loss: \u001b[1m\u001b[32m0.65035\u001b[0m\u001b[0m | time: 3.725s\n\u001b[2K\r| Adam | epoch: 003 | loss: 0.65035 - acc: 0.6040 -- iter: 20928/21310\n"
     ]
    },
    {
     "name": "stdout",
     "output_type": "stream",
     "text": [
      "Training Step: 994  | total loss: \u001b[1m\u001b[32m0.65422\u001b[0m\u001b[0m | time: 3.733s\n\u001b[2K\r| Adam | epoch: 003 | loss: 0.65422 - acc: 0.5952 -- iter: 20992/21310\n"
     ]
    },
    {
     "name": "stdout",
     "output_type": "stream",
     "text": [
      "Training Step: 995  | total loss: \u001b[1m\u001b[32m0.65536\u001b[0m\u001b[0m | time: 3.745s\n\u001b[2K\r| Adam | epoch: 003 | loss: 0.65536 - acc: 0.5966 -- iter: 21056/21310\n"
     ]
    },
    {
     "name": "stdout",
     "output_type": "stream",
     "text": [
      "Training Step: 996  | total loss: \u001b[1m\u001b[32m0.65445\u001b[0m\u001b[0m | time: 3.757s\n\u001b[2K\r| Adam | epoch: 003 | loss: 0.65445 - acc: 0.6010 -- iter: 21120/21310\n"
     ]
    },
    {
     "name": "stdout",
     "output_type": "stream",
     "text": [
      "Training Step: 997  | total loss: \u001b[1m\u001b[32m0.65419\u001b[0m\u001b[0m | time: 3.767s\n\u001b[2K\r| Adam | epoch: 003 | loss: 0.65419 - acc: 0.6034 -- iter: 21184/21310\n"
     ]
    },
    {
     "name": "stdout",
     "output_type": "stream",
     "text": [
      "Training Step: 998  | total loss: \u001b[1m\u001b[32m0.65320\u001b[0m\u001b[0m | time: 3.777s\n\u001b[2K\r| Adam | epoch: 003 | loss: 0.65320 - acc: 0.6071 -- iter: 21248/21310\n"
     ]
    },
    {
     "name": "stdout",
     "output_type": "stream",
     "text": [
      "Training Step: 999  | total loss: \u001b[1m\u001b[32m0.65865\u001b[0m\u001b[0m | time: 3.786s\n\u001b[2K\r| Adam | epoch: 003 | loss: 0.65865 - acc: 0.6011 -- iter: 21310/21310\n--\n"
     ]
    }
   ],
   "source": [
    "model = train_model(training_data)"
   ]
  },
  {
   "cell_type": "code",
   "execution_count": 21,
   "metadata": {},
   "outputs": [
    {
     "name": "stdout",
     "output_type": "stream",
     "text": [
      "Average Score: 32656.47\n",
      "Choice 1: 0.4999811675909858, Choice 0: 0.5000188324090142\n",
      "Counter({90000.0: 36, 309.0: 2, 90.0: 2, 115.0: 2, 256.0: 1, 129.0: 1, 387.0: 1, 132.0: 1, 385.0: 1, 393.0: 1, 1292.0: 1, 1731.0: 1, 404.0: 1, 405.0: 1, 793.0: 1, 543.0: 1, 297.0: 1, 1341.0: 1, 300.0: 1, 301.0: 1, 814.0: 1, 303.0: 1, 304.0: 1, 308.0: 1, 310.0: 1, 183.0: 1, 312.0: 1, 2237.0: 1, 449.0: 1, 579.0: 1, 452.0: 1, 328.0: 1, 457.0: 1, 330.0: 1, 461.0: 1, 79.0: 1, 592.0: 1, 337.0: 1, 255.0: 1, 340.0: 1, 213.0: 1, 92.0: 1, 477.0: 1, 478.0: 1, 480.0: 1, 720.0: 1, 98.0: 1, 99.0: 1, 484.0: 1, 229.0: 1, 359.0: 1, 104.0: 1, 82.0: 1, 110.0: 1, 239.0: 1, 759.0: 1, 248.0: 1, 249.0: 1, 123.0: 1, 252.0: 1, 120.0: 1, 85.0: 1})\n"
     ]
    }
   ],
   "source": [
    "accepted_scores = []\n",
    "score_requirement = 500\n",
    "scores = []\n",
    "choices = []\n",
    "goal_steps = 90000\n",
    "for each_game in range(100):\n",
    "    score = 0\n",
    "    game_memory = []\n",
    "    prev_obs = []\n",
    "    env.reset()\n",
    "    for _ in range(goal_steps):\n",
    "        env.render()\n",
    "        if len(prev_obs) == 0:\n",
    "            action = random.randrange(0,2)\n",
    "        else:\n",
    "            action = np.argmax(model.predict(prev_obs.reshape(-1, len(prev_obs), 1))[0])\n",
    "#             print(model.predict(prev_obs.reshape(-1, len(prev_obs), 1))[0])\n",
    "        choices.append(action)\n",
    "\n",
    "        new_observation, reward, done, info = env.step(action)\n",
    "        prev_obs = new_observation\n",
    "        game_memory.append([new_observation, action])\n",
    "        score += reward\n",
    "        # print('Score:', score, ' Reward:', reward)\n",
    "        if done:\n",
    "            break\n",
    "                \n",
    "    if score >= score_requirement:\n",
    "        accepted_scores.append(score)\n",
    "        for data in game_memory:\n",
    "            if data[1] == 1:\n",
    "                output = [0,1]\n",
    "            elif data[1] == 0:\n",
    "                output = [1,0]\n",
    "\n",
    "            training_data.append([data[0], output])\n",
    "                \n",
    "    scores.append(score)\n",
    "\n",
    "print('Average Score:', sum(scores)/len(scores))\n",
    "print('Choice 1: {}, Choice 0: {}'.format(choices.count(1)/len(choices),\n",
    "                                          choices.count(0)/len(choices)))\n",
    "print(Counter(scores))\n",
    "\n",
    "# print('Average Score:', sum(scores)/len(scores))\n",
    "\n",
    "\n",
    "# print(initial_population()[0][0].reshape(-1, 4, 1))"
   ]
  },
  {
   "cell_type": "code",
   "execution_count": 22,
   "metadata": {},
   "outputs": [
    {
     "name": "stdout",
     "output_type": "stream",
     "text": [
      "INFO:tensorflow:/home/xzhe/PycharmProjects/Openaiexample/32656.model is not in all_model_checkpoint_paths. Manually adding it.\n"
     ]
    }
   ],
   "source": [
    "model.save('32656.model')"
   ]
  },
  {
   "cell_type": "code",
   "execution_count": 2,
   "metadata": {},
   "outputs": [],
   "source": [
    "# model.load('32656.model')"
   ]
  },
  {
   "cell_type": "code",
   "execution_count": 18,
   "metadata": {},
   "outputs": [
    {
     "name": "stdout",
     "output_type": "stream",
     "text": [
      "INFO:tensorflow:Restoring parameters from /home/xzhe/PycharmProjects/Openaiexample/385.model\n"
     ]
    }
   ],
   "source": [
    "model.load('385.model')"
   ]
  },
  {
   "cell_type": "code",
   "execution_count": 1,
   "metadata": {},
   "outputs": [],
   "source": [
    "# accepted_scores = []\n",
    "# score_requirement = 500\n",
    "# \n",
    "# for i in range(20):    \n",
    "# \n",
    "#     model = train_model(training_data)\n",
    "#     print(training_data)\n",
    "# \n",
    "#     scores = []\n",
    "#     choices = []\n",
    "#     for each_game in range(100):\n",
    "#         score = 0\n",
    "#         game_memory = []\n",
    "#         prev_obs = []\n",
    "#         env.reset()\n",
    "#         for _ in range(goal_steps):\n",
    "#             env.render()\n",
    "#             if len(prev_obs) == 0:\n",
    "#                 action = random.randrange(0,2)\n",
    "#             else:\n",
    "#                 action = np.argmax(model.predict(prev_obs.reshape(-1, len(prev_obs), 1))[0])\n",
    "#                 print(model.predict(prev_obs.reshape(-1, len(prev_obs), 1))[0])\n",
    "#             choices.append(action)\n",
    "# \n",
    "#             new_observation, reward, done, info = env.step(action)\n",
    "#             prev_obs = new_observation\n",
    "#             game_memory.append([new_observation, action])\n",
    "#             score += reward\n",
    "#         # print('Score:', score, ' Reward:', reward)\n",
    "#             input(done)\n",
    "#             if done:\n",
    "#                 break\n",
    "#                 \n",
    "#         if score >= score_requirement:\n",
    "#             accepted_scores.append(score)\n",
    "#             for data in game_memory:\n",
    "#                 if data[1] == 1:\n",
    "#                     output = [0,1]\n",
    "#                 elif data[1] == 0:\n",
    "#                     output = [1,0]\n",
    "# \n",
    "#                 training_data.append([data[0], output])\n",
    "#                 \n",
    "#         scores.append(score)\n",
    "# \n",
    "#     print('Average Score:', sum(scores)/len(scores))\n",
    "#     print('Choice 1: {}, Choice 0: {}'.format(choices.count(1)/len(choices),\n",
    "#                                           choices.count(0)/len(choices)))\n",
    "#     print(Counter(scores))\n",
    "# \n",
    "# # print('Average Score:', sum(scores)/len(scores))\n",
    "# \n",
    "# \n",
    "# # print(initial_population()[0][0].reshape(-1, 4, 1))"
   ]
  },
  {
   "cell_type": "code",
   "execution_count": null,
   "metadata": {},
   "outputs": [],
   "source": []
  }
 ],
 "metadata": {
  "kernelspec": {
   "display_name": "Python 3",
   "language": "python",
   "name": "python3"
  },
  "language_info": {
   "codemirror_mode": {
    "name": "ipython",
    "version": 3
   },
   "file_extension": ".py",
   "mimetype": "text/x-python",
   "name": "python",
   "nbconvert_exporter": "python",
   "pygments_lexer": "ipython3",
   "version": "3.5.2"
  }
 },
 "nbformat": 4,
 "nbformat_minor": 1
}
